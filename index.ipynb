{
 "cells": [
  {
   "cell_type": "markdown",
   "metadata": {},
   "source": [
    "### Purpose "
   ]
  },
  {
   "cell_type": "markdown",
   "metadata": {},
   "source": [
    "Inspired by [this post](https://bokeh.github.io/blog/2017/7/5/idiomatic_bokeh/), we show how to use the Bokeh models API to create new charts, in particular we are interested in metric visualization for the LSST DM [verification framework](https://sqr-019.lsst.io)."
   ]
  },
  {
   "cell_type": "markdown",
   "metadata": {},
   "source": [
    "### Setup"
   ]
  },
  {
   "cell_type": "markdown",
   "metadata": {},
   "source": [
    "This technical note is available as a Jupyter notebook from its [GitHub repository](https://github.com/lsst-sqre/sqr-022)."
   ]
  },
  {
   "cell_type": "code",
   "execution_count": 1,
   "metadata": {},
   "outputs": [
    {
     "data": {
      "text/html": [
       "\n",
       "    <div class=\"bk-root\">\n",
       "        <a href=\"https://bokeh.pydata.org\" target=\"_blank\" class=\"bk-logo bk-logo-small bk-logo-notebook\"></a>\n",
       "        <span id=\"7d002a29-5c0b-428f-9009-88094075c3c0\">Loading BokehJS ...</span>\n",
       "    </div>"
      ]
     },
     "metadata": {},
     "output_type": "display_data"
    },
    {
     "data": {
      "application/javascript": [
       "\n",
       "(function(root) {\n",
       "  function now() {\n",
       "    return new Date();\n",
       "  }\n",
       "\n",
       "  var force = true;\n",
       "\n",
       "  if (typeof (root._bokeh_onload_callbacks) === \"undefined\" || force === true) {\n",
       "    root._bokeh_onload_callbacks = [];\n",
       "    root._bokeh_is_loading = undefined;\n",
       "  }\n",
       "\n",
       "  var JS_MIME_TYPE = 'application/javascript';\n",
       "  var HTML_MIME_TYPE = 'text/html';\n",
       "  var EXEC_MIME_TYPE = 'application/vnd.bokehjs_exec.v0+json';\n",
       "  var CLASS_NAME = 'output_bokeh rendered_html';\n",
       "\n",
       "  /**\n",
       "   * Render data to the DOM node\n",
       "   */\n",
       "  function render(props, node) {\n",
       "    var script = document.createElement(\"script\");\n",
       "    node.appendChild(script);\n",
       "  }\n",
       "\n",
       "  /**\n",
       "   * Handle when an output is cleared or removed\n",
       "   */\n",
       "  function handleClearOutput(event, handle) {\n",
       "    var cell = handle.cell;\n",
       "\n",
       "    var id = cell.output_area._bokeh_element_id;\n",
       "    var server_id = cell.output_area._bokeh_server_id;\n",
       "    // Clean up Bokeh references\n",
       "    if (id !== undefined) {\n",
       "      Bokeh.index[id].model.document.clear();\n",
       "      delete Bokeh.index[id];\n",
       "    }\n",
       "\n",
       "    if (server_id !== undefined) {\n",
       "      // Clean up Bokeh references\n",
       "      var cmd = \"from bokeh.io.state import curstate; print(curstate().uuid_to_server['\" + server_id + \"'].get_sessions()[0].document.roots[0]._id)\";\n",
       "      cell.notebook.kernel.execute(cmd, {\n",
       "        iopub: {\n",
       "          output: function(msg) {\n",
       "            var element_id = msg.content.text.trim();\n",
       "            Bokeh.index[element_id].model.document.clear();\n",
       "            delete Bokeh.index[element_id];\n",
       "          }\n",
       "        }\n",
       "      });\n",
       "      // Destroy server and session\n",
       "      var cmd = \"import bokeh.io.notebook as ion; ion.destroy_server('\" + server_id + \"')\";\n",
       "      cell.notebook.kernel.execute(cmd);\n",
       "    }\n",
       "  }\n",
       "\n",
       "  /**\n",
       "   * Handle when a new output is added\n",
       "   */\n",
       "  function handleAddOutput(event, handle) {\n",
       "    var output_area = handle.output_area;\n",
       "    var output = handle.output;\n",
       "\n",
       "    // limit handleAddOutput to display_data with EXEC_MIME_TYPE content only\n",
       "    if ((output.output_type != \"display_data\") || (!output.data.hasOwnProperty(EXEC_MIME_TYPE))) {\n",
       "      return\n",
       "    }\n",
       "\n",
       "    var toinsert = output_area.element.find(\".\" + CLASS_NAME.split(' ')[0]);\n",
       "\n",
       "    if (output.metadata[EXEC_MIME_TYPE][\"id\"] !== undefined) {\n",
       "      toinsert[toinsert.length - 1].firstChild.textContent = output.data[JS_MIME_TYPE];\n",
       "      // store reference to embed id on output_area\n",
       "      output_area._bokeh_element_id = output.metadata[EXEC_MIME_TYPE][\"id\"];\n",
       "    }\n",
       "    if (output.metadata[EXEC_MIME_TYPE][\"server_id\"] !== undefined) {\n",
       "      var bk_div = document.createElement(\"div\");\n",
       "      bk_div.innerHTML = output.data[HTML_MIME_TYPE];\n",
       "      var script_attrs = bk_div.children[0].attributes;\n",
       "      for (var i = 0; i < script_attrs.length; i++) {\n",
       "        toinsert[toinsert.length - 1].firstChild.setAttribute(script_attrs[i].name, script_attrs[i].value);\n",
       "      }\n",
       "      // store reference to server id on output_area\n",
       "      output_area._bokeh_server_id = output.metadata[EXEC_MIME_TYPE][\"server_id\"];\n",
       "    }\n",
       "  }\n",
       "\n",
       "  function register_renderer(events, OutputArea) {\n",
       "\n",
       "    function append_mime(data, metadata, element) {\n",
       "      // create a DOM node to render to\n",
       "      var toinsert = this.create_output_subarea(\n",
       "        metadata,\n",
       "        CLASS_NAME,\n",
       "        EXEC_MIME_TYPE\n",
       "      );\n",
       "      this.keyboard_manager.register_events(toinsert);\n",
       "      // Render to node\n",
       "      var props = {data: data, metadata: metadata[EXEC_MIME_TYPE]};\n",
       "      render(props, toinsert[toinsert.length - 1]);\n",
       "      element.append(toinsert);\n",
       "      return toinsert\n",
       "    }\n",
       "\n",
       "    /* Handle when an output is cleared or removed */\n",
       "    events.on('clear_output.CodeCell', handleClearOutput);\n",
       "    events.on('delete.Cell', handleClearOutput);\n",
       "\n",
       "    /* Handle when a new output is added */\n",
       "    events.on('output_added.OutputArea', handleAddOutput);\n",
       "\n",
       "    /**\n",
       "     * Register the mime type and append_mime function with output_area\n",
       "     */\n",
       "    OutputArea.prototype.register_mime_type(EXEC_MIME_TYPE, append_mime, {\n",
       "      /* Is output safe? */\n",
       "      safe: true,\n",
       "      /* Index of renderer in `output_area.display_order` */\n",
       "      index: 0\n",
       "    });\n",
       "  }\n",
       "\n",
       "  // register the mime type if in Jupyter Notebook environment and previously unregistered\n",
       "  if (root.Jupyter !== undefined) {\n",
       "    var events = require('base/js/events');\n",
       "    var OutputArea = require('notebook/js/outputarea').OutputArea;\n",
       "\n",
       "    if (OutputArea.prototype.mime_types().indexOf(EXEC_MIME_TYPE) == -1) {\n",
       "      register_renderer(events, OutputArea);\n",
       "    }\n",
       "  }\n",
       "\n",
       "  \n",
       "  if (typeof (root._bokeh_timeout) === \"undefined\" || force === true) {\n",
       "    root._bokeh_timeout = Date.now() + 5000;\n",
       "    root._bokeh_failed_load = false;\n",
       "  }\n",
       "\n",
       "  var NB_LOAD_WARNING = {'data': {'text/html':\n",
       "     \"<div style='background-color: #fdd'>\\n\"+\n",
       "     \"<p>\\n\"+\n",
       "     \"BokehJS does not appear to have successfully loaded. If loading BokehJS from CDN, this \\n\"+\n",
       "     \"may be due to a slow or bad network connection. Possible fixes:\\n\"+\n",
       "     \"</p>\\n\"+\n",
       "     \"<ul>\\n\"+\n",
       "     \"<li>re-rerun `output_notebook()` to attempt to load from CDN again, or</li>\\n\"+\n",
       "     \"<li>use INLINE resources instead, as so:</li>\\n\"+\n",
       "     \"</ul>\\n\"+\n",
       "     \"<code>\\n\"+\n",
       "     \"from bokeh.resources import INLINE\\n\"+\n",
       "     \"output_notebook(resources=INLINE)\\n\"+\n",
       "     \"</code>\\n\"+\n",
       "     \"</div>\"}};\n",
       "\n",
       "  function display_loaded() {\n",
       "    var el = document.getElementById(\"7d002a29-5c0b-428f-9009-88094075c3c0\");\n",
       "    if (el != null) {\n",
       "      el.textContent = \"BokehJS is loading...\";\n",
       "    }\n",
       "    if (root.Bokeh !== undefined) {\n",
       "      if (el != null) {\n",
       "        el.textContent = \"BokehJS \" + root.Bokeh.version + \" successfully loaded.\";\n",
       "      }\n",
       "    } else if (Date.now() < root._bokeh_timeout) {\n",
       "      setTimeout(display_loaded, 100)\n",
       "    }\n",
       "  }\n",
       "\n",
       "\n",
       "  function run_callbacks() {\n",
       "    try {\n",
       "      root._bokeh_onload_callbacks.forEach(function(callback) { callback() });\n",
       "    }\n",
       "    finally {\n",
       "      delete root._bokeh_onload_callbacks\n",
       "    }\n",
       "    console.info(\"Bokeh: all callbacks have finished\");\n",
       "  }\n",
       "\n",
       "  function load_libs(js_urls, callback) {\n",
       "    root._bokeh_onload_callbacks.push(callback);\n",
       "    if (root._bokeh_is_loading > 0) {\n",
       "      console.log(\"Bokeh: BokehJS is being loaded, scheduling callback at\", now());\n",
       "      return null;\n",
       "    }\n",
       "    if (js_urls == null || js_urls.length === 0) {\n",
       "      run_callbacks();\n",
       "      return null;\n",
       "    }\n",
       "    console.log(\"Bokeh: BokehJS not loaded, scheduling load and callback at\", now());\n",
       "    root._bokeh_is_loading = js_urls.length;\n",
       "    for (var i = 0; i < js_urls.length; i++) {\n",
       "      var url = js_urls[i];\n",
       "      var s = document.createElement('script');\n",
       "      s.src = url;\n",
       "      s.async = false;\n",
       "      s.onreadystatechange = s.onload = function() {\n",
       "        root._bokeh_is_loading--;\n",
       "        if (root._bokeh_is_loading === 0) {\n",
       "          console.log(\"Bokeh: all BokehJS libraries loaded\");\n",
       "          run_callbacks()\n",
       "        }\n",
       "      };\n",
       "      s.onerror = function() {\n",
       "        console.warn(\"failed to load library \" + url);\n",
       "      };\n",
       "      console.log(\"Bokeh: injecting script tag for BokehJS library: \", url);\n",
       "      document.getElementsByTagName(\"head\")[0].appendChild(s);\n",
       "    }\n",
       "  };var element = document.getElementById(\"7d002a29-5c0b-428f-9009-88094075c3c0\");\n",
       "  if (element == null) {\n",
       "    console.log(\"Bokeh: ERROR: autoload.js configured with elementid '7d002a29-5c0b-428f-9009-88094075c3c0' but no matching script tag was found. \")\n",
       "    return false;\n",
       "  }\n",
       "\n",
       "  var js_urls = [\"https://cdn.pydata.org/bokeh/release/bokeh-0.12.16.min.js\", \"https://cdn.pydata.org/bokeh/release/bokeh-widgets-0.12.16.min.js\", \"https://cdn.pydata.org/bokeh/release/bokeh-tables-0.12.16.min.js\", \"https://cdn.pydata.org/bokeh/release/bokeh-gl-0.12.16.min.js\"];\n",
       "\n",
       "  var inline_js = [\n",
       "    function(Bokeh) {\n",
       "      Bokeh.set_log_level(\"info\");\n",
       "    },\n",
       "    \n",
       "    function(Bokeh) {\n",
       "      \n",
       "    },\n",
       "    function(Bokeh) {\n",
       "      console.log(\"Bokeh: injecting CSS: https://cdn.pydata.org/bokeh/release/bokeh-0.12.16.min.css\");\n",
       "      Bokeh.embed.inject_css(\"https://cdn.pydata.org/bokeh/release/bokeh-0.12.16.min.css\");\n",
       "      console.log(\"Bokeh: injecting CSS: https://cdn.pydata.org/bokeh/release/bokeh-widgets-0.12.16.min.css\");\n",
       "      Bokeh.embed.inject_css(\"https://cdn.pydata.org/bokeh/release/bokeh-widgets-0.12.16.min.css\");\n",
       "      console.log(\"Bokeh: injecting CSS: https://cdn.pydata.org/bokeh/release/bokeh-tables-0.12.16.min.css\");\n",
       "      Bokeh.embed.inject_css(\"https://cdn.pydata.org/bokeh/release/bokeh-tables-0.12.16.min.css\");\n",
       "    }\n",
       "  ];\n",
       "\n",
       "  function run_inline_js() {\n",
       "    \n",
       "    if ((root.Bokeh !== undefined) || (force === true)) {\n",
       "      for (var i = 0; i < inline_js.length; i++) {\n",
       "        inline_js[i].call(root, root.Bokeh);\n",
       "      }if (force === true) {\n",
       "        display_loaded();\n",
       "      }} else if (Date.now() < root._bokeh_timeout) {\n",
       "      setTimeout(run_inline_js, 100);\n",
       "    } else if (!root._bokeh_failed_load) {\n",
       "      console.log(\"Bokeh: BokehJS failed to load within specified timeout.\");\n",
       "      root._bokeh_failed_load = true;\n",
       "    } else if (force !== true) {\n",
       "      var cell = $(document.getElementById(\"7d002a29-5c0b-428f-9009-88094075c3c0\")).parents('.cell').data().cell;\n",
       "      cell.output_area.append_execute_result(NB_LOAD_WARNING)\n",
       "    }\n",
       "\n",
       "  }\n",
       "\n",
       "  if (root._bokeh_is_loading === 0) {\n",
       "    console.log(\"Bokeh: BokehJS loaded, going straight to plotting\");\n",
       "    run_inline_js();\n",
       "  } else {\n",
       "    load_libs(js_urls, function() {\n",
       "      console.log(\"Bokeh: BokehJS plotting callback run at\", now());\n",
       "      run_inline_js();\n",
       "    });\n",
       "  }\n",
       "}(window));"
      ],
      "application/vnd.bokehjs_load.v0+json": "\n(function(root) {\n  function now() {\n    return new Date();\n  }\n\n  var force = true;\n\n  if (typeof (root._bokeh_onload_callbacks) === \"undefined\" || force === true) {\n    root._bokeh_onload_callbacks = [];\n    root._bokeh_is_loading = undefined;\n  }\n\n  \n\n  \n  if (typeof (root._bokeh_timeout) === \"undefined\" || force === true) {\n    root._bokeh_timeout = Date.now() + 5000;\n    root._bokeh_failed_load = false;\n  }\n\n  var NB_LOAD_WARNING = {'data': {'text/html':\n     \"<div style='background-color: #fdd'>\\n\"+\n     \"<p>\\n\"+\n     \"BokehJS does not appear to have successfully loaded. If loading BokehJS from CDN, this \\n\"+\n     \"may be due to a slow or bad network connection. Possible fixes:\\n\"+\n     \"</p>\\n\"+\n     \"<ul>\\n\"+\n     \"<li>re-rerun `output_notebook()` to attempt to load from CDN again, or</li>\\n\"+\n     \"<li>use INLINE resources instead, as so:</li>\\n\"+\n     \"</ul>\\n\"+\n     \"<code>\\n\"+\n     \"from bokeh.resources import INLINE\\n\"+\n     \"output_notebook(resources=INLINE)\\n\"+\n     \"</code>\\n\"+\n     \"</div>\"}};\n\n  function display_loaded() {\n    var el = document.getElementById(\"7d002a29-5c0b-428f-9009-88094075c3c0\");\n    if (el != null) {\n      el.textContent = \"BokehJS is loading...\";\n    }\n    if (root.Bokeh !== undefined) {\n      if (el != null) {\n        el.textContent = \"BokehJS \" + root.Bokeh.version + \" successfully loaded.\";\n      }\n    } else if (Date.now() < root._bokeh_timeout) {\n      setTimeout(display_loaded, 100)\n    }\n  }\n\n\n  function run_callbacks() {\n    try {\n      root._bokeh_onload_callbacks.forEach(function(callback) { callback() });\n    }\n    finally {\n      delete root._bokeh_onload_callbacks\n    }\n    console.info(\"Bokeh: all callbacks have finished\");\n  }\n\n  function load_libs(js_urls, callback) {\n    root._bokeh_onload_callbacks.push(callback);\n    if (root._bokeh_is_loading > 0) {\n      console.log(\"Bokeh: BokehJS is being loaded, scheduling callback at\", now());\n      return null;\n    }\n    if (js_urls == null || js_urls.length === 0) {\n      run_callbacks();\n      return null;\n    }\n    console.log(\"Bokeh: BokehJS not loaded, scheduling load and callback at\", now());\n    root._bokeh_is_loading = js_urls.length;\n    for (var i = 0; i < js_urls.length; i++) {\n      var url = js_urls[i];\n      var s = document.createElement('script');\n      s.src = url;\n      s.async = false;\n      s.onreadystatechange = s.onload = function() {\n        root._bokeh_is_loading--;\n        if (root._bokeh_is_loading === 0) {\n          console.log(\"Bokeh: all BokehJS libraries loaded\");\n          run_callbacks()\n        }\n      };\n      s.onerror = function() {\n        console.warn(\"failed to load library \" + url);\n      };\n      console.log(\"Bokeh: injecting script tag for BokehJS library: \", url);\n      document.getElementsByTagName(\"head\")[0].appendChild(s);\n    }\n  };var element = document.getElementById(\"7d002a29-5c0b-428f-9009-88094075c3c0\");\n  if (element == null) {\n    console.log(\"Bokeh: ERROR: autoload.js configured with elementid '7d002a29-5c0b-428f-9009-88094075c3c0' but no matching script tag was found. \")\n    return false;\n  }\n\n  var js_urls = [\"https://cdn.pydata.org/bokeh/release/bokeh-0.12.16.min.js\", \"https://cdn.pydata.org/bokeh/release/bokeh-widgets-0.12.16.min.js\", \"https://cdn.pydata.org/bokeh/release/bokeh-tables-0.12.16.min.js\", \"https://cdn.pydata.org/bokeh/release/bokeh-gl-0.12.16.min.js\"];\n\n  var inline_js = [\n    function(Bokeh) {\n      Bokeh.set_log_level(\"info\");\n    },\n    \n    function(Bokeh) {\n      \n    },\n    function(Bokeh) {\n      console.log(\"Bokeh: injecting CSS: https://cdn.pydata.org/bokeh/release/bokeh-0.12.16.min.css\");\n      Bokeh.embed.inject_css(\"https://cdn.pydata.org/bokeh/release/bokeh-0.12.16.min.css\");\n      console.log(\"Bokeh: injecting CSS: https://cdn.pydata.org/bokeh/release/bokeh-widgets-0.12.16.min.css\");\n      Bokeh.embed.inject_css(\"https://cdn.pydata.org/bokeh/release/bokeh-widgets-0.12.16.min.css\");\n      console.log(\"Bokeh: injecting CSS: https://cdn.pydata.org/bokeh/release/bokeh-tables-0.12.16.min.css\");\n      Bokeh.embed.inject_css(\"https://cdn.pydata.org/bokeh/release/bokeh-tables-0.12.16.min.css\");\n    }\n  ];\n\n  function run_inline_js() {\n    \n    if ((root.Bokeh !== undefined) || (force === true)) {\n      for (var i = 0; i < inline_js.length; i++) {\n        inline_js[i].call(root, root.Bokeh);\n      }if (force === true) {\n        display_loaded();\n      }} else if (Date.now() < root._bokeh_timeout) {\n      setTimeout(run_inline_js, 100);\n    } else if (!root._bokeh_failed_load) {\n      console.log(\"Bokeh: BokehJS failed to load within specified timeout.\");\n      root._bokeh_failed_load = true;\n    } else if (force !== true) {\n      var cell = $(document.getElementById(\"7d002a29-5c0b-428f-9009-88094075c3c0\")).parents('.cell').data().cell;\n      cell.output_area.append_execute_result(NB_LOAD_WARNING)\n    }\n\n  }\n\n  if (root._bokeh_is_loading === 0) {\n    console.log(\"Bokeh: BokehJS loaded, going straight to plotting\");\n    run_inline_js();\n  } else {\n    load_libs(js_urls, function() {\n      console.log(\"Bokeh: BokehJS plotting callback run at\", now());\n      run_inline_js();\n    });\n  }\n}(window));"
     },
     "metadata": {},
     "output_type": "display_data"
    }
   ],
   "source": [
    "from bokeh.io import show, output_notebook\n",
    "\n",
    "from bokeh.models import Plot\n",
    "from bokeh.models import ColumnDataSource\n",
    "from bokeh.models import Range, Range1d, DataRange1d, FactorRange\n",
    "from bokeh.models import LinearAxis, CategoricalAxis\n",
    "from bokeh.models import LabelSet\n",
    "\n",
    "from bokeh.models.scales import CategoricalScale\n",
    "from bokeh.models.markers import Circle\n",
    "from bokeh.models.glyphs import HBar, Segment\n",
    "\n",
    "from bokeh.palettes import OrRd, Blues\n",
    "from bokeh.layouts import row\n",
    "\n",
    "output_notebook()"
   ]
  },
  {
   "cell_type": "markdown",
   "metadata": {},
   "source": [
    "Sample data to feed our chart. The dataset contains metrics, values, and specifications."
   ]
  },
  {
   "cell_type": "code",
   "execution_count": 2,
   "metadata": {},
   "outputs": [],
   "source": [
    "source = ColumnDataSource({'metrics': ['AM1', 'AM2', 'AM3'],\n",
    "                           'values': [8, 11.2, 22.14],\n",
    "                           'stretch': [5, 5, 10],\n",
    "                           'design': [10, 10, 15],\n",
    "                           'minimum': [20, 20, 30]})"
   ]
  },
  {
   "cell_type": "markdown",
   "metadata": {},
   "source": [
    "Here we follow the *additive development* approach as suggested in the post. The idea is to explicitly add each Bokeh model as opposed to use the Bokeh plotting API and modify the plot defaults.\n",
    "\n"
   ]
  },
  {
   "cell_type": "markdown",
   "metadata": {},
   "source": [
    "Let's start by creating an empty plot. The minimum requirement for doing so is to specify `x_range` and `y_range` ranges.\n"
   ]
  },
  {
   "cell_type": "code",
   "execution_count": 3,
   "metadata": {},
   "outputs": [
    {
     "name": "stderr",
     "output_type": "stream",
     "text": [
      "WARNING:bokeh.core.validation.check:W-1000 (MISSING_RENDERERS): Plot has no renderers: Plot(id='c4b36e87-6157-49bf-89db-db1f820d0c66', ...)\n"
     ]
    },
    {
     "data": {
      "text/html": [
       "\n",
       "<div class=\"bk-root\">\n",
       "    <div class=\"bk-plotdiv\" id=\"d05f2256-586a-4c66-93a9-e7c3f1085db1\"></div>\n",
       "</div>"
      ]
     },
     "metadata": {},
     "output_type": "display_data"
    },
    {
     "data": {
      "application/javascript": [
       "(function(root) {\n",
       "  function embed_document(root) {\n",
       "    \n",
       "  var docs_json = {\"c1145704-3b19-42b6-952f-d94f4b5644e5\":{\"roots\":{\"references\":[{\"attributes\":{\"plot_height\":400,\"plot_width\":400,\"title\":{\"id\":\"ed313f17-8428-498a-ac9b-f7fbeeb84d4f\",\"type\":\"Title\"},\"toolbar\":{\"id\":\"96816994-d107-4f32-8986-48ebe7140db8\",\"type\":\"Toolbar\"},\"x_range\":{\"id\":\"2439063c-27d2-4bd3-b38f-2b40c7d93da6\",\"type\":\"Range\"},\"x_scale\":{\"id\":\"1f0d0b8a-3fca-4a5f-9633-dfbb8eb51a35\",\"type\":\"LinearScale\"},\"y_range\":{\"id\":\"9679f21f-f554-4aca-91ce-83d3d63c3e38\",\"type\":\"Range\"},\"y_scale\":{\"id\":\"5e5eb4e0-ae1e-4538-8617-17fdc27ce34e\",\"type\":\"LinearScale\"}},\"id\":\"c4b36e87-6157-49bf-89db-db1f820d0c66\",\"type\":\"Plot\"},{\"attributes\":{},\"id\":\"5e5eb4e0-ae1e-4538-8617-17fdc27ce34e\",\"type\":\"LinearScale\"},{\"attributes\":{\"callback\":null},\"id\":\"9679f21f-f554-4aca-91ce-83d3d63c3e38\",\"type\":\"Range\"},{\"attributes\":{\"callback\":null},\"id\":\"2439063c-27d2-4bd3-b38f-2b40c7d93da6\",\"type\":\"Range\"},{\"attributes\":{},\"id\":\"1f0d0b8a-3fca-4a5f-9633-dfbb8eb51a35\",\"type\":\"LinearScale\"},{\"attributes\":{\"active_drag\":\"auto\",\"active_inspect\":\"auto\",\"active_scroll\":\"auto\",\"active_tap\":\"auto\"},\"id\":\"96816994-d107-4f32-8986-48ebe7140db8\",\"type\":\"Toolbar\"},{\"attributes\":{\"plot\":null,\"text\":\"\"},\"id\":\"ed313f17-8428-498a-ac9b-f7fbeeb84d4f\",\"type\":\"Title\"}],\"root_ids\":[\"c4b36e87-6157-49bf-89db-db1f820d0c66\"]},\"title\":\"Bokeh Application\",\"version\":\"0.12.16\"}};\n",
       "  var render_items = [{\"docid\":\"c1145704-3b19-42b6-952f-d94f4b5644e5\",\"elementid\":\"d05f2256-586a-4c66-93a9-e7c3f1085db1\",\"modelid\":\"c4b36e87-6157-49bf-89db-db1f820d0c66\"}];\n",
       "  root.Bokeh.embed.embed_items_notebook(docs_json, render_items);\n",
       "\n",
       "  }\n",
       "  if (root.Bokeh !== undefined) {\n",
       "    embed_document(root);\n",
       "  } else {\n",
       "    var attempts = 0;\n",
       "    var timer = setInterval(function(root) {\n",
       "      if (root.Bokeh !== undefined) {\n",
       "        embed_document(root);\n",
       "        clearInterval(timer);\n",
       "      }\n",
       "      attempts++;\n",
       "      if (attempts > 100) {\n",
       "        console.log(\"Bokeh: ERROR: Unable to run BokehJS code because BokehJS library is missing\")\n",
       "        clearInterval(timer);\n",
       "      }\n",
       "    }, 10, root)\n",
       "  }\n",
       "})(window);"
      ],
      "application/vnd.bokehjs_exec.v0+json": ""
     },
     "metadata": {
      "application/vnd.bokehjs_exec.v0+json": {
       "id": "c4b36e87-6157-49bf-89db-db1f820d0c66"
      }
     },
     "output_type": "display_data"
    }
   ],
   "source": [
    "p1 = Plot(x_range=Range(), y_range=Range(), plot_height=400, plot_width=400)\n",
    "show(p1)"
   ]
  },
  {
   "cell_type": "markdown",
   "metadata": {},
   "source": [
    "The warning message above simply means that there's nothing to render yet."
   ]
  },
  {
   "cell_type": "markdown",
   "metadata": {},
   "source": [
    "Our new chart will have two plots, `p1` that will display the metric percentage deviation from the design, and `p2` that will display the actual metric values compared against the specifications.  \n",
    "\n",
    "\n"
   ]
  },
  {
   "cell_type": "markdown",
   "metadata": {},
   "source": [
    "For the percentage deviation display, we want the x-axis range to be fixed."
   ]
  },
  {
   "cell_type": "code",
   "execution_count": 4,
   "metadata": {},
   "outputs": [],
   "source": [
    "p1.x_range = Range1d(-100, 100)"
   ]
  },
  {
   "cell_type": "markdown",
   "metadata": {},
   "source": [
    "In the y-axis we want to display the metric names which is a categorial variable, so we use a `FactorRange()` for that, and initialize the factors with the categories present in our dataset. We also need to specify an appropriate scale for this axis."
   ]
  },
  {
   "cell_type": "code",
   "execution_count": 5,
   "metadata": {},
   "outputs": [],
   "source": [
    "p1.y_range = FactorRange(factors=source.data['metrics'])\n",
    "p1.y_scale = CategoricalScale()"
   ]
  },
  {
   "cell_type": "markdown",
   "metadata": {},
   "source": [
    "Let's compute the percentage deviation and add the `HBar()` glyph to display hat. We'll annotate the values by adding a `Labelset()` instead of adding the x-axis to the plot."
   ]
  },
  {
   "cell_type": "code",
   "execution_count": 6,
   "metadata": {},
   "outputs": [
    {
     "data": {
      "text/html": [
       "\n",
       "<div class=\"bk-root\">\n",
       "    <div class=\"bk-plotdiv\" id=\"07c6bbfe-887d-4b93-929a-a6ec6353af29\"></div>\n",
       "</div>"
      ]
     },
     "metadata": {},
     "output_type": "display_data"
    },
    {
     "data": {
      "application/javascript": [
       "(function(root) {\n",
       "  function embed_document(root) {\n",
       "    \n",
       "  var docs_json = {\"bb1b6062-4005-48ff-a28e-2ff3cdd86bff\":{\"roots\":{\"references\":[{\"attributes\":{\"level\":\"glyph\",\"plot\":{\"id\":\"c4b36e87-6157-49bf-89db-db1f820d0c66\",\"type\":\"Plot\"},\"source\":{\"id\":\"925e5951-7300-4dd0-936b-689e5c45238f\",\"type\":\"ColumnDataSource\"},\"text\":{\"field\":\"percentage\"},\"text_font_size\":{\"value\":\"10pt\"},\"x\":{\"field\":\"deviation\"},\"x_offset\":{\"field\":\"x_offset\"},\"y\":{\"field\":\"metrics\"}},\"id\":\"82102d17-564d-4096-9feb-e2e04f3e5d45\",\"type\":\"LabelSet\"},{\"attributes\":{\"callback\":null,\"end\":100,\"start\":-100},\"id\":\"d044fea9-5a22-40b9-b684-aebeac03d56c\",\"type\":\"Range1d\"},{\"attributes\":{},\"id\":\"e43ee326-579e-41bb-ba90-7f591db19865\",\"type\":\"Selection\"},{\"attributes\":{},\"id\":\"a052f5c1-1696-4720-bea5-d08266775b7d\",\"type\":\"CategoricalScale\"},{\"attributes\":{\"callback\":null,\"data\":{\"color\":[\"#9ecae1\",\"#fdbb84\",\"#fdbb84\"],\"design\":[10,10,15],\"deviation\":[-20.0,11.999999999999993,47.6],\"metrics\":[\"AM1\",\"AM2\",\"AM3\"],\"minimum\":[20,20,30],\"percentage\":[\"-20%\",\"11%\",\"47%\"],\"stretch\":[5,5,10],\"values\":[8,11.2,22.14],\"x_offset\":[-35,10,10]},\"selected\":{\"id\":\"e43ee326-579e-41bb-ba90-7f591db19865\",\"type\":\"Selection\"},\"selection_policy\":{\"id\":\"088d5c9e-cbc7-4d96-9142-3ceec5561532\",\"type\":\"UnionRenderers\"}},\"id\":\"925e5951-7300-4dd0-936b-689e5c45238f\",\"type\":\"ColumnDataSource\"},{\"attributes\":{\"callback\":null,\"factors\":[\"AM1\",\"AM2\",\"AM3\"]},\"id\":\"366bbb92-5d42-499e-a84d-642242a8e3d9\",\"type\":\"FactorRange\"},{\"attributes\":{\"data_source\":{\"id\":\"925e5951-7300-4dd0-936b-689e5c45238f\",\"type\":\"ColumnDataSource\"},\"glyph\":{\"id\":\"db0167e2-dcf6-4086-875a-926fe0d403d6\",\"type\":\"HBar\"},\"hover_glyph\":null,\"muted_glyph\":null,\"view\":{\"id\":\"56644972-b7fd-4313-a536-c69f984c571d\",\"type\":\"CDSView\"}},\"id\":\"6bf4bffd-71d5-4a60-b193-5b0558b8dd90\",\"type\":\"GlyphRenderer\"},{\"attributes\":{},\"id\":\"1f0d0b8a-3fca-4a5f-9633-dfbb8eb51a35\",\"type\":\"LinearScale\"},{\"attributes\":{\"active_drag\":\"auto\",\"active_inspect\":\"auto\",\"active_scroll\":\"auto\",\"active_tap\":\"auto\"},\"id\":\"96816994-d107-4f32-8986-48ebe7140db8\",\"type\":\"Toolbar\"},{\"attributes\":{},\"id\":\"5830f480-af09-4690-8b8c-1e618fa5d501\",\"type\":\"CategoricalTickFormatter\"},{\"attributes\":{\"align\":\"center\",\"plot\":null,\"text\":\"% deviation from design\",\"text_font_size\":{\"value\":\"14pt\"}},\"id\":\"ed313f17-8428-498a-ac9b-f7fbeeb84d4f\",\"type\":\"Title\"},{\"attributes\":{},\"id\":\"088d5c9e-cbc7-4d96-9142-3ceec5561532\",\"type\":\"UnionRenderers\"},{\"attributes\":{\"source\":{\"id\":\"925e5951-7300-4dd0-936b-689e5c45238f\",\"type\":\"ColumnDataSource\"}},\"id\":\"56644972-b7fd-4313-a536-c69f984c571d\",\"type\":\"CDSView\"},{\"attributes\":{\"fill_color\":{\"field\":\"color\"},\"height\":{\"value\":0.5},\"line_color\":{\"field\":\"color\"},\"right\":{\"field\":\"deviation\"},\"y\":{\"field\":\"metrics\"}},\"id\":\"db0167e2-dcf6-4086-875a-926fe0d403d6\",\"type\":\"HBar\"},{\"attributes\":{\"fixed_location\":0,\"formatter\":{\"id\":\"5830f480-af09-4690-8b8c-1e618fa5d501\",\"type\":\"CategoricalTickFormatter\"},\"major_label_standoff\":100,\"major_label_text_font_size\":{\"value\":\"14pt\"},\"plot\":{\"id\":\"c4b36e87-6157-49bf-89db-db1f820d0c66\",\"type\":\"Plot\"},\"ticker\":{\"id\":\"b48745bb-d4df-4b7e-bbf5-3a0fb68a31fe\",\"type\":\"CategoricalTicker\"}},\"id\":\"945cd294-7ca7-471c-94b4-a36ca1e8911c\",\"type\":\"CategoricalAxis\"},{\"attributes\":{\"left\":[{\"id\":\"945cd294-7ca7-471c-94b4-a36ca1e8911c\",\"type\":\"CategoricalAxis\"}],\"outline_line_color\":{\"value\":\"white\"},\"plot_height\":400,\"plot_width\":400,\"renderers\":[{\"id\":\"6bf4bffd-71d5-4a60-b193-5b0558b8dd90\",\"type\":\"GlyphRenderer\"},{\"id\":\"945cd294-7ca7-471c-94b4-a36ca1e8911c\",\"type\":\"CategoricalAxis\"},{\"id\":\"82102d17-564d-4096-9feb-e2e04f3e5d45\",\"type\":\"LabelSet\"}],\"title\":{\"id\":\"ed313f17-8428-498a-ac9b-f7fbeeb84d4f\",\"type\":\"Title\"},\"toolbar\":{\"id\":\"96816994-d107-4f32-8986-48ebe7140db8\",\"type\":\"Toolbar\"},\"x_range\":{\"id\":\"d044fea9-5a22-40b9-b684-aebeac03d56c\",\"type\":\"Range1d\"},\"x_scale\":{\"id\":\"1f0d0b8a-3fca-4a5f-9633-dfbb8eb51a35\",\"type\":\"LinearScale\"},\"y_range\":{\"id\":\"366bbb92-5d42-499e-a84d-642242a8e3d9\",\"type\":\"FactorRange\"},\"y_scale\":{\"id\":\"a052f5c1-1696-4720-bea5-d08266775b7d\",\"type\":\"CategoricalScale\"}},\"id\":\"c4b36e87-6157-49bf-89db-db1f820d0c66\",\"type\":\"Plot\"},{\"attributes\":{},\"id\":\"b48745bb-d4df-4b7e-bbf5-3a0fb68a31fe\",\"type\":\"CategoricalTicker\"}],\"root_ids\":[\"c4b36e87-6157-49bf-89db-db1f820d0c66\"]},\"title\":\"Bokeh Application\",\"version\":\"0.12.16\"}};\n",
       "  var render_items = [{\"docid\":\"bb1b6062-4005-48ff-a28e-2ff3cdd86bff\",\"elementid\":\"07c6bbfe-887d-4b93-929a-a6ec6353af29\",\"modelid\":\"c4b36e87-6157-49bf-89db-db1f820d0c66\"}];\n",
       "  root.Bokeh.embed.embed_items_notebook(docs_json, render_items);\n",
       "\n",
       "  }\n",
       "  if (root.Bokeh !== undefined) {\n",
       "    embed_document(root);\n",
       "  } else {\n",
       "    var attempts = 0;\n",
       "    var timer = setInterval(function(root) {\n",
       "      if (root.Bokeh !== undefined) {\n",
       "        embed_document(root);\n",
       "        clearInterval(timer);\n",
       "      }\n",
       "      attempts++;\n",
       "      if (attempts > 100) {\n",
       "        console.log(\"Bokeh: ERROR: Unable to run BokehJS code because BokehJS library is missing\")\n",
       "        clearInterval(timer);\n",
       "      }\n",
       "    }, 10, root)\n",
       "  }\n",
       "})(window);"
      ],
      "application/vnd.bokehjs_exec.v0+json": ""
     },
     "metadata": {
      "application/vnd.bokehjs_exec.v0+json": {
       "id": "c4b36e87-6157-49bf-89db-db1f820d0c66"
      }
     },
     "output_type": "display_data"
    }
   ],
   "source": [
    "p1.outline_line_color = 'white'\n",
    "p1.title.text = '% deviation from design'\n",
    "p1.title.align = 'center'\n",
    "p1.title.text_font_size = '14pt'\n",
    "\n",
    "source.data['deviation'] = [(value-design)/design*100 for value, design in\n",
    "                            zip(source.data['values'], source.data['design'])]\n",
    "\n",
    "source.data['color'] = [OrRd[3][1] if x > 0 else Blues[3][1] for x in\n",
    "                        source.data['deviation']]\n",
    "\n",
    "\n",
    "height = 0.5\n",
    "hbar = HBar(y='metrics', left=0, right='deviation', line_color='color',\n",
    "            fill_color='color', height=height)\n",
    "\n",
    "p1.add_glyph(source, hbar)\n",
    "\n",
    "yaxis = CategoricalAxis()\n",
    "yaxis.fixed_location = 0\n",
    "yaxis.major_label_standoff = 100\n",
    "yaxis.major_label_text_font_size = '14pt'\n",
    "\n",
    "p1.add_layout(yaxis, 'left')\n",
    "\n",
    "source.data['x_offset'] = [10 if x > 0 else -35 for x in\n",
    "                           source.data['deviation']]\n",
    "\n",
    "source.data['percentage'] = [\"{}%\".format(int(x)) for x in\n",
    "                             source.data['deviation']]\n",
    "\n",
    "percentage = LabelSet(x='deviation', y='metrics', text='percentage',\n",
    "                      x_offset='x_offset', text_font_size=\"10pt\",\n",
    "                      level='glyph', source=source)\n",
    "\n",
    "p1.add_layout(percentage)\n",
    "\n",
    "show(p1)"
   ]
  },
  {
   "cell_type": "markdown",
   "metadata": {},
   "source": [
    "The colors indicate if the actual metric value satisfies the design specification (blue) or not (orange)."
   ]
  },
  {
   "cell_type": "markdown",
   "metadata": {},
   "source": [
    "For displaying the actual metric values, we want the x-axis range to adjust automatically based on the data, so lets use `DataRange1d()` for that."
   ]
  },
  {
   "cell_type": "code",
   "execution_count": 7,
   "metadata": {},
   "outputs": [],
   "source": [
    "p2 = Plot(x_range=DataRange1d(),\n",
    "          y_range=FactorRange(factors=source.data['metrics']),\n",
    "          plot_height=400, plot_width=400)\n",
    "p2.y_scale = CategoricalScale()"
   ]
  },
  {
   "cell_type": "markdown",
   "metadata": {},
   "source": [
    "Now lets add the `HBar()` glyph to display the minimum and strech thresholds for each metric, and a `Segment()` glyph to indicate the design goal."
   ]
  },
  {
   "cell_type": "code",
   "execution_count": 8,
   "metadata": {
    "scrolled": true
   },
   "outputs": [
    {
     "data": {
      "text/html": [
       "\n",
       "<div class=\"bk-root\">\n",
       "    <div class=\"bk-plotdiv\" id=\"f390970d-95b0-4fbe-ac3b-92554ff5a44d\"></div>\n",
       "</div>"
      ]
     },
     "metadata": {},
     "output_type": "display_data"
    },
    {
     "data": {
      "application/javascript": [
       "(function(root) {\n",
       "  function embed_document(root) {\n",
       "    \n",
       "  var docs_json = {\"dfa4c1f3-00b0-46d4-8a5a-9aa29dd199db\":{\"roots\":{\"references\":[{\"attributes\":{\"axis_label\":\"AMx (marcsec)\",\"formatter\":{\"id\":\"0c8151cb-d762-40c4-9094-19e2d1ce2685\",\"type\":\"BasicTickFormatter\"},\"plot\":{\"id\":\"feb25d24-517e-456b-abf8-070c072ea305\",\"type\":\"Plot\"},\"ticker\":{\"id\":\"665a723f-48c2-4421-819a-cd6e9adfa79a\",\"type\":\"BasicTicker\"}},\"id\":\"645c77c7-b277-4324-b15f-838a833d0745\",\"type\":\"LinearAxis\"},{\"attributes\":{},\"id\":\"e43ee326-579e-41bb-ba90-7f591db19865\",\"type\":\"Selection\"},{\"attributes\":{\"callback\":null,\"factors\":[\"AM1\",\"AM2\",\"AM3\"]},\"id\":\"0f515e82-bd17-492c-9c5e-efd692f69da7\",\"type\":\"FactorRange\"},{\"attributes\":{\"data_source\":{\"id\":\"925e5951-7300-4dd0-936b-689e5c45238f\",\"type\":\"ColumnDataSource\"},\"glyph\":{\"id\":\"592aec02-10c1-4c54-8c30-04050a61bbb8\",\"type\":\"HBar\"},\"hover_glyph\":null,\"muted_glyph\":null,\"view\":{\"id\":\"5a9b142e-c7d3-40df-ba6d-a4adf0c5cfa8\",\"type\":\"CDSView\"}},\"id\":\"c150caee-360a-4a08-b372-75da62f64cb2\",\"type\":\"GlyphRenderer\"},{\"attributes\":{\"callback\":null,\"data\":{\"color\":[\"#9ecae1\",\"#fdbb84\",\"#fdbb84\"],\"design\":[10,10,15],\"deviation\":[-20.0,11.999999999999993,47.6],\"metrics\":[\"AM1\",\"AM2\",\"AM3\"],\"minimum\":[20,20,30],\"percentage\":[\"-20%\",\"11%\",\"47%\"],\"stretch\":[5,5,10],\"values\":[8,11.2,22.14],\"x_offset\":[-35,10,10],\"y0\":[[\"AM1\",-0.25],[\"AM2\",-0.25],[\"AM3\",-0.25]],\"y1\":[[\"AM1\",0.25],[\"AM2\",0.25],[\"AM3\",0.25]]},\"selected\":{\"id\":\"e43ee326-579e-41bb-ba90-7f591db19865\",\"type\":\"Selection\"},\"selection_policy\":{\"id\":\"088d5c9e-cbc7-4d96-9142-3ceec5561532\",\"type\":\"UnionRenderers\"}},\"id\":\"925e5951-7300-4dd0-936b-689e5c45238f\",\"type\":\"ColumnDataSource\"},{\"attributes\":{\"fill_color\":{\"value\":\"lightgray\"},\"height\":{\"value\":0.5},\"left\":{\"field\":\"stretch\"},\"line_color\":{\"value\":\"lightgray\"},\"right\":{\"field\":\"minimum\"},\"y\":{\"field\":\"metrics\"}},\"id\":\"592aec02-10c1-4c54-8c30-04050a61bbb8\",\"type\":\"HBar\"},{\"attributes\":{\"line_width\":{\"value\":4},\"x0\":{\"field\":\"design\"},\"x1\":{\"field\":\"design\"},\"y0\":{\"field\":\"y0\"},\"y1\":{\"field\":\"y1\"}},\"id\":\"ec9b16cd-07eb-4d30-9c7d-505f15e5d20d\",\"type\":\"Segment\"},{\"attributes\":{\"data_source\":{\"id\":\"925e5951-7300-4dd0-936b-689e5c45238f\",\"type\":\"ColumnDataSource\"},\"glyph\":{\"id\":\"ec9b16cd-07eb-4d30-9c7d-505f15e5d20d\",\"type\":\"Segment\"},\"hover_glyph\":null,\"muted_glyph\":null,\"view\":{\"id\":\"b2f6f4ba-cbc6-499d-bccc-0e7cecf35f64\",\"type\":\"CDSView\"}},\"id\":\"b44ae2db-ed29-4a85-9c87-b0542932a47a\",\"type\":\"GlyphRenderer\"},{\"attributes\":{\"source\":{\"id\":\"925e5951-7300-4dd0-936b-689e5c45238f\",\"type\":\"ColumnDataSource\"}},\"id\":\"5a9b142e-c7d3-40df-ba6d-a4adf0c5cfa8\",\"type\":\"CDSView\"},{\"attributes\":{\"plot\":null,\"text\":\"\"},\"id\":\"4c27fc2d-48e5-4856-935c-991add50d4dc\",\"type\":\"Title\"},{\"attributes\":{},\"id\":\"0c8151cb-d762-40c4-9094-19e2d1ce2685\",\"type\":\"BasicTickFormatter\"},{\"attributes\":{},\"id\":\"088d5c9e-cbc7-4d96-9142-3ceec5561532\",\"type\":\"UnionRenderers\"},{\"attributes\":{\"callback\":null},\"id\":\"fe67f557-8d4c-4854-a926-ec3f1438291e\",\"type\":\"DataRange1d\"},{\"attributes\":{\"below\":[{\"id\":\"645c77c7-b277-4324-b15f-838a833d0745\",\"type\":\"LinearAxis\"}],\"outline_line_color\":{\"value\":\"white\"},\"plot_height\":400,\"plot_width\":400,\"renderers\":[{\"id\":\"c150caee-360a-4a08-b372-75da62f64cb2\",\"type\":\"GlyphRenderer\"},{\"id\":\"b44ae2db-ed29-4a85-9c87-b0542932a47a\",\"type\":\"GlyphRenderer\"},{\"id\":\"645c77c7-b277-4324-b15f-838a833d0745\",\"type\":\"LinearAxis\"}],\"title\":{\"id\":\"4c27fc2d-48e5-4856-935c-991add50d4dc\",\"type\":\"Title\"},\"toolbar\":{\"id\":\"675fdf8b-2df7-4410-a475-6d15f3f4c407\",\"type\":\"Toolbar\"},\"x_range\":{\"id\":\"fe67f557-8d4c-4854-a926-ec3f1438291e\",\"type\":\"DataRange1d\"},\"x_scale\":{\"id\":\"44be2bd4-2368-42cd-a348-5c7432954b2c\",\"type\":\"LinearScale\"},\"y_range\":{\"id\":\"0f515e82-bd17-492c-9c5e-efd692f69da7\",\"type\":\"FactorRange\"},\"y_scale\":{\"id\":\"6882584e-0a79-4a0a-aa4d-39b09c17516f\",\"type\":\"CategoricalScale\"}},\"id\":\"feb25d24-517e-456b-abf8-070c072ea305\",\"type\":\"Plot\"},{\"attributes\":{},\"id\":\"44be2bd4-2368-42cd-a348-5c7432954b2c\",\"type\":\"LinearScale\"},{\"attributes\":{\"active_drag\":\"auto\",\"active_inspect\":\"auto\",\"active_scroll\":\"auto\",\"active_tap\":\"auto\"},\"id\":\"675fdf8b-2df7-4410-a475-6d15f3f4c407\",\"type\":\"Toolbar\"},{\"attributes\":{},\"id\":\"665a723f-48c2-4421-819a-cd6e9adfa79a\",\"type\":\"BasicTicker\"},{\"attributes\":{},\"id\":\"6882584e-0a79-4a0a-aa4d-39b09c17516f\",\"type\":\"CategoricalScale\"},{\"attributes\":{\"source\":{\"id\":\"925e5951-7300-4dd0-936b-689e5c45238f\",\"type\":\"ColumnDataSource\"}},\"id\":\"b2f6f4ba-cbc6-499d-bccc-0e7cecf35f64\",\"type\":\"CDSView\"}],\"root_ids\":[\"feb25d24-517e-456b-abf8-070c072ea305\"]},\"title\":\"Bokeh Application\",\"version\":\"0.12.16\"}};\n",
       "  var render_items = [{\"docid\":\"dfa4c1f3-00b0-46d4-8a5a-9aa29dd199db\",\"elementid\":\"f390970d-95b0-4fbe-ac3b-92554ff5a44d\",\"modelid\":\"feb25d24-517e-456b-abf8-070c072ea305\"}];\n",
       "  root.Bokeh.embed.embed_items_notebook(docs_json, render_items);\n",
       "\n",
       "  }\n",
       "  if (root.Bokeh !== undefined) {\n",
       "    embed_document(root);\n",
       "  } else {\n",
       "    var attempts = 0;\n",
       "    var timer = setInterval(function(root) {\n",
       "      if (root.Bokeh !== undefined) {\n",
       "        embed_document(root);\n",
       "        clearInterval(timer);\n",
       "      }\n",
       "      attempts++;\n",
       "      if (attempts > 100) {\n",
       "        console.log(\"Bokeh: ERROR: Unable to run BokehJS code because BokehJS library is missing\")\n",
       "        clearInterval(timer);\n",
       "      }\n",
       "    }, 10, root)\n",
       "  }\n",
       "})(window);"
      ],
      "application/vnd.bokehjs_exec.v0+json": ""
     },
     "metadata": {
      "application/vnd.bokehjs_exec.v0+json": {
       "id": "feb25d24-517e-456b-abf8-070c072ea305"
      }
     },
     "output_type": "display_data"
    }
   ],
   "source": [
    "p2.outline_line_color = 'white'\n",
    "\n",
    "height = 0.5\n",
    "hbar = HBar(y='metrics', left='stretch', right='minimum', line_color='lightgray', \n",
    "            fill_color='lightgray', height=height)\n",
    "\n",
    "p2.add_glyph(source, hbar)\n",
    "\n",
    "source.data['y0'] = [(x, -height/2) for x in source.data['metrics']]\n",
    "source.data['y1'] = [(x, height/2) for x in source.data['metrics']]\n",
    "\n",
    "segment = Segment(x0='design', y0=\"y0\", x1='design', y1='y1', \n",
    "                  line_color='black', line_width=4)\n",
    "\n",
    "p2.add_glyph(source, segment)\n",
    "\n",
    "xaxis = LinearAxis()\n",
    "xaxis.axis_label = 'AMx (marcsec)'\n",
    "\n",
    "p2.add_layout(xaxis, 'below')\n",
    "\n",
    "show(p2)\n"
   ]
  },
  {
   "cell_type": "markdown",
   "metadata": {},
   "source": [
    "Lets add a `Circle()` marker to display the metric values and a `LabelSet()` for quoting the actual values. "
   ]
  },
  {
   "cell_type": "code",
   "execution_count": 9,
   "metadata": {},
   "outputs": [
    {
     "data": {
      "text/html": [
       "\n",
       "<div class=\"bk-root\">\n",
       "    <div class=\"bk-plotdiv\" id=\"ec2701da-adca-490b-8ced-9d7d2b1ea9ab\"></div>\n",
       "</div>"
      ]
     },
     "metadata": {},
     "output_type": "display_data"
    },
    {
     "data": {
      "application/javascript": [
       "(function(root) {\n",
       "  function embed_document(root) {\n",
       "    \n",
       "  var docs_json = {\"8c96d2bf-7f83-4b4c-a149-15806bd0ad39\":{\"roots\":{\"references\":[{\"attributes\":{\"axis_label\":\"AMx (marcsec)\",\"formatter\":{\"id\":\"0c8151cb-d762-40c4-9094-19e2d1ce2685\",\"type\":\"BasicTickFormatter\"},\"plot\":{\"id\":\"feb25d24-517e-456b-abf8-070c072ea305\",\"type\":\"Plot\"},\"ticker\":{\"id\":\"665a723f-48c2-4421-819a-cd6e9adfa79a\",\"type\":\"BasicTicker\"}},\"id\":\"645c77c7-b277-4324-b15f-838a833d0745\",\"type\":\"LinearAxis\"},{\"attributes\":{},\"id\":\"e43ee326-579e-41bb-ba90-7f591db19865\",\"type\":\"Selection\"},{\"attributes\":{\"callback\":null,\"factors\":[\"AM1\",\"AM2\",\"AM3\"]},\"id\":\"0f515e82-bd17-492c-9c5e-efd692f69da7\",\"type\":\"FactorRange\"},{\"attributes\":{\"source\":{\"id\":\"925e5951-7300-4dd0-936b-689e5c45238f\",\"type\":\"ColumnDataSource\"}},\"id\":\"73758563-a517-462d-83d0-4517ea72ebc6\",\"type\":\"CDSView\"},{\"attributes\":{\"source\":{\"id\":\"925e5951-7300-4dd0-936b-689e5c45238f\",\"type\":\"ColumnDataSource\"}},\"id\":\"b2f6f4ba-cbc6-499d-bccc-0e7cecf35f64\",\"type\":\"CDSView\"},{\"attributes\":{\"data_source\":{\"id\":\"925e5951-7300-4dd0-936b-689e5c45238f\",\"type\":\"ColumnDataSource\"},\"glyph\":{\"id\":\"592aec02-10c1-4c54-8c30-04050a61bbb8\",\"type\":\"HBar\"},\"hover_glyph\":null,\"muted_glyph\":null,\"view\":{\"id\":\"5a9b142e-c7d3-40df-ba6d-a4adf0c5cfa8\",\"type\":\"CDSView\"}},\"id\":\"c150caee-360a-4a08-b372-75da62f64cb2\",\"type\":\"GlyphRenderer\"},{\"attributes\":{\"callback\":null,\"data\":{\"color\":[\"#9ecae1\",\"#fdbb84\",\"#fdbb84\"],\"design\":[10,10,15],\"deviation\":[-20.0,11.999999999999993,47.6],\"formated_values\":[\"8.0\",\"11.2\",\"22.1\"],\"metrics\":[\"AM1\",\"AM2\",\"AM3\"],\"minimum\":[20,20,30],\"percentage\":[\"-20%\",\"11%\",\"47%\"],\"stretch\":[5,5,10],\"values\":[8,11.2,22.14],\"x_offset\":[-35,10,10],\"y0\":[[\"AM1\",-0.25],[\"AM2\",-0.25],[\"AM3\",-0.25]],\"y1\":[[\"AM1\",0.25],[\"AM2\",0.25],[\"AM3\",0.25]]},\"selected\":{\"id\":\"e43ee326-579e-41bb-ba90-7f591db19865\",\"type\":\"Selection\"},\"selection_policy\":{\"id\":\"088d5c9e-cbc7-4d96-9142-3ceec5561532\",\"type\":\"UnionRenderers\"}},\"id\":\"925e5951-7300-4dd0-936b-689e5c45238f\",\"type\":\"ColumnDataSource\"},{\"attributes\":{\"fill_color\":{\"value\":\"lightgray\"},\"height\":{\"value\":0.5},\"left\":{\"field\":\"stretch\"},\"line_color\":{\"value\":\"lightgray\"},\"right\":{\"field\":\"minimum\"},\"y\":{\"field\":\"metrics\"}},\"id\":\"592aec02-10c1-4c54-8c30-04050a61bbb8\",\"type\":\"HBar\"},{\"attributes\":{\"line_width\":{\"value\":4},\"x0\":{\"field\":\"design\"},\"x1\":{\"field\":\"design\"},\"y0\":{\"field\":\"y0\"},\"y1\":{\"field\":\"y1\"}},\"id\":\"ec9b16cd-07eb-4d30-9c7d-505f15e5d20d\",\"type\":\"Segment\"},{\"attributes\":{\"data_source\":{\"id\":\"925e5951-7300-4dd0-936b-689e5c45238f\",\"type\":\"ColumnDataSource\"},\"glyph\":{\"id\":\"ec9b16cd-07eb-4d30-9c7d-505f15e5d20d\",\"type\":\"Segment\"},\"hover_glyph\":null,\"muted_glyph\":null,\"view\":{\"id\":\"b2f6f4ba-cbc6-499d-bccc-0e7cecf35f64\",\"type\":\"CDSView\"}},\"id\":\"b44ae2db-ed29-4a85-9c87-b0542932a47a\",\"type\":\"GlyphRenderer\"},{\"attributes\":{\"source\":{\"id\":\"925e5951-7300-4dd0-936b-689e5c45238f\",\"type\":\"ColumnDataSource\"}},\"id\":\"5a9b142e-c7d3-40df-ba6d-a4adf0c5cfa8\",\"type\":\"CDSView\"},{\"attributes\":{},\"id\":\"6882584e-0a79-4a0a-aa4d-39b09c17516f\",\"type\":\"CategoricalScale\"},{\"attributes\":{\"plot\":null,\"text\":\"\"},\"id\":\"4c27fc2d-48e5-4856-935c-991add50d4dc\",\"type\":\"Title\"},{\"attributes\":{},\"id\":\"0c8151cb-d762-40c4-9094-19e2d1ce2685\",\"type\":\"BasicTickFormatter\"},{\"attributes\":{},\"id\":\"088d5c9e-cbc7-4d96-9142-3ceec5561532\",\"type\":\"UnionRenderers\"},{\"attributes\":{\"callback\":null},\"id\":\"fe67f557-8d4c-4854-a926-ec3f1438291e\",\"type\":\"DataRange1d\"},{\"attributes\":{\"below\":[{\"id\":\"645c77c7-b277-4324-b15f-838a833d0745\",\"type\":\"LinearAxis\"}],\"outline_line_color\":{\"value\":\"white\"},\"plot_height\":400,\"plot_width\":400,\"renderers\":[{\"id\":\"c150caee-360a-4a08-b372-75da62f64cb2\",\"type\":\"GlyphRenderer\"},{\"id\":\"b44ae2db-ed29-4a85-9c87-b0542932a47a\",\"type\":\"GlyphRenderer\"},{\"id\":\"645c77c7-b277-4324-b15f-838a833d0745\",\"type\":\"LinearAxis\"},{\"id\":\"e6b46413-beb7-4d53-abc7-65901125db41\",\"type\":\"GlyphRenderer\"},{\"id\":\"3d2980ec-c6f4-4c1d-9b0e-80ac1aeeeef3\",\"type\":\"LabelSet\"}],\"title\":{\"id\":\"4c27fc2d-48e5-4856-935c-991add50d4dc\",\"type\":\"Title\"},\"toolbar\":{\"id\":\"675fdf8b-2df7-4410-a475-6d15f3f4c407\",\"type\":\"Toolbar\"},\"x_range\":{\"id\":\"fe67f557-8d4c-4854-a926-ec3f1438291e\",\"type\":\"DataRange1d\"},\"x_scale\":{\"id\":\"44be2bd4-2368-42cd-a348-5c7432954b2c\",\"type\":\"LinearScale\"},\"y_range\":{\"id\":\"0f515e82-bd17-492c-9c5e-efd692f69da7\",\"type\":\"FactorRange\"},\"y_scale\":{\"id\":\"6882584e-0a79-4a0a-aa4d-39b09c17516f\",\"type\":\"CategoricalScale\"}},\"id\":\"feb25d24-517e-456b-abf8-070c072ea305\",\"type\":\"Plot\"},{\"attributes\":{},\"id\":\"44be2bd4-2368-42cd-a348-5c7432954b2c\",\"type\":\"LinearScale\"},{\"attributes\":{\"active_drag\":\"auto\",\"active_inspect\":\"auto\",\"active_scroll\":\"auto\",\"active_tap\":\"auto\"},\"id\":\"675fdf8b-2df7-4410-a475-6d15f3f4c407\",\"type\":\"Toolbar\"},{\"attributes\":{\"data_source\":{\"id\":\"925e5951-7300-4dd0-936b-689e5c45238f\",\"type\":\"ColumnDataSource\"},\"glyph\":{\"id\":\"f04f2b08-f7d6-43a3-a263-c98f8094141f\",\"type\":\"Circle\"},\"hover_glyph\":null,\"muted_glyph\":null,\"view\":{\"id\":\"73758563-a517-462d-83d0-4517ea72ebc6\",\"type\":\"CDSView\"}},\"id\":\"e6b46413-beb7-4d53-abc7-65901125db41\",\"type\":\"GlyphRenderer\"},{\"attributes\":{\"level\":\"glyph\",\"plot\":{\"id\":\"feb25d24-517e-456b-abf8-070c072ea305\",\"type\":\"Plot\"},\"source\":{\"id\":\"925e5951-7300-4dd0-936b-689e5c45238f\",\"type\":\"ColumnDataSource\"},\"text\":{\"field\":\"formated_values\"},\"text_font_size\":{\"value\":\"10pt\"},\"x\":{\"field\":\"values\"},\"x_offset\":{\"field\":\"x_offset\"},\"y\":{\"field\":\"metrics\"},\"y_offset\":{\"value\":-7.5}},\"id\":\"3d2980ec-c6f4-4c1d-9b0e-80ac1aeeeef3\",\"type\":\"LabelSet\"},{\"attributes\":{\"fill_color\":{\"field\":\"color\"},\"line_color\":{\"field\":\"color\"},\"size\":{\"units\":\"screen\",\"value\":16},\"x\":{\"field\":\"values\"},\"y\":{\"field\":\"metrics\"}},\"id\":\"f04f2b08-f7d6-43a3-a263-c98f8094141f\",\"type\":\"Circle\"},{\"attributes\":{},\"id\":\"665a723f-48c2-4421-819a-cd6e9adfa79a\",\"type\":\"BasicTicker\"}],\"root_ids\":[\"feb25d24-517e-456b-abf8-070c072ea305\"]},\"title\":\"Bokeh Application\",\"version\":\"0.12.16\"}};\n",
       "  var render_items = [{\"docid\":\"8c96d2bf-7f83-4b4c-a149-15806bd0ad39\",\"elementid\":\"ec2701da-adca-490b-8ced-9d7d2b1ea9ab\",\"modelid\":\"feb25d24-517e-456b-abf8-070c072ea305\"}];\n",
       "  root.Bokeh.embed.embed_items_notebook(docs_json, render_items);\n",
       "\n",
       "  }\n",
       "  if (root.Bokeh !== undefined) {\n",
       "    embed_document(root);\n",
       "  } else {\n",
       "    var attempts = 0;\n",
       "    var timer = setInterval(function(root) {\n",
       "      if (root.Bokeh !== undefined) {\n",
       "        embed_document(root);\n",
       "        clearInterval(timer);\n",
       "      }\n",
       "      attempts++;\n",
       "      if (attempts > 100) {\n",
       "        console.log(\"Bokeh: ERROR: Unable to run BokehJS code because BokehJS library is missing\")\n",
       "        clearInterval(timer);\n",
       "      }\n",
       "    }, 10, root)\n",
       "  }\n",
       "})(window);"
      ],
      "application/vnd.bokehjs_exec.v0+json": ""
     },
     "metadata": {
      "application/vnd.bokehjs_exec.v0+json": {
       "id": "feb25d24-517e-456b-abf8-070c072ea305"
      }
     },
     "output_type": "display_data"
    }
   ],
   "source": [
    "circle = Circle(x='values', y='metrics', size=16,\n",
    "                line_color='color', fill_color='color')\n",
    "\n",
    "p2.add_glyph(source, circle)\n",
    "\n",
    "source.data['formated_values'] = [\"{:.1f}\".format(x) for x in source.data['values']]\n",
    "\n",
    "labels = LabelSet(x='values', y='metrics', text=\"formated_values\", text_font_size=\"10pt\",\n",
    "                  x_offset='x_offset', y_offset=-7.5, level='glyph', source=source)\n",
    "\n",
    "p2.add_layout(labels)\n",
    "\n",
    "show(p2)"
   ]
  },
  {
   "cell_type": "markdown",
   "metadata": {},
   "source": [
    "Here's the final layout for the plots."
   ]
  },
  {
   "cell_type": "code",
   "execution_count": 10,
   "metadata": {},
   "outputs": [
    {
     "data": {
      "text/html": [
       "\n",
       "<div class=\"bk-root\">\n",
       "    <div class=\"bk-plotdiv\" id=\"c4aa5859-f580-4a4d-aedc-0ef63e47782c\"></div>\n",
       "</div>"
      ]
     },
     "metadata": {},
     "output_type": "display_data"
    },
    {
     "data": {
      "application/javascript": [
       "(function(root) {\n",
       "  function embed_document(root) {\n",
       "    \n",
       "  var docs_json = {\"1e888aa1-23fe-4490-9fed-ee34895c5178\":{\"roots\":{\"references\":[{\"attributes\":{\"source\":{\"id\":\"925e5951-7300-4dd0-936b-689e5c45238f\",\"type\":\"ColumnDataSource\"}},\"id\":\"73758563-a517-462d-83d0-4517ea72ebc6\",\"type\":\"CDSView\"},{\"attributes\":{\"data_source\":{\"id\":\"925e5951-7300-4dd0-936b-689e5c45238f\",\"type\":\"ColumnDataSource\"},\"glyph\":{\"id\":\"592aec02-10c1-4c54-8c30-04050a61bbb8\",\"type\":\"HBar\"},\"hover_glyph\":null,\"muted_glyph\":null,\"view\":{\"id\":\"5a9b142e-c7d3-40df-ba6d-a4adf0c5cfa8\",\"type\":\"CDSView\"}},\"id\":\"c150caee-360a-4a08-b372-75da62f64cb2\",\"type\":\"GlyphRenderer\"},{\"attributes\":{\"callback\":null,\"data\":{\"color\":[\"#9ecae1\",\"#fdbb84\",\"#fdbb84\"],\"design\":[10,10,15],\"deviation\":[-20.0,11.999999999999993,47.6],\"formated_values\":[\"8.0\",\"11.2\",\"22.1\"],\"metrics\":[\"AM1\",\"AM2\",\"AM3\"],\"minimum\":[20,20,30],\"percentage\":[\"-20%\",\"11%\",\"47%\"],\"stretch\":[5,5,10],\"values\":[8,11.2,22.14],\"x_offset\":[-35,10,10],\"y0\":[[\"AM1\",-0.25],[\"AM2\",-0.25],[\"AM3\",-0.25]],\"y1\":[[\"AM1\",0.25],[\"AM2\",0.25],[\"AM3\",0.25]]},\"selected\":{\"id\":\"e43ee326-579e-41bb-ba90-7f591db19865\",\"type\":\"Selection\"},\"selection_policy\":{\"id\":\"088d5c9e-cbc7-4d96-9142-3ceec5561532\",\"type\":\"UnionRenderers\"}},\"id\":\"925e5951-7300-4dd0-936b-689e5c45238f\",\"type\":\"ColumnDataSource\"},{\"attributes\":{\"fill_color\":{\"value\":\"lightgray\"},\"height\":{\"value\":0.5},\"left\":{\"field\":\"stretch\"},\"line_color\":{\"value\":\"lightgray\"},\"right\":{\"field\":\"minimum\"},\"y\":{\"field\":\"metrics\"}},\"id\":\"592aec02-10c1-4c54-8c30-04050a61bbb8\",\"type\":\"HBar\"},{\"attributes\":{\"children\":[{\"id\":\"c4b36e87-6157-49bf-89db-db1f820d0c66\",\"type\":\"Plot\"},{\"id\":\"feb25d24-517e-456b-abf8-070c072ea305\",\"type\":\"Plot\"}]},\"id\":\"bfda53f2-45b6-4220-9c79-4ffdeaa25143\",\"type\":\"Row\"},{\"attributes\":{\"line_width\":{\"value\":4},\"x0\":{\"field\":\"design\"},\"x1\":{\"field\":\"design\"},\"y0\":{\"field\":\"y0\"},\"y1\":{\"field\":\"y1\"}},\"id\":\"ec9b16cd-07eb-4d30-9c7d-505f15e5d20d\",\"type\":\"Segment\"},{\"attributes\":{\"data_source\":{\"id\":\"925e5951-7300-4dd0-936b-689e5c45238f\",\"type\":\"ColumnDataSource\"},\"glyph\":{\"id\":\"db0167e2-dcf6-4086-875a-926fe0d403d6\",\"type\":\"HBar\"},\"hover_glyph\":null,\"muted_glyph\":null,\"view\":{\"id\":\"56644972-b7fd-4313-a536-c69f984c571d\",\"type\":\"CDSView\"}},\"id\":\"6bf4bffd-71d5-4a60-b193-5b0558b8dd90\",\"type\":\"GlyphRenderer\"},{\"attributes\":{\"data_source\":{\"id\":\"925e5951-7300-4dd0-936b-689e5c45238f\",\"type\":\"ColumnDataSource\"},\"glyph\":{\"id\":\"ec9b16cd-07eb-4d30-9c7d-505f15e5d20d\",\"type\":\"Segment\"},\"hover_glyph\":null,\"muted_glyph\":null,\"view\":{\"id\":\"b2f6f4ba-cbc6-499d-bccc-0e7cecf35f64\",\"type\":\"CDSView\"}},\"id\":\"b44ae2db-ed29-4a85-9c87-b0542932a47a\",\"type\":\"GlyphRenderer\"},{\"attributes\":{\"source\":{\"id\":\"925e5951-7300-4dd0-936b-689e5c45238f\",\"type\":\"ColumnDataSource\"}},\"id\":\"5a9b142e-c7d3-40df-ba6d-a4adf0c5cfa8\",\"type\":\"CDSView\"},{\"attributes\":{\"plot\":null,\"text\":\"\"},\"id\":\"4c27fc2d-48e5-4856-935c-991add50d4dc\",\"type\":\"Title\"},{\"attributes\":{},\"id\":\"5830f480-af09-4690-8b8c-1e618fa5d501\",\"type\":\"CategoricalTickFormatter\"},{\"attributes\":{},\"id\":\"088d5c9e-cbc7-4d96-9142-3ceec5561532\",\"type\":\"UnionRenderers\"},{\"attributes\":{\"callback\":null},\"id\":\"fe67f557-8d4c-4854-a926-ec3f1438291e\",\"type\":\"DataRange1d\"},{\"attributes\":{\"source\":{\"id\":\"925e5951-7300-4dd0-936b-689e5c45238f\",\"type\":\"ColumnDataSource\"}},\"id\":\"56644972-b7fd-4313-a536-c69f984c571d\",\"type\":\"CDSView\"},{\"attributes\":{\"fixed_location\":0,\"formatter\":{\"id\":\"5830f480-af09-4690-8b8c-1e618fa5d501\",\"type\":\"CategoricalTickFormatter\"},\"major_label_standoff\":100,\"major_label_text_font_size\":{\"value\":\"14pt\"},\"plot\":{\"id\":\"c4b36e87-6157-49bf-89db-db1f820d0c66\",\"type\":\"Plot\"},\"ticker\":{\"id\":\"b48745bb-d4df-4b7e-bbf5-3a0fb68a31fe\",\"type\":\"CategoricalTicker\"}},\"id\":\"945cd294-7ca7-471c-94b4-a36ca1e8911c\",\"type\":\"CategoricalAxis\"},{\"attributes\":{\"data_source\":{\"id\":\"925e5951-7300-4dd0-936b-689e5c45238f\",\"type\":\"ColumnDataSource\"},\"glyph\":{\"id\":\"f04f2b08-f7d6-43a3-a263-c98f8094141f\",\"type\":\"Circle\"},\"hover_glyph\":null,\"muted_glyph\":null,\"view\":{\"id\":\"73758563-a517-462d-83d0-4517ea72ebc6\",\"type\":\"CDSView\"}},\"id\":\"e6b46413-beb7-4d53-abc7-65901125db41\",\"type\":\"GlyphRenderer\"},{\"attributes\":{\"left\":[{\"id\":\"945cd294-7ca7-471c-94b4-a36ca1e8911c\",\"type\":\"CategoricalAxis\"}],\"outline_line_color\":{\"value\":\"white\"},\"plot_height\":400,\"plot_width\":400,\"renderers\":[{\"id\":\"6bf4bffd-71d5-4a60-b193-5b0558b8dd90\",\"type\":\"GlyphRenderer\"},{\"id\":\"945cd294-7ca7-471c-94b4-a36ca1e8911c\",\"type\":\"CategoricalAxis\"},{\"id\":\"82102d17-564d-4096-9feb-e2e04f3e5d45\",\"type\":\"LabelSet\"}],\"title\":{\"id\":\"ed313f17-8428-498a-ac9b-f7fbeeb84d4f\",\"type\":\"Title\"},\"toolbar\":{\"id\":\"96816994-d107-4f32-8986-48ebe7140db8\",\"type\":\"Toolbar\"},\"x_range\":{\"id\":\"d044fea9-5a22-40b9-b684-aebeac03d56c\",\"type\":\"Range1d\"},\"x_scale\":{\"id\":\"1f0d0b8a-3fca-4a5f-9633-dfbb8eb51a35\",\"type\":\"LinearScale\"},\"y_range\":{\"id\":\"366bbb92-5d42-499e-a84d-642242a8e3d9\",\"type\":\"FactorRange\"},\"y_scale\":{\"id\":\"a052f5c1-1696-4720-bea5-d08266775b7d\",\"type\":\"CategoricalScale\"}},\"id\":\"c4b36e87-6157-49bf-89db-db1f820d0c66\",\"type\":\"Plot\"},{\"attributes\":{},\"id\":\"6882584e-0a79-4a0a-aa4d-39b09c17516f\",\"type\":\"CategoricalScale\"},{\"attributes\":{\"fill_color\":{\"field\":\"color\"},\"line_color\":{\"field\":\"color\"},\"size\":{\"units\":\"screen\",\"value\":16},\"x\":{\"field\":\"values\"},\"y\":{\"field\":\"metrics\"}},\"id\":\"f04f2b08-f7d6-43a3-a263-c98f8094141f\",\"type\":\"Circle\"},{\"attributes\":{},\"id\":\"b48745bb-d4df-4b7e-bbf5-3a0fb68a31fe\",\"type\":\"CategoricalTicker\"},{\"attributes\":{\"axis_label\":\"AMx (marcsec)\",\"formatter\":{\"id\":\"0c8151cb-d762-40c4-9094-19e2d1ce2685\",\"type\":\"BasicTickFormatter\"},\"plot\":{\"id\":\"feb25d24-517e-456b-abf8-070c072ea305\",\"type\":\"Plot\"},\"ticker\":{\"id\":\"665a723f-48c2-4421-819a-cd6e9adfa79a\",\"type\":\"BasicTicker\"}},\"id\":\"645c77c7-b277-4324-b15f-838a833d0745\",\"type\":\"LinearAxis\"},{\"attributes\":{\"level\":\"glyph\",\"plot\":{\"id\":\"c4b36e87-6157-49bf-89db-db1f820d0c66\",\"type\":\"Plot\"},\"source\":{\"id\":\"925e5951-7300-4dd0-936b-689e5c45238f\",\"type\":\"ColumnDataSource\"},\"text\":{\"field\":\"percentage\"},\"text_font_size\":{\"value\":\"10pt\"},\"x\":{\"field\":\"deviation\"},\"x_offset\":{\"field\":\"x_offset\"},\"y\":{\"field\":\"metrics\"}},\"id\":\"82102d17-564d-4096-9feb-e2e04f3e5d45\",\"type\":\"LabelSet\"},{\"attributes\":{\"callback\":null,\"end\":100,\"start\":-100},\"id\":\"d044fea9-5a22-40b9-b684-aebeac03d56c\",\"type\":\"Range1d\"},{\"attributes\":{},\"id\":\"e43ee326-579e-41bb-ba90-7f591db19865\",\"type\":\"Selection\"},{\"attributes\":{\"callback\":null,\"factors\":[\"AM1\",\"AM2\",\"AM3\"]},\"id\":\"0f515e82-bd17-492c-9c5e-efd692f69da7\",\"type\":\"FactorRange\"},{\"attributes\":{},\"id\":\"a052f5c1-1696-4720-bea5-d08266775b7d\",\"type\":\"CategoricalScale\"},{\"attributes\":{\"callback\":null,\"factors\":[\"AM1\",\"AM2\",\"AM3\"]},\"id\":\"366bbb92-5d42-499e-a84d-642242a8e3d9\",\"type\":\"FactorRange\"},{\"attributes\":{},\"id\":\"1f0d0b8a-3fca-4a5f-9633-dfbb8eb51a35\",\"type\":\"LinearScale\"},{\"attributes\":{\"active_drag\":\"auto\",\"active_inspect\":\"auto\",\"active_scroll\":\"auto\",\"active_tap\":\"auto\",\"logo\":null},\"id\":\"96816994-d107-4f32-8986-48ebe7140db8\",\"type\":\"Toolbar\"},{\"attributes\":{\"align\":\"center\",\"plot\":null,\"text\":\"% deviation from design\",\"text_font_size\":{\"value\":\"14pt\"}},\"id\":\"ed313f17-8428-498a-ac9b-f7fbeeb84d4f\",\"type\":\"Title\"},{\"attributes\":{},\"id\":\"0c8151cb-d762-40c4-9094-19e2d1ce2685\",\"type\":\"BasicTickFormatter\"},{\"attributes\":{\"below\":[{\"id\":\"645c77c7-b277-4324-b15f-838a833d0745\",\"type\":\"LinearAxis\"}],\"outline_line_color\":{\"value\":\"white\"},\"plot_height\":400,\"plot_width\":400,\"renderers\":[{\"id\":\"c150caee-360a-4a08-b372-75da62f64cb2\",\"type\":\"GlyphRenderer\"},{\"id\":\"b44ae2db-ed29-4a85-9c87-b0542932a47a\",\"type\":\"GlyphRenderer\"},{\"id\":\"645c77c7-b277-4324-b15f-838a833d0745\",\"type\":\"LinearAxis\"},{\"id\":\"e6b46413-beb7-4d53-abc7-65901125db41\",\"type\":\"GlyphRenderer\"},{\"id\":\"3d2980ec-c6f4-4c1d-9b0e-80ac1aeeeef3\",\"type\":\"LabelSet\"}],\"title\":{\"id\":\"4c27fc2d-48e5-4856-935c-991add50d4dc\",\"type\":\"Title\"},\"toolbar\":{\"id\":\"675fdf8b-2df7-4410-a475-6d15f3f4c407\",\"type\":\"Toolbar\"},\"x_range\":{\"id\":\"fe67f557-8d4c-4854-a926-ec3f1438291e\",\"type\":\"DataRange1d\"},\"x_scale\":{\"id\":\"44be2bd4-2368-42cd-a348-5c7432954b2c\",\"type\":\"LinearScale\"},\"y_range\":{\"id\":\"0f515e82-bd17-492c-9c5e-efd692f69da7\",\"type\":\"FactorRange\"},\"y_scale\":{\"id\":\"6882584e-0a79-4a0a-aa4d-39b09c17516f\",\"type\":\"CategoricalScale\"}},\"id\":\"feb25d24-517e-456b-abf8-070c072ea305\",\"type\":\"Plot\"},{\"attributes\":{\"fill_color\":{\"field\":\"color\"},\"height\":{\"value\":0.5},\"line_color\":{\"field\":\"color\"},\"right\":{\"field\":\"deviation\"},\"y\":{\"field\":\"metrics\"}},\"id\":\"db0167e2-dcf6-4086-875a-926fe0d403d6\",\"type\":\"HBar\"},{\"attributes\":{},\"id\":\"44be2bd4-2368-42cd-a348-5c7432954b2c\",\"type\":\"LinearScale\"},{\"attributes\":{\"active_drag\":\"auto\",\"active_inspect\":\"auto\",\"active_scroll\":\"auto\",\"active_tap\":\"auto\",\"logo\":null},\"id\":\"675fdf8b-2df7-4410-a475-6d15f3f4c407\",\"type\":\"Toolbar\"},{\"attributes\":{},\"id\":\"665a723f-48c2-4421-819a-cd6e9adfa79a\",\"type\":\"BasicTicker\"},{\"attributes\":{\"level\":\"glyph\",\"plot\":{\"id\":\"feb25d24-517e-456b-abf8-070c072ea305\",\"type\":\"Plot\"},\"source\":{\"id\":\"925e5951-7300-4dd0-936b-689e5c45238f\",\"type\":\"ColumnDataSource\"},\"text\":{\"field\":\"formated_values\"},\"text_font_size\":{\"value\":\"10pt\"},\"x\":{\"field\":\"values\"},\"x_offset\":{\"field\":\"x_offset\"},\"y\":{\"field\":\"metrics\"},\"y_offset\":{\"value\":-7.5}},\"id\":\"3d2980ec-c6f4-4c1d-9b0e-80ac1aeeeef3\",\"type\":\"LabelSet\"},{\"attributes\":{\"source\":{\"id\":\"925e5951-7300-4dd0-936b-689e5c45238f\",\"type\":\"ColumnDataSource\"}},\"id\":\"b2f6f4ba-cbc6-499d-bccc-0e7cecf35f64\",\"type\":\"CDSView\"}],\"root_ids\":[\"bfda53f2-45b6-4220-9c79-4ffdeaa25143\"]},\"title\":\"Bokeh Application\",\"version\":\"0.12.16\"}};\n",
       "  var render_items = [{\"docid\":\"1e888aa1-23fe-4490-9fed-ee34895c5178\",\"elementid\":\"c4aa5859-f580-4a4d-aedc-0ef63e47782c\",\"modelid\":\"bfda53f2-45b6-4220-9c79-4ffdeaa25143\"}];\n",
       "  root.Bokeh.embed.embed_items_notebook(docs_json, render_items);\n",
       "\n",
       "  }\n",
       "  if (root.Bokeh !== undefined) {\n",
       "    embed_document(root);\n",
       "  } else {\n",
       "    var attempts = 0;\n",
       "    var timer = setInterval(function(root) {\n",
       "      if (root.Bokeh !== undefined) {\n",
       "        embed_document(root);\n",
       "        clearInterval(timer);\n",
       "      }\n",
       "      attempts++;\n",
       "      if (attempts > 100) {\n",
       "        console.log(\"Bokeh: ERROR: Unable to run BokehJS code because BokehJS library is missing\")\n",
       "        clearInterval(timer);\n",
       "      }\n",
       "    }, 10, root)\n",
       "  }\n",
       "})(window);"
      ],
      "application/vnd.bokehjs_exec.v0+json": ""
     },
     "metadata": {
      "application/vnd.bokehjs_exec.v0+json": {
       "id": "bfda53f2-45b6-4220-9c79-4ffdeaa25143"
      }
     },
     "output_type": "display_data"
    }
   ],
   "source": [
    "p1.toolbar.logo = None\n",
    "p2.toolbar.logo = None\n",
    "show(row(p1, p2))"
   ]
  }
 ],
 "metadata": {
  "kernelspec": {
   "display_name": "Python 3",
   "language": "python",
   "name": "python3"
  },
  "language_info": {
   "codemirror_mode": {
    "name": "ipython",
    "version": 3
   },
   "file_extension": ".py",
   "mimetype": "text/x-python",
   "name": "python",
   "nbconvert_exporter": "python",
   "pygments_lexer": "ipython3",
   "version": "3.6.3"
  },
  "toc": {
   "base_numbering": 1,
   "nav_menu": {},
   "number_sections": true,
   "sideBar": true,
   "skip_h1_title": false,
   "title_cell": "Table of Contents",
   "title_sidebar": "Contents",
   "toc_cell": false,
   "toc_position": {},
   "toc_section_display": true,
   "toc_window_display": false
  }
 },
 "nbformat": 4,
 "nbformat_minor": 2
}
