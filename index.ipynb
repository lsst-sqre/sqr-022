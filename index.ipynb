{
 "cells": [
  {
   "cell_type": "markdown",
   "metadata": {},
   "source": [
    "### Purpose "
   ]
  },
  {
   "cell_type": "markdown",
   "metadata": {},
   "source": [
    "Inspired by [this post](https://bokeh.github.io/blog/2017/7/5/idiomatic_bokeh/), we show how to use the Bokeh models API to create new charts, in particular we are interested in metric visualization for the LSST DM [verification framework](https://sqr-019.lsst.io)."
   ]
  },
  {
   "cell_type": "markdown",
   "metadata": {},
   "source": [
    "### Setup"
   ]
  },
  {
   "cell_type": "markdown",
   "metadata": {},
   "source": [
    "This technical note is available as a Jupyter notebook from its [GitHub repository](https://github.com/lsst-sqre/sqr-022)."
   ]
  },
  {
   "cell_type": "code",
   "execution_count": 1,
   "metadata": {},
   "outputs": [
    {
     "data": {
      "text/html": [
       "\n",
       "    <div class=\"bk-root\">\n",
       "        <a href=\"https://bokeh.pydata.org\" target=\"_blank\" class=\"bk-logo bk-logo-small bk-logo-notebook\"></a>\n",
       "        <span id=\"e0930c97-b23b-48e6-b666-53cbd462355b\">Loading BokehJS ...</span>\n",
       "    </div>"
      ]
     },
     "metadata": {},
     "output_type": "display_data"
    },
    {
     "data": {
      "application/javascript": [
       "\n",
       "(function(root) {\n",
       "  function now() {\n",
       "    return new Date();\n",
       "  }\n",
       "\n",
       "  var force = true;\n",
       "\n",
       "  if (typeof (root._bokeh_onload_callbacks) === \"undefined\" || force === true) {\n",
       "    root._bokeh_onload_callbacks = [];\n",
       "    root._bokeh_is_loading = undefined;\n",
       "  }\n",
       "\n",
       "  var JS_MIME_TYPE = 'application/javascript';\n",
       "  var HTML_MIME_TYPE = 'text/html';\n",
       "  var EXEC_MIME_TYPE = 'application/vnd.bokehjs_exec.v0+json';\n",
       "  var CLASS_NAME = 'output_bokeh rendered_html';\n",
       "\n",
       "  /**\n",
       "   * Render data to the DOM node\n",
       "   */\n",
       "  function render(props, node) {\n",
       "    var script = document.createElement(\"script\");\n",
       "    node.appendChild(script);\n",
       "  }\n",
       "\n",
       "  /**\n",
       "   * Handle when an output is cleared or removed\n",
       "   */\n",
       "  function handleClearOutput(event, handle) {\n",
       "    var cell = handle.cell;\n",
       "\n",
       "    var id = cell.output_area._bokeh_element_id;\n",
       "    var server_id = cell.output_area._bokeh_server_id;\n",
       "    // Clean up Bokeh references\n",
       "    if (id !== undefined) {\n",
       "      Bokeh.index[id].model.document.clear();\n",
       "      delete Bokeh.index[id];\n",
       "    }\n",
       "\n",
       "    if (server_id !== undefined) {\n",
       "      // Clean up Bokeh references\n",
       "      var cmd = \"from bokeh.io.state import curstate; print(curstate().uuid_to_server['\" + server_id + \"'].get_sessions()[0].document.roots[0]._id)\";\n",
       "      cell.notebook.kernel.execute(cmd, {\n",
       "        iopub: {\n",
       "          output: function(msg) {\n",
       "            var element_id = msg.content.text.trim();\n",
       "            Bokeh.index[element_id].model.document.clear();\n",
       "            delete Bokeh.index[element_id];\n",
       "          }\n",
       "        }\n",
       "      });\n",
       "      // Destroy server and session\n",
       "      var cmd = \"import bokeh.io.notebook as ion; ion.destroy_server('\" + server_id + \"')\";\n",
       "      cell.notebook.kernel.execute(cmd);\n",
       "    }\n",
       "  }\n",
       "\n",
       "  /**\n",
       "   * Handle when a new output is added\n",
       "   */\n",
       "  function handleAddOutput(event, handle) {\n",
       "    var output_area = handle.output_area;\n",
       "    var output = handle.output;\n",
       "\n",
       "    // limit handleAddOutput to display_data with EXEC_MIME_TYPE content only\n",
       "    if ((output.output_type != \"display_data\") || (!output.data.hasOwnProperty(EXEC_MIME_TYPE))) {\n",
       "      return\n",
       "    }\n",
       "\n",
       "    var toinsert = output_area.element.find(\".\" + CLASS_NAME.split(' ')[0]);\n",
       "\n",
       "    if (output.metadata[EXEC_MIME_TYPE][\"id\"] !== undefined) {\n",
       "      toinsert[toinsert.length - 1].firstChild.textContent = output.data[JS_MIME_TYPE];\n",
       "      // store reference to embed id on output_area\n",
       "      output_area._bokeh_element_id = output.metadata[EXEC_MIME_TYPE][\"id\"];\n",
       "    }\n",
       "    if (output.metadata[EXEC_MIME_TYPE][\"server_id\"] !== undefined) {\n",
       "      var bk_div = document.createElement(\"div\");\n",
       "      bk_div.innerHTML = output.data[HTML_MIME_TYPE];\n",
       "      var script_attrs = bk_div.children[0].attributes;\n",
       "      for (var i = 0; i < script_attrs.length; i++) {\n",
       "        toinsert[toinsert.length - 1].firstChild.setAttribute(script_attrs[i].name, script_attrs[i].value);\n",
       "      }\n",
       "      // store reference to server id on output_area\n",
       "      output_area._bokeh_server_id = output.metadata[EXEC_MIME_TYPE][\"server_id\"];\n",
       "    }\n",
       "  }\n",
       "\n",
       "  function register_renderer(events, OutputArea) {\n",
       "\n",
       "    function append_mime(data, metadata, element) {\n",
       "      // create a DOM node to render to\n",
       "      var toinsert = this.create_output_subarea(\n",
       "        metadata,\n",
       "        CLASS_NAME,\n",
       "        EXEC_MIME_TYPE\n",
       "      );\n",
       "      this.keyboard_manager.register_events(toinsert);\n",
       "      // Render to node\n",
       "      var props = {data: data, metadata: metadata[EXEC_MIME_TYPE]};\n",
       "      render(props, toinsert[toinsert.length - 1]);\n",
       "      element.append(toinsert);\n",
       "      return toinsert\n",
       "    }\n",
       "\n",
       "    /* Handle when an output is cleared or removed */\n",
       "    events.on('clear_output.CodeCell', handleClearOutput);\n",
       "    events.on('delete.Cell', handleClearOutput);\n",
       "\n",
       "    /* Handle when a new output is added */\n",
       "    events.on('output_added.OutputArea', handleAddOutput);\n",
       "\n",
       "    /**\n",
       "     * Register the mime type and append_mime function with output_area\n",
       "     */\n",
       "    OutputArea.prototype.register_mime_type(EXEC_MIME_TYPE, append_mime, {\n",
       "      /* Is output safe? */\n",
       "      safe: true,\n",
       "      /* Index of renderer in `output_area.display_order` */\n",
       "      index: 0\n",
       "    });\n",
       "  }\n",
       "\n",
       "  // register the mime type if in Jupyter Notebook environment and previously unregistered\n",
       "  if (root.Jupyter !== undefined) {\n",
       "    var events = require('base/js/events');\n",
       "    var OutputArea = require('notebook/js/outputarea').OutputArea;\n",
       "\n",
       "    if (OutputArea.prototype.mime_types().indexOf(EXEC_MIME_TYPE) == -1) {\n",
       "      register_renderer(events, OutputArea);\n",
       "    }\n",
       "  }\n",
       "\n",
       "  \n",
       "  if (typeof (root._bokeh_timeout) === \"undefined\" || force === true) {\n",
       "    root._bokeh_timeout = Date.now() + 5000;\n",
       "    root._bokeh_failed_load = false;\n",
       "  }\n",
       "\n",
       "  var NB_LOAD_WARNING = {'data': {'text/html':\n",
       "     \"<div style='background-color: #fdd'>\\n\"+\n",
       "     \"<p>\\n\"+\n",
       "     \"BokehJS does not appear to have successfully loaded. If loading BokehJS from CDN, this \\n\"+\n",
       "     \"may be due to a slow or bad network connection. Possible fixes:\\n\"+\n",
       "     \"</p>\\n\"+\n",
       "     \"<ul>\\n\"+\n",
       "     \"<li>re-rerun `output_notebook()` to attempt to load from CDN again, or</li>\\n\"+\n",
       "     \"<li>use INLINE resources instead, as so:</li>\\n\"+\n",
       "     \"</ul>\\n\"+\n",
       "     \"<code>\\n\"+\n",
       "     \"from bokeh.resources import INLINE\\n\"+\n",
       "     \"output_notebook(resources=INLINE)\\n\"+\n",
       "     \"</code>\\n\"+\n",
       "     \"</div>\"}};\n",
       "\n",
       "  function display_loaded() {\n",
       "    var el = document.getElementById(\"e0930c97-b23b-48e6-b666-53cbd462355b\");\n",
       "    if (el != null) {\n",
       "      el.textContent = \"BokehJS is loading...\";\n",
       "    }\n",
       "    if (root.Bokeh !== undefined) {\n",
       "      if (el != null) {\n",
       "        el.textContent = \"BokehJS \" + root.Bokeh.version + \" successfully loaded.\";\n",
       "      }\n",
       "    } else if (Date.now() < root._bokeh_timeout) {\n",
       "      setTimeout(display_loaded, 100)\n",
       "    }\n",
       "  }\n",
       "\n",
       "\n",
       "  function run_callbacks() {\n",
       "    try {\n",
       "      root._bokeh_onload_callbacks.forEach(function(callback) { callback() });\n",
       "    }\n",
       "    finally {\n",
       "      delete root._bokeh_onload_callbacks\n",
       "    }\n",
       "    console.info(\"Bokeh: all callbacks have finished\");\n",
       "  }\n",
       "\n",
       "  function load_libs(js_urls, callback) {\n",
       "    root._bokeh_onload_callbacks.push(callback);\n",
       "    if (root._bokeh_is_loading > 0) {\n",
       "      console.log(\"Bokeh: BokehJS is being loaded, scheduling callback at\", now());\n",
       "      return null;\n",
       "    }\n",
       "    if (js_urls == null || js_urls.length === 0) {\n",
       "      run_callbacks();\n",
       "      return null;\n",
       "    }\n",
       "    console.log(\"Bokeh: BokehJS not loaded, scheduling load and callback at\", now());\n",
       "    root._bokeh_is_loading = js_urls.length;\n",
       "    for (var i = 0; i < js_urls.length; i++) {\n",
       "      var url = js_urls[i];\n",
       "      var s = document.createElement('script');\n",
       "      s.src = url;\n",
       "      s.async = false;\n",
       "      s.onreadystatechange = s.onload = function() {\n",
       "        root._bokeh_is_loading--;\n",
       "        if (root._bokeh_is_loading === 0) {\n",
       "          console.log(\"Bokeh: all BokehJS libraries loaded\");\n",
       "          run_callbacks()\n",
       "        }\n",
       "      };\n",
       "      s.onerror = function() {\n",
       "        console.warn(\"failed to load library \" + url);\n",
       "      };\n",
       "      console.log(\"Bokeh: injecting script tag for BokehJS library: \", url);\n",
       "      document.getElementsByTagName(\"head\")[0].appendChild(s);\n",
       "    }\n",
       "  };var element = document.getElementById(\"e0930c97-b23b-48e6-b666-53cbd462355b\");\n",
       "  if (element == null) {\n",
       "    console.log(\"Bokeh: ERROR: autoload.js configured with elementid 'e0930c97-b23b-48e6-b666-53cbd462355b' but no matching script tag was found. \")\n",
       "    return false;\n",
       "  }\n",
       "\n",
       "  var js_urls = [\"https://cdn.pydata.org/bokeh/release/bokeh-0.12.16.min.js\", \"https://cdn.pydata.org/bokeh/release/bokeh-widgets-0.12.16.min.js\", \"https://cdn.pydata.org/bokeh/release/bokeh-tables-0.12.16.min.js\", \"https://cdn.pydata.org/bokeh/release/bokeh-gl-0.12.16.min.js\"];\n",
       "\n",
       "  var inline_js = [\n",
       "    function(Bokeh) {\n",
       "      Bokeh.set_log_level(\"info\");\n",
       "    },\n",
       "    \n",
       "    function(Bokeh) {\n",
       "      \n",
       "    },\n",
       "    function(Bokeh) {\n",
       "      console.log(\"Bokeh: injecting CSS: https://cdn.pydata.org/bokeh/release/bokeh-0.12.16.min.css\");\n",
       "      Bokeh.embed.inject_css(\"https://cdn.pydata.org/bokeh/release/bokeh-0.12.16.min.css\");\n",
       "      console.log(\"Bokeh: injecting CSS: https://cdn.pydata.org/bokeh/release/bokeh-widgets-0.12.16.min.css\");\n",
       "      Bokeh.embed.inject_css(\"https://cdn.pydata.org/bokeh/release/bokeh-widgets-0.12.16.min.css\");\n",
       "      console.log(\"Bokeh: injecting CSS: https://cdn.pydata.org/bokeh/release/bokeh-tables-0.12.16.min.css\");\n",
       "      Bokeh.embed.inject_css(\"https://cdn.pydata.org/bokeh/release/bokeh-tables-0.12.16.min.css\");\n",
       "    }\n",
       "  ];\n",
       "\n",
       "  function run_inline_js() {\n",
       "    \n",
       "    if ((root.Bokeh !== undefined) || (force === true)) {\n",
       "      for (var i = 0; i < inline_js.length; i++) {\n",
       "        inline_js[i].call(root, root.Bokeh);\n",
       "      }if (force === true) {\n",
       "        display_loaded();\n",
       "      }} else if (Date.now() < root._bokeh_timeout) {\n",
       "      setTimeout(run_inline_js, 100);\n",
       "    } else if (!root._bokeh_failed_load) {\n",
       "      console.log(\"Bokeh: BokehJS failed to load within specified timeout.\");\n",
       "      root._bokeh_failed_load = true;\n",
       "    } else if (force !== true) {\n",
       "      var cell = $(document.getElementById(\"e0930c97-b23b-48e6-b666-53cbd462355b\")).parents('.cell').data().cell;\n",
       "      cell.output_area.append_execute_result(NB_LOAD_WARNING)\n",
       "    }\n",
       "\n",
       "  }\n",
       "\n",
       "  if (root._bokeh_is_loading === 0) {\n",
       "    console.log(\"Bokeh: BokehJS loaded, going straight to plotting\");\n",
       "    run_inline_js();\n",
       "  } else {\n",
       "    load_libs(js_urls, function() {\n",
       "      console.log(\"Bokeh: BokehJS plotting callback run at\", now());\n",
       "      run_inline_js();\n",
       "    });\n",
       "  }\n",
       "}(window));"
      ],
      "application/vnd.bokehjs_load.v0+json": "\n(function(root) {\n  function now() {\n    return new Date();\n  }\n\n  var force = true;\n\n  if (typeof (root._bokeh_onload_callbacks) === \"undefined\" || force === true) {\n    root._bokeh_onload_callbacks = [];\n    root._bokeh_is_loading = undefined;\n  }\n\n  \n\n  \n  if (typeof (root._bokeh_timeout) === \"undefined\" || force === true) {\n    root._bokeh_timeout = Date.now() + 5000;\n    root._bokeh_failed_load = false;\n  }\n\n  var NB_LOAD_WARNING = {'data': {'text/html':\n     \"<div style='background-color: #fdd'>\\n\"+\n     \"<p>\\n\"+\n     \"BokehJS does not appear to have successfully loaded. If loading BokehJS from CDN, this \\n\"+\n     \"may be due to a slow or bad network connection. Possible fixes:\\n\"+\n     \"</p>\\n\"+\n     \"<ul>\\n\"+\n     \"<li>re-rerun `output_notebook()` to attempt to load from CDN again, or</li>\\n\"+\n     \"<li>use INLINE resources instead, as so:</li>\\n\"+\n     \"</ul>\\n\"+\n     \"<code>\\n\"+\n     \"from bokeh.resources import INLINE\\n\"+\n     \"output_notebook(resources=INLINE)\\n\"+\n     \"</code>\\n\"+\n     \"</div>\"}};\n\n  function display_loaded() {\n    var el = document.getElementById(\"e0930c97-b23b-48e6-b666-53cbd462355b\");\n    if (el != null) {\n      el.textContent = \"BokehJS is loading...\";\n    }\n    if (root.Bokeh !== undefined) {\n      if (el != null) {\n        el.textContent = \"BokehJS \" + root.Bokeh.version + \" successfully loaded.\";\n      }\n    } else if (Date.now() < root._bokeh_timeout) {\n      setTimeout(display_loaded, 100)\n    }\n  }\n\n\n  function run_callbacks() {\n    try {\n      root._bokeh_onload_callbacks.forEach(function(callback) { callback() });\n    }\n    finally {\n      delete root._bokeh_onload_callbacks\n    }\n    console.info(\"Bokeh: all callbacks have finished\");\n  }\n\n  function load_libs(js_urls, callback) {\n    root._bokeh_onload_callbacks.push(callback);\n    if (root._bokeh_is_loading > 0) {\n      console.log(\"Bokeh: BokehJS is being loaded, scheduling callback at\", now());\n      return null;\n    }\n    if (js_urls == null || js_urls.length === 0) {\n      run_callbacks();\n      return null;\n    }\n    console.log(\"Bokeh: BokehJS not loaded, scheduling load and callback at\", now());\n    root._bokeh_is_loading = js_urls.length;\n    for (var i = 0; i < js_urls.length; i++) {\n      var url = js_urls[i];\n      var s = document.createElement('script');\n      s.src = url;\n      s.async = false;\n      s.onreadystatechange = s.onload = function() {\n        root._bokeh_is_loading--;\n        if (root._bokeh_is_loading === 0) {\n          console.log(\"Bokeh: all BokehJS libraries loaded\");\n          run_callbacks()\n        }\n      };\n      s.onerror = function() {\n        console.warn(\"failed to load library \" + url);\n      };\n      console.log(\"Bokeh: injecting script tag for BokehJS library: \", url);\n      document.getElementsByTagName(\"head\")[0].appendChild(s);\n    }\n  };var element = document.getElementById(\"e0930c97-b23b-48e6-b666-53cbd462355b\");\n  if (element == null) {\n    console.log(\"Bokeh: ERROR: autoload.js configured with elementid 'e0930c97-b23b-48e6-b666-53cbd462355b' but no matching script tag was found. \")\n    return false;\n  }\n\n  var js_urls = [\"https://cdn.pydata.org/bokeh/release/bokeh-0.12.16.min.js\", \"https://cdn.pydata.org/bokeh/release/bokeh-widgets-0.12.16.min.js\", \"https://cdn.pydata.org/bokeh/release/bokeh-tables-0.12.16.min.js\", \"https://cdn.pydata.org/bokeh/release/bokeh-gl-0.12.16.min.js\"];\n\n  var inline_js = [\n    function(Bokeh) {\n      Bokeh.set_log_level(\"info\");\n    },\n    \n    function(Bokeh) {\n      \n    },\n    function(Bokeh) {\n      console.log(\"Bokeh: injecting CSS: https://cdn.pydata.org/bokeh/release/bokeh-0.12.16.min.css\");\n      Bokeh.embed.inject_css(\"https://cdn.pydata.org/bokeh/release/bokeh-0.12.16.min.css\");\n      console.log(\"Bokeh: injecting CSS: https://cdn.pydata.org/bokeh/release/bokeh-widgets-0.12.16.min.css\");\n      Bokeh.embed.inject_css(\"https://cdn.pydata.org/bokeh/release/bokeh-widgets-0.12.16.min.css\");\n      console.log(\"Bokeh: injecting CSS: https://cdn.pydata.org/bokeh/release/bokeh-tables-0.12.16.min.css\");\n      Bokeh.embed.inject_css(\"https://cdn.pydata.org/bokeh/release/bokeh-tables-0.12.16.min.css\");\n    }\n  ];\n\n  function run_inline_js() {\n    \n    if ((root.Bokeh !== undefined) || (force === true)) {\n      for (var i = 0; i < inline_js.length; i++) {\n        inline_js[i].call(root, root.Bokeh);\n      }if (force === true) {\n        display_loaded();\n      }} else if (Date.now() < root._bokeh_timeout) {\n      setTimeout(run_inline_js, 100);\n    } else if (!root._bokeh_failed_load) {\n      console.log(\"Bokeh: BokehJS failed to load within specified timeout.\");\n      root._bokeh_failed_load = true;\n    } else if (force !== true) {\n      var cell = $(document.getElementById(\"e0930c97-b23b-48e6-b666-53cbd462355b\")).parents('.cell').data().cell;\n      cell.output_area.append_execute_result(NB_LOAD_WARNING)\n    }\n\n  }\n\n  if (root._bokeh_is_loading === 0) {\n    console.log(\"Bokeh: BokehJS loaded, going straight to plotting\");\n    run_inline_js();\n  } else {\n    load_libs(js_urls, function() {\n      console.log(\"Bokeh: BokehJS plotting callback run at\", now());\n      run_inline_js();\n    });\n  }\n}(window));"
     },
     "metadata": {},
     "output_type": "display_data"
    }
   ],
   "source": [
    "from bokeh.io import show, output_notebook\n",
    "\n",
    "from bokeh.models import Plot\n",
    "from bokeh.models import ColumnDataSource\n",
    "from bokeh.models import Range, Range1d, DataRange1d, FactorRange\n",
    "from bokeh.models import LinearAxis, CategoricalAxis\n",
    "from bokeh.models import LabelSet\n",
    "\n",
    "from bokeh.models.scales import CategoricalScale\n",
    "from bokeh.models.markers import Circle\n",
    "from bokeh.models.glyphs import HBar, Segment\n",
    "\n",
    "from bokeh.palettes import OrRd, Blues\n",
    "from bokeh.layouts import row\n",
    "\n",
    "output_notebook()"
   ]
  },
  {
   "cell_type": "markdown",
   "metadata": {},
   "source": [
    "Sample data to feed our chart. The dataset contains metrics, metric values, and specifications."
   ]
  },
  {
   "cell_type": "code",
   "execution_count": 2,
   "metadata": {},
   "outputs": [],
   "source": [
    "source = ColumnDataSource({'metrics': ['AM1', 'AM2', 'AM3'],\n",
    "                           'values': [8, 11.2, 22.14],\n",
    "                           'stretch': [5, 5, 10],\n",
    "                           'design': [10, 10, 15],\n",
    "                           'minimum': [20, 20, 30]})"
   ]
  },
  {
   "cell_type": "markdown",
   "metadata": {},
   "source": [
    "Here we follow the *additive development* approach as suggested in the post. The idea is to explicitly add each Bokeh model as opposed to use the Bokeh plotting API and modify the plot defaults.\n",
    "\n"
   ]
  },
  {
   "cell_type": "markdown",
   "metadata": {},
   "source": [
    "Let's start by creating an empty plot. The minimum requirement for doing so is to specify the `x_range` and `y_range` ranges.\n"
   ]
  },
  {
   "cell_type": "code",
   "execution_count": 3,
   "metadata": {},
   "outputs": [
    {
     "name": "stderr",
     "output_type": "stream",
     "text": [
      "WARNING:bokeh.core.validation.check:W-1000 (MISSING_RENDERERS): Plot has no renderers: Plot(id='93074202-8045-4d21-b11a-a2df8a87f628', ...)\n"
     ]
    },
    {
     "data": {
      "text/html": [
       "\n",
       "<div class=\"bk-root\">\n",
       "    <div class=\"bk-plotdiv\" id=\"09f1fa8a-96ff-4d46-a7dc-a123b5939110\"></div>\n",
       "</div>"
      ]
     },
     "metadata": {},
     "output_type": "display_data"
    },
    {
     "data": {
      "application/javascript": [
       "(function(root) {\n",
       "  function embed_document(root) {\n",
       "    \n",
       "  var docs_json = {\"828f7306-c6e9-407b-b3cd-4b17cd2941bb\":{\"roots\":{\"references\":[{\"attributes\":{\"plot\":null,\"text\":\"\"},\"id\":\"d83c6f1c-242b-46fb-a613-83e45ae6efa9\",\"type\":\"Title\"},{\"attributes\":{\"active_drag\":\"auto\",\"active_inspect\":\"auto\",\"active_scroll\":\"auto\",\"active_tap\":\"auto\"},\"id\":\"d9d1a984-5719-4ac2-ad0c-f6770124c59e\",\"type\":\"Toolbar\"},{\"attributes\":{\"plot_height\":400,\"plot_width\":400,\"title\":{\"id\":\"d83c6f1c-242b-46fb-a613-83e45ae6efa9\",\"type\":\"Title\"},\"toolbar\":{\"id\":\"d9d1a984-5719-4ac2-ad0c-f6770124c59e\",\"type\":\"Toolbar\"},\"x_range\":{\"id\":\"f007b97b-94f9-4dfd-bf4f-1fb985efbc23\",\"type\":\"Range\"},\"x_scale\":{\"id\":\"af3c6669-c833-47ee-b67e-bd4f84c2a144\",\"type\":\"LinearScale\"},\"y_range\":{\"id\":\"39c23eaa-496c-47a4-ad29-14f2e7013754\",\"type\":\"Range\"},\"y_scale\":{\"id\":\"d0883657-f9fb-4fc9-b49c-b9c613e0c06b\",\"type\":\"LinearScale\"}},\"id\":\"93074202-8045-4d21-b11a-a2df8a87f628\",\"type\":\"Plot\"},{\"attributes\":{\"callback\":null},\"id\":\"f007b97b-94f9-4dfd-bf4f-1fb985efbc23\",\"type\":\"Range\"},{\"attributes\":{\"callback\":null},\"id\":\"39c23eaa-496c-47a4-ad29-14f2e7013754\",\"type\":\"Range\"},{\"attributes\":{},\"id\":\"af3c6669-c833-47ee-b67e-bd4f84c2a144\",\"type\":\"LinearScale\"},{\"attributes\":{},\"id\":\"d0883657-f9fb-4fc9-b49c-b9c613e0c06b\",\"type\":\"LinearScale\"}],\"root_ids\":[\"93074202-8045-4d21-b11a-a2df8a87f628\"]},\"title\":\"Bokeh Application\",\"version\":\"0.12.16\"}};\n",
       "  var render_items = [{\"docid\":\"828f7306-c6e9-407b-b3cd-4b17cd2941bb\",\"elementid\":\"09f1fa8a-96ff-4d46-a7dc-a123b5939110\",\"modelid\":\"93074202-8045-4d21-b11a-a2df8a87f628\"}];\n",
       "  root.Bokeh.embed.embed_items_notebook(docs_json, render_items);\n",
       "\n",
       "  }\n",
       "  if (root.Bokeh !== undefined) {\n",
       "    embed_document(root);\n",
       "  } else {\n",
       "    var attempts = 0;\n",
       "    var timer = setInterval(function(root) {\n",
       "      if (root.Bokeh !== undefined) {\n",
       "        embed_document(root);\n",
       "        clearInterval(timer);\n",
       "      }\n",
       "      attempts++;\n",
       "      if (attempts > 100) {\n",
       "        console.log(\"Bokeh: ERROR: Unable to run BokehJS code because BokehJS library is missing\")\n",
       "        clearInterval(timer);\n",
       "      }\n",
       "    }, 10, root)\n",
       "  }\n",
       "})(window);"
      ],
      "application/vnd.bokehjs_exec.v0+json": ""
     },
     "metadata": {
      "application/vnd.bokehjs_exec.v0+json": {
       "id": "93074202-8045-4d21-b11a-a2df8a87f628"
      }
     },
     "output_type": "display_data"
    }
   ],
   "source": [
    "p1 = Plot(x_range=Range(), y_range=Range(), plot_height=400, plot_width=400)\n",
    "show(p1)"
   ]
  },
  {
   "cell_type": "markdown",
   "metadata": {},
   "source": [
    "The warning message above simply means that there's nothing to render yet."
   ]
  },
  {
   "cell_type": "markdown",
   "metadata": {},
   "source": [
    "Our new chart will have two plots, `p1` that will display the metric percentage deviation from the design, and `p2` that will display the actual metric values compared against the specifications.  \n",
    "\n",
    "\n"
   ]
  },
  {
   "cell_type": "markdown",
   "metadata": {},
   "source": [
    "For the percentage deviation plot we want the x-axis range to be fixed."
   ]
  },
  {
   "cell_type": "code",
   "execution_count": 4,
   "metadata": {},
   "outputs": [],
   "source": [
    "p1.x_range = Range1d(-100, 100)"
   ]
  },
  {
   "cell_type": "markdown",
   "metadata": {},
   "source": [
    "In the y-axis we want to display the metric names, a categorial variable, so we use a `FactorRange()` for that, and initialize the factors with the categories present in our dataset. We also need to specify an appropriate scale for this axis."
   ]
  },
  {
   "cell_type": "code",
   "execution_count": 5,
   "metadata": {},
   "outputs": [],
   "source": [
    "p1.y_range = FactorRange(factors=source.data['metrics'])\n",
    "p1.y_scale = CategoricalScale()"
   ]
  },
  {
   "cell_type": "markdown",
   "metadata": {},
   "source": [
    "Let's compute the percentage deviation and add the `HBar()` glyph to display hat. We'll annotate the values by adding a `Labelset()` close to the bars instead of adding the x-axis to the plot."
   ]
  },
  {
   "cell_type": "code",
   "execution_count": 6,
   "metadata": {},
   "outputs": [
    {
     "data": {
      "text/html": [
       "\n",
       "<div class=\"bk-root\">\n",
       "    <div class=\"bk-plotdiv\" id=\"86b6bd87-a57a-4545-ba70-785e2e7cd225\"></div>\n",
       "</div>"
      ]
     },
     "metadata": {},
     "output_type": "display_data"
    },
    {
     "data": {
      "application/javascript": [
       "(function(root) {\n",
       "  function embed_document(root) {\n",
       "    \n",
       "  var docs_json = {\"4e5fe4dd-b694-4763-be97-ee7551e20210\":{\"roots\":{\"references\":[{\"attributes\":{\"active_drag\":\"auto\",\"active_inspect\":\"auto\",\"active_scroll\":\"auto\",\"active_tap\":\"auto\"},\"id\":\"d9d1a984-5719-4ac2-ad0c-f6770124c59e\",\"type\":\"Toolbar\"},{\"attributes\":{},\"id\":\"bf325897-dbe3-4cdf-90cb-c21a4af7c002\",\"type\":\"CategoricalTickFormatter\"},{\"attributes\":{},\"id\":\"af3c6669-c833-47ee-b67e-bd4f84c2a144\",\"type\":\"LinearScale\"},{\"attributes\":{\"callback\":null,\"factors\":[\"AM1\",\"AM2\",\"AM3\"]},\"id\":\"a8370ac8-9141-44dd-ba9a-e33fdc6f7d81\",\"type\":\"FactorRange\"},{\"attributes\":{\"source\":{\"id\":\"deca97d9-3499-4f13-a6d9-01de5a092b2f\",\"type\":\"ColumnDataSource\"}},\"id\":\"35edd1bc-f07c-46fd-a013-0516456c8472\",\"type\":\"CDSView\"},{\"attributes\":{\"align\":\"center\",\"plot\":null,\"text\":\"% deviation from design\",\"text_font_size\":{\"value\":\"14pt\"}},\"id\":\"d83c6f1c-242b-46fb-a613-83e45ae6efa9\",\"type\":\"Title\"},{\"attributes\":{},\"id\":\"18395cdd-5f3c-4468-91ee-a54c2536647b\",\"type\":\"Selection\"},{\"attributes\":{},\"id\":\"6557f765-a053-458e-a8f3-c1f613f8c332\",\"type\":\"UnionRenderers\"},{\"attributes\":{\"callback\":null,\"data\":{\"color\":[\"#9ecae1\",\"#fdbb84\",\"#fdbb84\"],\"design\":[10,10,15],\"deviation\":[-20.0,11.999999999999993,47.6],\"metrics\":[\"AM1\",\"AM2\",\"AM3\"],\"minimum\":[20,20,30],\"percentage\":[\"-20%\",\"11%\",\"47%\"],\"stretch\":[5,5,10],\"values\":[8,11.2,22.14],\"x_offset\":[-35,10,10]},\"selected\":{\"id\":\"18395cdd-5f3c-4468-91ee-a54c2536647b\",\"type\":\"Selection\"},\"selection_policy\":{\"id\":\"6557f765-a053-458e-a8f3-c1f613f8c332\",\"type\":\"UnionRenderers\"}},\"id\":\"deca97d9-3499-4f13-a6d9-01de5a092b2f\",\"type\":\"ColumnDataSource\"},{\"attributes\":{\"left\":[{\"id\":\"1979becd-29a6-4971-8d5c-3e6e2977be21\",\"type\":\"CategoricalAxis\"}],\"outline_line_color\":{\"value\":\"white\"},\"plot_height\":400,\"plot_width\":400,\"renderers\":[{\"id\":\"f9bc898e-f196-4571-9ac3-982a5aa4bdcf\",\"type\":\"GlyphRenderer\"},{\"id\":\"1979becd-29a6-4971-8d5c-3e6e2977be21\",\"type\":\"CategoricalAxis\"},{\"id\":\"d8720043-76c4-43b5-869c-3585e9932a18\",\"type\":\"LabelSet\"}],\"title\":{\"id\":\"d83c6f1c-242b-46fb-a613-83e45ae6efa9\",\"type\":\"Title\"},\"toolbar\":{\"id\":\"d9d1a984-5719-4ac2-ad0c-f6770124c59e\",\"type\":\"Toolbar\"},\"x_range\":{\"id\":\"520b5389-dd02-44b8-afb9-0ec65af565c7\",\"type\":\"Range1d\"},\"x_scale\":{\"id\":\"af3c6669-c833-47ee-b67e-bd4f84c2a144\",\"type\":\"LinearScale\"},\"y_range\":{\"id\":\"a8370ac8-9141-44dd-ba9a-e33fdc6f7d81\",\"type\":\"FactorRange\"},\"y_scale\":{\"id\":\"62efcc8a-3f6e-41b9-a461-2e83f93e0604\",\"type\":\"CategoricalScale\"}},\"id\":\"93074202-8045-4d21-b11a-a2df8a87f628\",\"type\":\"Plot\"},{\"attributes\":{\"fixed_location\":0,\"formatter\":{\"id\":\"bf325897-dbe3-4cdf-90cb-c21a4af7c002\",\"type\":\"CategoricalTickFormatter\"},\"major_label_standoff\":100,\"major_label_text_font_size\":{\"value\":\"14pt\"},\"plot\":{\"id\":\"93074202-8045-4d21-b11a-a2df8a87f628\",\"type\":\"Plot\"},\"ticker\":{\"id\":\"a3ff412d-66bd-4a9b-a796-f0895c9502b1\",\"type\":\"CategoricalTicker\"}},\"id\":\"1979becd-29a6-4971-8d5c-3e6e2977be21\",\"type\":\"CategoricalAxis\"},{\"attributes\":{},\"id\":\"62efcc8a-3f6e-41b9-a461-2e83f93e0604\",\"type\":\"CategoricalScale\"},{\"attributes\":{\"data_source\":{\"id\":\"deca97d9-3499-4f13-a6d9-01de5a092b2f\",\"type\":\"ColumnDataSource\"},\"glyph\":{\"id\":\"2bbeadeb-76b6-4d1e-8c74-5dd5b87f0622\",\"type\":\"HBar\"},\"hover_glyph\":null,\"muted_glyph\":null,\"view\":{\"id\":\"35edd1bc-f07c-46fd-a013-0516456c8472\",\"type\":\"CDSView\"}},\"id\":\"f9bc898e-f196-4571-9ac3-982a5aa4bdcf\",\"type\":\"GlyphRenderer\"},{\"attributes\":{\"fill_color\":{\"field\":\"color\"},\"height\":{\"value\":0.5},\"line_color\":{\"field\":\"color\"},\"right\":{\"field\":\"deviation\"},\"y\":{\"field\":\"metrics\"}},\"id\":\"2bbeadeb-76b6-4d1e-8c74-5dd5b87f0622\",\"type\":\"HBar\"},{\"attributes\":{\"level\":\"glyph\",\"plot\":{\"id\":\"93074202-8045-4d21-b11a-a2df8a87f628\",\"type\":\"Plot\"},\"source\":{\"id\":\"deca97d9-3499-4f13-a6d9-01de5a092b2f\",\"type\":\"ColumnDataSource\"},\"text\":{\"field\":\"percentage\"},\"text_font_size\":{\"value\":\"10pt\"},\"x\":{\"field\":\"deviation\"},\"x_offset\":{\"field\":\"x_offset\"},\"y\":{\"field\":\"metrics\"}},\"id\":\"d8720043-76c4-43b5-869c-3585e9932a18\",\"type\":\"LabelSet\"},{\"attributes\":{\"callback\":null,\"end\":100,\"start\":-100},\"id\":\"520b5389-dd02-44b8-afb9-0ec65af565c7\",\"type\":\"Range1d\"},{\"attributes\":{},\"id\":\"a3ff412d-66bd-4a9b-a796-f0895c9502b1\",\"type\":\"CategoricalTicker\"}],\"root_ids\":[\"93074202-8045-4d21-b11a-a2df8a87f628\"]},\"title\":\"Bokeh Application\",\"version\":\"0.12.16\"}};\n",
       "  var render_items = [{\"docid\":\"4e5fe4dd-b694-4763-be97-ee7551e20210\",\"elementid\":\"86b6bd87-a57a-4545-ba70-785e2e7cd225\",\"modelid\":\"93074202-8045-4d21-b11a-a2df8a87f628\"}];\n",
       "  root.Bokeh.embed.embed_items_notebook(docs_json, render_items);\n",
       "\n",
       "  }\n",
       "  if (root.Bokeh !== undefined) {\n",
       "    embed_document(root);\n",
       "  } else {\n",
       "    var attempts = 0;\n",
       "    var timer = setInterval(function(root) {\n",
       "      if (root.Bokeh !== undefined) {\n",
       "        embed_document(root);\n",
       "        clearInterval(timer);\n",
       "      }\n",
       "      attempts++;\n",
       "      if (attempts > 100) {\n",
       "        console.log(\"Bokeh: ERROR: Unable to run BokehJS code because BokehJS library is missing\")\n",
       "        clearInterval(timer);\n",
       "      }\n",
       "    }, 10, root)\n",
       "  }\n",
       "})(window);"
      ],
      "application/vnd.bokehjs_exec.v0+json": ""
     },
     "metadata": {
      "application/vnd.bokehjs_exec.v0+json": {
       "id": "93074202-8045-4d21-b11a-a2df8a87f628"
      }
     },
     "output_type": "display_data"
    }
   ],
   "source": [
    "p1.outline_line_color = 'white'\n",
    "p1.title.text = '% deviation from design'\n",
    "p1.title.align = 'center'\n",
    "p1.title.text_font_size = '14pt'\n",
    "\n",
    "source.data['deviation'] = [(value-design)/design*100 for value, design in\n",
    "                            zip(source.data['values'], source.data['design'])]\n",
    "\n",
    "source.data['color'] = [OrRd[3][1] if x > 0 else Blues[3][1] for x in\n",
    "                        source.data['deviation']]\n",
    "\n",
    "\n",
    "height = 0.5\n",
    "hbar = HBar(y='metrics', left=0, right='deviation', line_color='color',\n",
    "            fill_color='color', height=height)\n",
    "\n",
    "p1.add_glyph(source, hbar)\n",
    "\n",
    "yaxis = CategoricalAxis()\n",
    "yaxis.fixed_location = 0\n",
    "yaxis.major_label_standoff = 100\n",
    "yaxis.major_label_text_font_size = '14pt'\n",
    "\n",
    "p1.add_layout(yaxis, 'left')\n",
    "\n",
    "source.data['x_offset'] = [10 if x > 0 else -35 for x in\n",
    "                           source.data['deviation']]\n",
    "\n",
    "source.data['percentage'] = [\"{}%\".format(int(x)) for x in\n",
    "                             source.data['deviation']]\n",
    "\n",
    "percentage = LabelSet(x='deviation', y='metrics', text='percentage',\n",
    "                      x_offset='x_offset', text_font_size=\"10pt\",\n",
    "                      level='glyph', source=source)\n",
    "\n",
    "p1.add_layout(percentage)\n",
    "\n",
    "show(p1)"
   ]
  },
  {
   "cell_type": "markdown",
   "metadata": {},
   "source": [
    "The colors indicate if the actual metric value satisfies the design specification (blue) or not (orange)."
   ]
  },
  {
   "cell_type": "markdown",
   "metadata": {},
   "source": [
    "For displaying the actual metric values, we want the x-axis range to adjust automatically based on the data, so lets use `DataRange1d()` for that."
   ]
  },
  {
   "cell_type": "code",
   "execution_count": 7,
   "metadata": {},
   "outputs": [],
   "source": [
    "p2 = Plot(x_range=DataRange1d(),\n",
    "          y_range=FactorRange(factors=source.data['metrics']),\n",
    "          plot_height=400, plot_width=400)\n",
    "p2.y_scale = CategoricalScale()"
   ]
  },
  {
   "cell_type": "markdown",
   "metadata": {},
   "source": [
    "Now lets add the `HBar()` glyph to display the minimum and strech thresholds for each metric, and a `Segment()` glyph to indicate the design goal."
   ]
  },
  {
   "cell_type": "code",
   "execution_count": 8,
   "metadata": {
    "scrolled": true
   },
   "outputs": [
    {
     "data": {
      "text/html": [
       "\n",
       "<div class=\"bk-root\">\n",
       "    <div class=\"bk-plotdiv\" id=\"1b30072d-53d0-4207-a38e-fce5b983fdf9\"></div>\n",
       "</div>"
      ]
     },
     "metadata": {},
     "output_type": "display_data"
    },
    {
     "data": {
      "application/javascript": [
       "(function(root) {\n",
       "  function embed_document(root) {\n",
       "    \n",
       "  var docs_json = {\"fd0f66c2-f680-4924-8a1f-d39b19b243fb\":{\"roots\":{\"references\":[{\"attributes\":{\"axis_label\":\"AMx (marcsec)\",\"formatter\":{\"id\":\"e55f55c4-1076-4495-b628-eae90ff27b2d\",\"type\":\"BasicTickFormatter\"},\"plot\":{\"id\":\"89fd7aeb-209a-464c-bc45-f3f56cb42ea7\",\"type\":\"Plot\"},\"ticker\":{\"id\":\"5d354295-9391-424a-bf4d-a139edaf6749\",\"type\":\"BasicTicker\"}},\"id\":\"535e0ece-93c1-484c-92b4-ed7ed5c0d49e\",\"type\":\"LinearAxis\"},{\"attributes\":{\"callback\":null,\"factors\":[\"AM1\",\"AM2\",\"AM3\"]},\"id\":\"e3384f94-e9dd-4f28-8fea-bd5a7043b1af\",\"type\":\"FactorRange\"},{\"attributes\":{\"callback\":null},\"id\":\"c7cf43a2-33c7-4ae3-9fae-644e33ae4fb2\",\"type\":\"DataRange1d\"},{\"attributes\":{},\"id\":\"5d354295-9391-424a-bf4d-a139edaf6749\",\"type\":\"BasicTicker\"},{\"attributes\":{},\"id\":\"18395cdd-5f3c-4468-91ee-a54c2536647b\",\"type\":\"Selection\"},{\"attributes\":{\"plot\":null,\"text\":\"\"},\"id\":\"96467413-738f-4b6f-ac6a-2f807e66644e\",\"type\":\"Title\"},{\"attributes\":{},\"id\":\"6557f765-a053-458e-a8f3-c1f613f8c332\",\"type\":\"UnionRenderers\"},{\"attributes\":{},\"id\":\"1a9ee58b-2c40-4e09-8880-7360d2e5f2ef\",\"type\":\"LinearScale\"},{\"attributes\":{},\"id\":\"dbf4bd6c-5126-418f-bfbd-a2357fe841dd\",\"type\":\"CategoricalScale\"},{\"attributes\":{\"callback\":null,\"data\":{\"color\":[\"#9ecae1\",\"#fdbb84\",\"#fdbb84\"],\"design\":[10,10,15],\"deviation\":[-20.0,11.999999999999993,47.6],\"metrics\":[\"AM1\",\"AM2\",\"AM3\"],\"minimum\":[20,20,30],\"percentage\":[\"-20%\",\"11%\",\"47%\"],\"stretch\":[5,5,10],\"values\":[8,11.2,22.14],\"x_offset\":[-35,10,10],\"y0\":[[\"AM1\",-0.25],[\"AM2\",-0.25],[\"AM3\",-0.25]],\"y1\":[[\"AM1\",0.25],[\"AM2\",0.25],[\"AM3\",0.25]]},\"selected\":{\"id\":\"18395cdd-5f3c-4468-91ee-a54c2536647b\",\"type\":\"Selection\"},\"selection_policy\":{\"id\":\"6557f765-a053-458e-a8f3-c1f613f8c332\",\"type\":\"UnionRenderers\"}},\"id\":\"deca97d9-3499-4f13-a6d9-01de5a092b2f\",\"type\":\"ColumnDataSource\"},{\"attributes\":{\"line_width\":{\"value\":4},\"x0\":{\"field\":\"design\"},\"x1\":{\"field\":\"design\"},\"y0\":{\"field\":\"y0\"},\"y1\":{\"field\":\"y1\"}},\"id\":\"7885883b-187e-4cd0-a50c-494485ebc3d8\",\"type\":\"Segment\"},{\"attributes\":{\"data_source\":{\"id\":\"deca97d9-3499-4f13-a6d9-01de5a092b2f\",\"type\":\"ColumnDataSource\"},\"glyph\":{\"id\":\"7885883b-187e-4cd0-a50c-494485ebc3d8\",\"type\":\"Segment\"},\"hover_glyph\":null,\"muted_glyph\":null,\"view\":{\"id\":\"3dee9be3-6757-4884-807f-ed7ebb2faa3d\",\"type\":\"CDSView\"}},\"id\":\"5378c33f-0b77-454a-ae0b-9b24ed09e299\",\"type\":\"GlyphRenderer\"},{\"attributes\":{\"source\":{\"id\":\"deca97d9-3499-4f13-a6d9-01de5a092b2f\",\"type\":\"ColumnDataSource\"}},\"id\":\"3dee9be3-6757-4884-807f-ed7ebb2faa3d\",\"type\":\"CDSView\"},{\"attributes\":{},\"id\":\"e55f55c4-1076-4495-b628-eae90ff27b2d\",\"type\":\"BasicTickFormatter\"},{\"attributes\":{\"below\":[{\"id\":\"535e0ece-93c1-484c-92b4-ed7ed5c0d49e\",\"type\":\"LinearAxis\"}],\"outline_line_color\":{\"value\":\"white\"},\"plot_height\":400,\"plot_width\":400,\"renderers\":[{\"id\":\"41162461-3c9a-43bd-80b9-7025a351bbdd\",\"type\":\"GlyphRenderer\"},{\"id\":\"5378c33f-0b77-454a-ae0b-9b24ed09e299\",\"type\":\"GlyphRenderer\"},{\"id\":\"535e0ece-93c1-484c-92b4-ed7ed5c0d49e\",\"type\":\"LinearAxis\"}],\"title\":{\"id\":\"96467413-738f-4b6f-ac6a-2f807e66644e\",\"type\":\"Title\"},\"toolbar\":{\"id\":\"ba216c24-39c1-430d-b0bd-0a88af2737c5\",\"type\":\"Toolbar\"},\"x_range\":{\"id\":\"c7cf43a2-33c7-4ae3-9fae-644e33ae4fb2\",\"type\":\"DataRange1d\"},\"x_scale\":{\"id\":\"1a9ee58b-2c40-4e09-8880-7360d2e5f2ef\",\"type\":\"LinearScale\"},\"y_range\":{\"id\":\"e3384f94-e9dd-4f28-8fea-bd5a7043b1af\",\"type\":\"FactorRange\"},\"y_scale\":{\"id\":\"dbf4bd6c-5126-418f-bfbd-a2357fe841dd\",\"type\":\"CategoricalScale\"}},\"id\":\"89fd7aeb-209a-464c-bc45-f3f56cb42ea7\",\"type\":\"Plot\"},{\"attributes\":{\"active_drag\":\"auto\",\"active_inspect\":\"auto\",\"active_scroll\":\"auto\",\"active_tap\":\"auto\"},\"id\":\"ba216c24-39c1-430d-b0bd-0a88af2737c5\",\"type\":\"Toolbar\"},{\"attributes\":{\"source\":{\"id\":\"deca97d9-3499-4f13-a6d9-01de5a092b2f\",\"type\":\"ColumnDataSource\"}},\"id\":\"d25b3c78-d547-4ffc-9c08-5888952a41a5\",\"type\":\"CDSView\"},{\"attributes\":{\"data_source\":{\"id\":\"deca97d9-3499-4f13-a6d9-01de5a092b2f\",\"type\":\"ColumnDataSource\"},\"glyph\":{\"id\":\"86306dd0-c227-4ed3-9447-e57b304efeec\",\"type\":\"HBar\"},\"hover_glyph\":null,\"muted_glyph\":null,\"view\":{\"id\":\"d25b3c78-d547-4ffc-9c08-5888952a41a5\",\"type\":\"CDSView\"}},\"id\":\"41162461-3c9a-43bd-80b9-7025a351bbdd\",\"type\":\"GlyphRenderer\"},{\"attributes\":{\"fill_color\":{\"value\":\"lightgray\"},\"height\":{\"value\":0.5},\"left\":{\"field\":\"stretch\"},\"line_color\":{\"value\":\"lightgray\"},\"right\":{\"field\":\"minimum\"},\"y\":{\"field\":\"metrics\"}},\"id\":\"86306dd0-c227-4ed3-9447-e57b304efeec\",\"type\":\"HBar\"}],\"root_ids\":[\"89fd7aeb-209a-464c-bc45-f3f56cb42ea7\"]},\"title\":\"Bokeh Application\",\"version\":\"0.12.16\"}};\n",
       "  var render_items = [{\"docid\":\"fd0f66c2-f680-4924-8a1f-d39b19b243fb\",\"elementid\":\"1b30072d-53d0-4207-a38e-fce5b983fdf9\",\"modelid\":\"89fd7aeb-209a-464c-bc45-f3f56cb42ea7\"}];\n",
       "  root.Bokeh.embed.embed_items_notebook(docs_json, render_items);\n",
       "\n",
       "  }\n",
       "  if (root.Bokeh !== undefined) {\n",
       "    embed_document(root);\n",
       "  } else {\n",
       "    var attempts = 0;\n",
       "    var timer = setInterval(function(root) {\n",
       "      if (root.Bokeh !== undefined) {\n",
       "        embed_document(root);\n",
       "        clearInterval(timer);\n",
       "      }\n",
       "      attempts++;\n",
       "      if (attempts > 100) {\n",
       "        console.log(\"Bokeh: ERROR: Unable to run BokehJS code because BokehJS library is missing\")\n",
       "        clearInterval(timer);\n",
       "      }\n",
       "    }, 10, root)\n",
       "  }\n",
       "})(window);"
      ],
      "application/vnd.bokehjs_exec.v0+json": ""
     },
     "metadata": {
      "application/vnd.bokehjs_exec.v0+json": {
       "id": "89fd7aeb-209a-464c-bc45-f3f56cb42ea7"
      }
     },
     "output_type": "display_data"
    }
   ],
   "source": [
    "p2.outline_line_color = 'white'\n",
    "\n",
    "height = 0.5\n",
    "hbar = HBar(y='metrics', left='stretch', right='minimum', line_color='lightgray', \n",
    "            fill_color='lightgray', height=height)\n",
    "\n",
    "p2.add_glyph(source, hbar)\n",
    "\n",
    "source.data['y0'] = [(x, -height/2) for x in source.data['metrics']]\n",
    "source.data['y1'] = [(x, height/2) for x in source.data['metrics']]\n",
    "\n",
    "segment = Segment(x0='design', y0=\"y0\", x1='design', y1='y1', \n",
    "                  line_color='black', line_width=4)\n",
    "\n",
    "p2.add_glyph(source, segment)\n",
    "\n",
    "xaxis = LinearAxis()\n",
    "xaxis.axis_label = 'AMx (marcsec)'\n",
    "\n",
    "p2.add_layout(xaxis, 'below')\n",
    "\n",
    "show(p2)\n"
   ]
  },
  {
   "cell_type": "markdown",
   "metadata": {},
   "source": [
    "Lets add a `Circle()` marker to display the metric values and a `LabelSet()` for quoting the actual values. "
   ]
  },
  {
   "cell_type": "code",
   "execution_count": 9,
   "metadata": {},
   "outputs": [
    {
     "data": {
      "text/html": [
       "\n",
       "<div class=\"bk-root\">\n",
       "    <div class=\"bk-plotdiv\" id=\"e5b316d2-1a64-4560-9603-4e392017aa9a\"></div>\n",
       "</div>"
      ]
     },
     "metadata": {},
     "output_type": "display_data"
    },
    {
     "data": {
      "application/javascript": [
       "(function(root) {\n",
       "  function embed_document(root) {\n",
       "    \n",
       "  var docs_json = {\"ade04004-6fed-4657-842a-dbd158bff62a\":{\"roots\":{\"references\":[{\"attributes\":{\"axis_label\":\"AMx (marcsec)\",\"formatter\":{\"id\":\"e55f55c4-1076-4495-b628-eae90ff27b2d\",\"type\":\"BasicTickFormatter\"},\"plot\":{\"id\":\"89fd7aeb-209a-464c-bc45-f3f56cb42ea7\",\"type\":\"Plot\"},\"ticker\":{\"id\":\"5d354295-9391-424a-bf4d-a139edaf6749\",\"type\":\"BasicTicker\"}},\"id\":\"535e0ece-93c1-484c-92b4-ed7ed5c0d49e\",\"type\":\"LinearAxis\"},{\"attributes\":{\"callback\":null,\"factors\":[\"AM1\",\"AM2\",\"AM3\"]},\"id\":\"e3384f94-e9dd-4f28-8fea-bd5a7043b1af\",\"type\":\"FactorRange\"},{\"attributes\":{\"callback\":null},\"id\":\"c7cf43a2-33c7-4ae3-9fae-644e33ae4fb2\",\"type\":\"DataRange1d\"},{\"attributes\":{},\"id\":\"5d354295-9391-424a-bf4d-a139edaf6749\",\"type\":\"BasicTicker\"},{\"attributes\":{},\"id\":\"18395cdd-5f3c-4468-91ee-a54c2536647b\",\"type\":\"Selection\"},{\"attributes\":{\"plot\":null,\"text\":\"\"},\"id\":\"96467413-738f-4b6f-ac6a-2f807e66644e\",\"type\":\"Title\"},{\"attributes\":{\"fill_color\":{\"field\":\"color\"},\"line_color\":{\"field\":\"color\"},\"size\":{\"units\":\"screen\",\"value\":16},\"x\":{\"field\":\"values\"},\"y\":{\"field\":\"metrics\"}},\"id\":\"169e73be-54d6-4a69-937e-568d5502e1eb\",\"type\":\"Circle\"},{\"attributes\":{},\"id\":\"1a9ee58b-2c40-4e09-8880-7360d2e5f2ef\",\"type\":\"LinearScale\"},{\"attributes\":{\"data_source\":{\"id\":\"deca97d9-3499-4f13-a6d9-01de5a092b2f\",\"type\":\"ColumnDataSource\"},\"glyph\":{\"id\":\"169e73be-54d6-4a69-937e-568d5502e1eb\",\"type\":\"Circle\"},\"hover_glyph\":null,\"muted_glyph\":null,\"view\":{\"id\":\"118674dc-1a16-42e0-afe3-9476fb59126c\",\"type\":\"CDSView\"}},\"id\":\"a3449438-30a9-4237-8fdc-28784ecf8507\",\"type\":\"GlyphRenderer\"},{\"attributes\":{},\"id\":\"6557f765-a053-458e-a8f3-c1f613f8c332\",\"type\":\"UnionRenderers\"},{\"attributes\":{},\"id\":\"dbf4bd6c-5126-418f-bfbd-a2357fe841dd\",\"type\":\"CategoricalScale\"},{\"attributes\":{\"callback\":null,\"data\":{\"color\":[\"#9ecae1\",\"#fdbb84\",\"#fdbb84\"],\"design\":[10,10,15],\"deviation\":[-20.0,11.999999999999993,47.6],\"formated_values\":[\"8.0\",\"11.2\",\"22.1\"],\"metrics\":[\"AM1\",\"AM2\",\"AM3\"],\"minimum\":[20,20,30],\"percentage\":[\"-20%\",\"11%\",\"47%\"],\"stretch\":[5,5,10],\"values\":[8,11.2,22.14],\"x_offset\":[-35,10,10],\"y0\":[[\"AM1\",-0.25],[\"AM2\",-0.25],[\"AM3\",-0.25]],\"y1\":[[\"AM1\",0.25],[\"AM2\",0.25],[\"AM3\",0.25]]},\"selected\":{\"id\":\"18395cdd-5f3c-4468-91ee-a54c2536647b\",\"type\":\"Selection\"},\"selection_policy\":{\"id\":\"6557f765-a053-458e-a8f3-c1f613f8c332\",\"type\":\"UnionRenderers\"}},\"id\":\"deca97d9-3499-4f13-a6d9-01de5a092b2f\",\"type\":\"ColumnDataSource\"},{\"attributes\":{\"level\":\"glyph\",\"plot\":{\"id\":\"89fd7aeb-209a-464c-bc45-f3f56cb42ea7\",\"type\":\"Plot\"},\"source\":{\"id\":\"deca97d9-3499-4f13-a6d9-01de5a092b2f\",\"type\":\"ColumnDataSource\"},\"text\":{\"field\":\"formated_values\"},\"text_font_size\":{\"value\":\"10pt\"},\"x\":{\"field\":\"values\"},\"x_offset\":{\"field\":\"x_offset\"},\"y\":{\"field\":\"metrics\"},\"y_offset\":{\"value\":-7.5}},\"id\":\"4d293685-e9c9-42eb-9c4a-6d2ebe646d79\",\"type\":\"LabelSet\"},{\"attributes\":{\"line_width\":{\"value\":4},\"x0\":{\"field\":\"design\"},\"x1\":{\"field\":\"design\"},\"y0\":{\"field\":\"y0\"},\"y1\":{\"field\":\"y1\"}},\"id\":\"7885883b-187e-4cd0-a50c-494485ebc3d8\",\"type\":\"Segment\"},{\"attributes\":{\"data_source\":{\"id\":\"deca97d9-3499-4f13-a6d9-01de5a092b2f\",\"type\":\"ColumnDataSource\"},\"glyph\":{\"id\":\"7885883b-187e-4cd0-a50c-494485ebc3d8\",\"type\":\"Segment\"},\"hover_glyph\":null,\"muted_glyph\":null,\"view\":{\"id\":\"3dee9be3-6757-4884-807f-ed7ebb2faa3d\",\"type\":\"CDSView\"}},\"id\":\"5378c33f-0b77-454a-ae0b-9b24ed09e299\",\"type\":\"GlyphRenderer\"},{\"attributes\":{\"source\":{\"id\":\"deca97d9-3499-4f13-a6d9-01de5a092b2f\",\"type\":\"ColumnDataSource\"}},\"id\":\"3dee9be3-6757-4884-807f-ed7ebb2faa3d\",\"type\":\"CDSView\"},{\"attributes\":{},\"id\":\"e55f55c4-1076-4495-b628-eae90ff27b2d\",\"type\":\"BasicTickFormatter\"},{\"attributes\":{\"source\":{\"id\":\"deca97d9-3499-4f13-a6d9-01de5a092b2f\",\"type\":\"ColumnDataSource\"}},\"id\":\"118674dc-1a16-42e0-afe3-9476fb59126c\",\"type\":\"CDSView\"},{\"attributes\":{\"below\":[{\"id\":\"535e0ece-93c1-484c-92b4-ed7ed5c0d49e\",\"type\":\"LinearAxis\"}],\"outline_line_color\":{\"value\":\"white\"},\"plot_height\":400,\"plot_width\":400,\"renderers\":[{\"id\":\"41162461-3c9a-43bd-80b9-7025a351bbdd\",\"type\":\"GlyphRenderer\"},{\"id\":\"5378c33f-0b77-454a-ae0b-9b24ed09e299\",\"type\":\"GlyphRenderer\"},{\"id\":\"535e0ece-93c1-484c-92b4-ed7ed5c0d49e\",\"type\":\"LinearAxis\"},{\"id\":\"a3449438-30a9-4237-8fdc-28784ecf8507\",\"type\":\"GlyphRenderer\"},{\"id\":\"4d293685-e9c9-42eb-9c4a-6d2ebe646d79\",\"type\":\"LabelSet\"}],\"title\":{\"id\":\"96467413-738f-4b6f-ac6a-2f807e66644e\",\"type\":\"Title\"},\"toolbar\":{\"id\":\"ba216c24-39c1-430d-b0bd-0a88af2737c5\",\"type\":\"Toolbar\"},\"x_range\":{\"id\":\"c7cf43a2-33c7-4ae3-9fae-644e33ae4fb2\",\"type\":\"DataRange1d\"},\"x_scale\":{\"id\":\"1a9ee58b-2c40-4e09-8880-7360d2e5f2ef\",\"type\":\"LinearScale\"},\"y_range\":{\"id\":\"e3384f94-e9dd-4f28-8fea-bd5a7043b1af\",\"type\":\"FactorRange\"},\"y_scale\":{\"id\":\"dbf4bd6c-5126-418f-bfbd-a2357fe841dd\",\"type\":\"CategoricalScale\"}},\"id\":\"89fd7aeb-209a-464c-bc45-f3f56cb42ea7\",\"type\":\"Plot\"},{\"attributes\":{\"active_drag\":\"auto\",\"active_inspect\":\"auto\",\"active_scroll\":\"auto\",\"active_tap\":\"auto\"},\"id\":\"ba216c24-39c1-430d-b0bd-0a88af2737c5\",\"type\":\"Toolbar\"},{\"attributes\":{\"source\":{\"id\":\"deca97d9-3499-4f13-a6d9-01de5a092b2f\",\"type\":\"ColumnDataSource\"}},\"id\":\"d25b3c78-d547-4ffc-9c08-5888952a41a5\",\"type\":\"CDSView\"},{\"attributes\":{\"data_source\":{\"id\":\"deca97d9-3499-4f13-a6d9-01de5a092b2f\",\"type\":\"ColumnDataSource\"},\"glyph\":{\"id\":\"86306dd0-c227-4ed3-9447-e57b304efeec\",\"type\":\"HBar\"},\"hover_glyph\":null,\"muted_glyph\":null,\"view\":{\"id\":\"d25b3c78-d547-4ffc-9c08-5888952a41a5\",\"type\":\"CDSView\"}},\"id\":\"41162461-3c9a-43bd-80b9-7025a351bbdd\",\"type\":\"GlyphRenderer\"},{\"attributes\":{\"fill_color\":{\"value\":\"lightgray\"},\"height\":{\"value\":0.5},\"left\":{\"field\":\"stretch\"},\"line_color\":{\"value\":\"lightgray\"},\"right\":{\"field\":\"minimum\"},\"y\":{\"field\":\"metrics\"}},\"id\":\"86306dd0-c227-4ed3-9447-e57b304efeec\",\"type\":\"HBar\"}],\"root_ids\":[\"89fd7aeb-209a-464c-bc45-f3f56cb42ea7\"]},\"title\":\"Bokeh Application\",\"version\":\"0.12.16\"}};\n",
       "  var render_items = [{\"docid\":\"ade04004-6fed-4657-842a-dbd158bff62a\",\"elementid\":\"e5b316d2-1a64-4560-9603-4e392017aa9a\",\"modelid\":\"89fd7aeb-209a-464c-bc45-f3f56cb42ea7\"}];\n",
       "  root.Bokeh.embed.embed_items_notebook(docs_json, render_items);\n",
       "\n",
       "  }\n",
       "  if (root.Bokeh !== undefined) {\n",
       "    embed_document(root);\n",
       "  } else {\n",
       "    var attempts = 0;\n",
       "    var timer = setInterval(function(root) {\n",
       "      if (root.Bokeh !== undefined) {\n",
       "        embed_document(root);\n",
       "        clearInterval(timer);\n",
       "      }\n",
       "      attempts++;\n",
       "      if (attempts > 100) {\n",
       "        console.log(\"Bokeh: ERROR: Unable to run BokehJS code because BokehJS library is missing\")\n",
       "        clearInterval(timer);\n",
       "      }\n",
       "    }, 10, root)\n",
       "  }\n",
       "})(window);"
      ],
      "application/vnd.bokehjs_exec.v0+json": ""
     },
     "metadata": {
      "application/vnd.bokehjs_exec.v0+json": {
       "id": "89fd7aeb-209a-464c-bc45-f3f56cb42ea7"
      }
     },
     "output_type": "display_data"
    }
   ],
   "source": [
    "circle = Circle(x='values', y='metrics', size=16,\n",
    "                line_color='color', fill_color='color')\n",
    "\n",
    "p2.add_glyph(source, circle)\n",
    "\n",
    "source.data['formated_values'] = [\"{:.1f}\".format(x) for x in source.data['values']]\n",
    "\n",
    "labels = LabelSet(x='values', y='metrics', text=\"formated_values\", text_font_size=\"10pt\",\n",
    "                  x_offset='x_offset', y_offset=-7.5, level='glyph', source=source)\n",
    "\n",
    "p2.add_layout(labels)\n",
    "\n",
    "show(p2)"
   ]
  },
  {
   "cell_type": "markdown",
   "metadata": {},
   "source": [
    "Here's the final layout for the plots."
   ]
  },
  {
   "cell_type": "code",
   "execution_count": 10,
   "metadata": {},
   "outputs": [
    {
     "data": {
      "text/html": [
       "\n",
       "<div class=\"bk-root\">\n",
       "    <div class=\"bk-plotdiv\" id=\"826e78b0-589c-4cab-8e87-f03b45abec2c\"></div>\n",
       "</div>"
      ]
     },
     "metadata": {},
     "output_type": "display_data"
    },
    {
     "data": {
      "application/javascript": [
       "(function(root) {\n",
       "  function embed_document(root) {\n",
       "    \n",
       "  var docs_json = {\"8309dab0-be03-4c69-903b-0e2ee9e2431d\":{\"roots\":{\"references\":[{\"attributes\":{\"axis_label\":\"AMx (marcsec)\",\"formatter\":{\"id\":\"e55f55c4-1076-4495-b628-eae90ff27b2d\",\"type\":\"BasicTickFormatter\"},\"plot\":{\"id\":\"89fd7aeb-209a-464c-bc45-f3f56cb42ea7\",\"type\":\"Plot\"},\"ticker\":{\"id\":\"5d354295-9391-424a-bf4d-a139edaf6749\",\"type\":\"BasicTicker\"}},\"id\":\"535e0ece-93c1-484c-92b4-ed7ed5c0d49e\",\"type\":\"LinearAxis\"},{\"attributes\":{\"callback\":null},\"id\":\"c7cf43a2-33c7-4ae3-9fae-644e33ae4fb2\",\"type\":\"DataRange1d\"},{\"attributes\":{\"children\":[{\"id\":\"93074202-8045-4d21-b11a-a2df8a87f628\",\"type\":\"Plot\"},{\"id\":\"89fd7aeb-209a-464c-bc45-f3f56cb42ea7\",\"type\":\"Plot\"}]},\"id\":\"d5782c1d-c6f7-4bc8-854e-1ef1727a94d1\",\"type\":\"Row\"},{\"attributes\":{},\"id\":\"af3c6669-c833-47ee-b67e-bd4f84c2a144\",\"type\":\"LinearScale\"},{\"attributes\":{},\"id\":\"5d354295-9391-424a-bf4d-a139edaf6749\",\"type\":\"BasicTicker\"},{\"attributes\":{\"align\":\"center\",\"plot\":null,\"text\":\"% deviation from design\",\"text_font_size\":{\"value\":\"14pt\"}},\"id\":\"d83c6f1c-242b-46fb-a613-83e45ae6efa9\",\"type\":\"Title\"},{\"attributes\":{\"plot\":null,\"text\":\"\"},\"id\":\"96467413-738f-4b6f-ac6a-2f807e66644e\",\"type\":\"Title\"},{\"attributes\":{\"source\":{\"id\":\"deca97d9-3499-4f13-a6d9-01de5a092b2f\",\"type\":\"ColumnDataSource\"}},\"id\":\"d25b3c78-d547-4ffc-9c08-5888952a41a5\",\"type\":\"CDSView\"},{\"attributes\":{\"fill_color\":{\"field\":\"color\"},\"line_color\":{\"field\":\"color\"},\"size\":{\"units\":\"screen\",\"value\":16},\"x\":{\"field\":\"values\"},\"y\":{\"field\":\"metrics\"}},\"id\":\"169e73be-54d6-4a69-937e-568d5502e1eb\",\"type\":\"Circle\"},{\"attributes\":{\"data_source\":{\"id\":\"deca97d9-3499-4f13-a6d9-01de5a092b2f\",\"type\":\"ColumnDataSource\"},\"glyph\":{\"id\":\"169e73be-54d6-4a69-937e-568d5502e1eb\",\"type\":\"Circle\"},\"hover_glyph\":null,\"muted_glyph\":null,\"view\":{\"id\":\"118674dc-1a16-42e0-afe3-9476fb59126c\",\"type\":\"CDSView\"}},\"id\":\"a3449438-30a9-4237-8fdc-28784ecf8507\",\"type\":\"GlyphRenderer\"},{\"attributes\":{\"callback\":null,\"data\":{\"color\":[\"#9ecae1\",\"#fdbb84\",\"#fdbb84\"],\"design\":[10,10,15],\"deviation\":[-20.0,11.999999999999993,47.6],\"formated_values\":[\"8.0\",\"11.2\",\"22.1\"],\"metrics\":[\"AM1\",\"AM2\",\"AM3\"],\"minimum\":[20,20,30],\"percentage\":[\"-20%\",\"11%\",\"47%\"],\"stretch\":[5,5,10],\"values\":[8,11.2,22.14],\"x_offset\":[-35,10,10],\"y0\":[[\"AM1\",-0.25],[\"AM2\",-0.25],[\"AM3\",-0.25]],\"y1\":[[\"AM1\",0.25],[\"AM2\",0.25],[\"AM3\",0.25]]},\"selected\":{\"id\":\"18395cdd-5f3c-4468-91ee-a54c2536647b\",\"type\":\"Selection\"},\"selection_policy\":{\"id\":\"6557f765-a053-458e-a8f3-c1f613f8c332\",\"type\":\"UnionRenderers\"}},\"id\":\"deca97d9-3499-4f13-a6d9-01de5a092b2f\",\"type\":\"ColumnDataSource\"},{\"attributes\":{\"level\":\"glyph\",\"plot\":{\"id\":\"89fd7aeb-209a-464c-bc45-f3f56cb42ea7\",\"type\":\"Plot\"},\"source\":{\"id\":\"deca97d9-3499-4f13-a6d9-01de5a092b2f\",\"type\":\"ColumnDataSource\"},\"text\":{\"field\":\"formated_values\"},\"text_font_size\":{\"value\":\"10pt\"},\"x\":{\"field\":\"values\"},\"x_offset\":{\"field\":\"x_offset\"},\"y\":{\"field\":\"metrics\"},\"y_offset\":{\"value\":-7.5}},\"id\":\"4d293685-e9c9-42eb-9c4a-6d2ebe646d79\",\"type\":\"LabelSet\"},{\"attributes\":{\"line_width\":{\"value\":4},\"x0\":{\"field\":\"design\"},\"x1\":{\"field\":\"design\"},\"y0\":{\"field\":\"y0\"},\"y1\":{\"field\":\"y1\"}},\"id\":\"7885883b-187e-4cd0-a50c-494485ebc3d8\",\"type\":\"Segment\"},{\"attributes\":{\"left\":[{\"id\":\"1979becd-29a6-4971-8d5c-3e6e2977be21\",\"type\":\"CategoricalAxis\"}],\"outline_line_color\":{\"value\":\"white\"},\"plot_height\":400,\"plot_width\":400,\"renderers\":[{\"id\":\"f9bc898e-f196-4571-9ac3-982a5aa4bdcf\",\"type\":\"GlyphRenderer\"},{\"id\":\"1979becd-29a6-4971-8d5c-3e6e2977be21\",\"type\":\"CategoricalAxis\"},{\"id\":\"d8720043-76c4-43b5-869c-3585e9932a18\",\"type\":\"LabelSet\"}],\"title\":{\"id\":\"d83c6f1c-242b-46fb-a613-83e45ae6efa9\",\"type\":\"Title\"},\"toolbar\":{\"id\":\"d9d1a984-5719-4ac2-ad0c-f6770124c59e\",\"type\":\"Toolbar\"},\"x_range\":{\"id\":\"520b5389-dd02-44b8-afb9-0ec65af565c7\",\"type\":\"Range1d\"},\"x_scale\":{\"id\":\"af3c6669-c833-47ee-b67e-bd4f84c2a144\",\"type\":\"LinearScale\"},\"y_range\":{\"id\":\"a8370ac8-9141-44dd-ba9a-e33fdc6f7d81\",\"type\":\"FactorRange\"},\"y_scale\":{\"id\":\"62efcc8a-3f6e-41b9-a461-2e83f93e0604\",\"type\":\"CategoricalScale\"}},\"id\":\"93074202-8045-4d21-b11a-a2df8a87f628\",\"type\":\"Plot\"},{\"attributes\":{\"source\":{\"id\":\"deca97d9-3499-4f13-a6d9-01de5a092b2f\",\"type\":\"ColumnDataSource\"}},\"id\":\"3dee9be3-6757-4884-807f-ed7ebb2faa3d\",\"type\":\"CDSView\"},{\"attributes\":{},\"id\":\"e55f55c4-1076-4495-b628-eae90ff27b2d\",\"type\":\"BasicTickFormatter\"},{\"attributes\":{\"source\":{\"id\":\"deca97d9-3499-4f13-a6d9-01de5a092b2f\",\"type\":\"ColumnDataSource\"}},\"id\":\"118674dc-1a16-42e0-afe3-9476fb59126c\",\"type\":\"CDSView\"},{\"attributes\":{\"below\":[{\"id\":\"535e0ece-93c1-484c-92b4-ed7ed5c0d49e\",\"type\":\"LinearAxis\"}],\"outline_line_color\":{\"value\":\"white\"},\"plot_height\":400,\"plot_width\":400,\"renderers\":[{\"id\":\"41162461-3c9a-43bd-80b9-7025a351bbdd\",\"type\":\"GlyphRenderer\"},{\"id\":\"5378c33f-0b77-454a-ae0b-9b24ed09e299\",\"type\":\"GlyphRenderer\"},{\"id\":\"535e0ece-93c1-484c-92b4-ed7ed5c0d49e\",\"type\":\"LinearAxis\"},{\"id\":\"a3449438-30a9-4237-8fdc-28784ecf8507\",\"type\":\"GlyphRenderer\"},{\"id\":\"4d293685-e9c9-42eb-9c4a-6d2ebe646d79\",\"type\":\"LabelSet\"}],\"title\":{\"id\":\"96467413-738f-4b6f-ac6a-2f807e66644e\",\"type\":\"Title\"},\"toolbar\":{\"id\":\"ba216c24-39c1-430d-b0bd-0a88af2737c5\",\"type\":\"Toolbar\"},\"x_range\":{\"id\":\"c7cf43a2-33c7-4ae3-9fae-644e33ae4fb2\",\"type\":\"DataRange1d\"},\"x_scale\":{\"id\":\"1a9ee58b-2c40-4e09-8880-7360d2e5f2ef\",\"type\":\"LinearScale\"},\"y_range\":{\"id\":\"e3384f94-e9dd-4f28-8fea-bd5a7043b1af\",\"type\":\"FactorRange\"},\"y_scale\":{\"id\":\"dbf4bd6c-5126-418f-bfbd-a2357fe841dd\",\"type\":\"CategoricalScale\"}},\"id\":\"89fd7aeb-209a-464c-bc45-f3f56cb42ea7\",\"type\":\"Plot\"},{\"attributes\":{\"fill_color\":{\"field\":\"color\"},\"height\":{\"value\":0.5},\"line_color\":{\"field\":\"color\"},\"right\":{\"field\":\"deviation\"},\"y\":{\"field\":\"metrics\"}},\"id\":\"2bbeadeb-76b6-4d1e-8c74-5dd5b87f0622\",\"type\":\"HBar\"},{\"attributes\":{\"fill_color\":{\"value\":\"lightgray\"},\"height\":{\"value\":0.5},\"left\":{\"field\":\"stretch\"},\"line_color\":{\"value\":\"lightgray\"},\"right\":{\"field\":\"minimum\"},\"y\":{\"field\":\"metrics\"}},\"id\":\"86306dd0-c227-4ed3-9447-e57b304efeec\",\"type\":\"HBar\"},{\"attributes\":{\"active_drag\":\"auto\",\"active_inspect\":\"auto\",\"active_scroll\":\"auto\",\"active_tap\":\"auto\",\"logo\":null},\"id\":\"d9d1a984-5719-4ac2-ad0c-f6770124c59e\",\"type\":\"Toolbar\"},{\"attributes\":{\"callback\":null,\"factors\":[\"AM1\",\"AM2\",\"AM3\"]},\"id\":\"e3384f94-e9dd-4f28-8fea-bd5a7043b1af\",\"type\":\"FactorRange\"},{\"attributes\":{},\"id\":\"bf325897-dbe3-4cdf-90cb-c21a4af7c002\",\"type\":\"CategoricalTickFormatter\"},{\"attributes\":{\"callback\":null,\"factors\":[\"AM1\",\"AM2\",\"AM3\"]},\"id\":\"a8370ac8-9141-44dd-ba9a-e33fdc6f7d81\",\"type\":\"FactorRange\"},{\"attributes\":{\"source\":{\"id\":\"deca97d9-3499-4f13-a6d9-01de5a092b2f\",\"type\":\"ColumnDataSource\"}},\"id\":\"35edd1bc-f07c-46fd-a013-0516456c8472\",\"type\":\"CDSView\"},{\"attributes\":{},\"id\":\"18395cdd-5f3c-4468-91ee-a54c2536647b\",\"type\":\"Selection\"},{\"attributes\":{},\"id\":\"1a9ee58b-2c40-4e09-8880-7360d2e5f2ef\",\"type\":\"LinearScale\"},{\"attributes\":{},\"id\":\"6557f765-a053-458e-a8f3-c1f613f8c332\",\"type\":\"UnionRenderers\"},{\"attributes\":{},\"id\":\"dbf4bd6c-5126-418f-bfbd-a2357fe841dd\",\"type\":\"CategoricalScale\"},{\"attributes\":{\"data_source\":{\"id\":\"deca97d9-3499-4f13-a6d9-01de5a092b2f\",\"type\":\"ColumnDataSource\"},\"glyph\":{\"id\":\"7885883b-187e-4cd0-a50c-494485ebc3d8\",\"type\":\"Segment\"},\"hover_glyph\":null,\"muted_glyph\":null,\"view\":{\"id\":\"3dee9be3-6757-4884-807f-ed7ebb2faa3d\",\"type\":\"CDSView\"}},\"id\":\"5378c33f-0b77-454a-ae0b-9b24ed09e299\",\"type\":\"GlyphRenderer\"},{\"attributes\":{\"fixed_location\":0,\"formatter\":{\"id\":\"bf325897-dbe3-4cdf-90cb-c21a4af7c002\",\"type\":\"CategoricalTickFormatter\"},\"major_label_standoff\":100,\"major_label_text_font_size\":{\"value\":\"14pt\"},\"plot\":{\"id\":\"93074202-8045-4d21-b11a-a2df8a87f628\",\"type\":\"Plot\"},\"ticker\":{\"id\":\"a3ff412d-66bd-4a9b-a796-f0895c9502b1\",\"type\":\"CategoricalTicker\"}},\"id\":\"1979becd-29a6-4971-8d5c-3e6e2977be21\",\"type\":\"CategoricalAxis\"},{\"attributes\":{},\"id\":\"62efcc8a-3f6e-41b9-a461-2e83f93e0604\",\"type\":\"CategoricalScale\"},{\"attributes\":{\"data_source\":{\"id\":\"deca97d9-3499-4f13-a6d9-01de5a092b2f\",\"type\":\"ColumnDataSource\"},\"glyph\":{\"id\":\"2bbeadeb-76b6-4d1e-8c74-5dd5b87f0622\",\"type\":\"HBar\"},\"hover_glyph\":null,\"muted_glyph\":null,\"view\":{\"id\":\"35edd1bc-f07c-46fd-a013-0516456c8472\",\"type\":\"CDSView\"}},\"id\":\"f9bc898e-f196-4571-9ac3-982a5aa4bdcf\",\"type\":\"GlyphRenderer\"},{\"attributes\":{\"level\":\"glyph\",\"plot\":{\"id\":\"93074202-8045-4d21-b11a-a2df8a87f628\",\"type\":\"Plot\"},\"source\":{\"id\":\"deca97d9-3499-4f13-a6d9-01de5a092b2f\",\"type\":\"ColumnDataSource\"},\"text\":{\"field\":\"percentage\"},\"text_font_size\":{\"value\":\"10pt\"},\"x\":{\"field\":\"deviation\"},\"x_offset\":{\"field\":\"x_offset\"},\"y\":{\"field\":\"metrics\"}},\"id\":\"d8720043-76c4-43b5-869c-3585e9932a18\",\"type\":\"LabelSet\"},{\"attributes\":{\"active_drag\":\"auto\",\"active_inspect\":\"auto\",\"active_scroll\":\"auto\",\"active_tap\":\"auto\",\"logo\":null},\"id\":\"ba216c24-39c1-430d-b0bd-0a88af2737c5\",\"type\":\"Toolbar\"},{\"attributes\":{\"callback\":null,\"end\":100,\"start\":-100},\"id\":\"520b5389-dd02-44b8-afb9-0ec65af565c7\",\"type\":\"Range1d\"},{\"attributes\":{},\"id\":\"a3ff412d-66bd-4a9b-a796-f0895c9502b1\",\"type\":\"CategoricalTicker\"},{\"attributes\":{\"data_source\":{\"id\":\"deca97d9-3499-4f13-a6d9-01de5a092b2f\",\"type\":\"ColumnDataSource\"},\"glyph\":{\"id\":\"86306dd0-c227-4ed3-9447-e57b304efeec\",\"type\":\"HBar\"},\"hover_glyph\":null,\"muted_glyph\":null,\"view\":{\"id\":\"d25b3c78-d547-4ffc-9c08-5888952a41a5\",\"type\":\"CDSView\"}},\"id\":\"41162461-3c9a-43bd-80b9-7025a351bbdd\",\"type\":\"GlyphRenderer\"}],\"root_ids\":[\"d5782c1d-c6f7-4bc8-854e-1ef1727a94d1\"]},\"title\":\"Bokeh Application\",\"version\":\"0.12.16\"}};\n",
       "  var render_items = [{\"docid\":\"8309dab0-be03-4c69-903b-0e2ee9e2431d\",\"elementid\":\"826e78b0-589c-4cab-8e87-f03b45abec2c\",\"modelid\":\"d5782c1d-c6f7-4bc8-854e-1ef1727a94d1\"}];\n",
       "  root.Bokeh.embed.embed_items_notebook(docs_json, render_items);\n",
       "\n",
       "  }\n",
       "  if (root.Bokeh !== undefined) {\n",
       "    embed_document(root);\n",
       "  } else {\n",
       "    var attempts = 0;\n",
       "    var timer = setInterval(function(root) {\n",
       "      if (root.Bokeh !== undefined) {\n",
       "        embed_document(root);\n",
       "        clearInterval(timer);\n",
       "      }\n",
       "      attempts++;\n",
       "      if (attempts > 100) {\n",
       "        console.log(\"Bokeh: ERROR: Unable to run BokehJS code because BokehJS library is missing\")\n",
       "        clearInterval(timer);\n",
       "      }\n",
       "    }, 10, root)\n",
       "  }\n",
       "})(window);"
      ],
      "application/vnd.bokehjs_exec.v0+json": ""
     },
     "metadata": {
      "application/vnd.bokehjs_exec.v0+json": {
       "id": "d5782c1d-c6f7-4bc8-854e-1ef1727a94d1"
      }
     },
     "output_type": "display_data"
    }
   ],
   "source": [
    "p1.toolbar.logo = None\n",
    "p2.toolbar.logo = None\n",
    "show(row(p1, p2))"
   ]
  },
  {
   "cell_type": "code",
   "execution_count": null,
   "metadata": {},
   "outputs": [],
   "source": []
  }
 ],
 "metadata": {
  "kernelspec": {
   "display_name": "Python 3",
   "language": "python",
   "name": "python3"
  },
  "language_info": {
   "codemirror_mode": {
    "name": "ipython",
    "version": 3
   },
   "file_extension": ".py",
   "mimetype": "text/x-python",
   "name": "python",
   "nbconvert_exporter": "python",
   "pygments_lexer": "ipython3",
   "version": "3.6.3"
  },
  "toc": {
   "base_numbering": 1,
   "nav_menu": {},
   "number_sections": true,
   "sideBar": true,
   "skip_h1_title": false,
   "title_cell": "Table of Contents",
   "title_sidebar": "Contents",
   "toc_cell": false,
   "toc_position": {},
   "toc_section_display": true,
   "toc_window_display": false
  }
 },
 "nbformat": 4,
 "nbformat_minor": 2
}
