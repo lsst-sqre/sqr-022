{
 "cells": [
  {
   "cell_type": "markdown",
   "metadata": {},
   "source": [
    "### Purpose "
   ]
  },
  {
   "cell_type": "markdown",
   "metadata": {},
   "source": [
    "Inspired by [this post](https://bokeh.github.io/blog/2017/7/5/idiomatic_bokeh/), we show how to use the Bokeh models API to create new charts, in particular we are interested in metric visualization for the LSST DM [verification framework](https://sqr-019.lsst.io)."
   ]
  },
  {
   "cell_type": "markdown",
   "metadata": {},
   "source": [
    "### Setup"
   ]
  },
  {
   "cell_type": "markdown",
   "metadata": {},
   "source": [
    "This technical note is available as a [Jupyter notebook](https://github.com/lsst-sqre/sqr-022/blob/master/index.ipynb) from its GitHub repository."
   ]
  },
  {
   "cell_type": "code",
   "execution_count": 1,
   "metadata": {},
   "outputs": [
    {
     "data": {
      "text/html": [
       "\n",
       "    <div class=\"bk-root\">\n",
       "        <a href=\"https://bokeh.pydata.org\" target=\"_blank\" class=\"bk-logo bk-logo-small bk-logo-notebook\"></a>\n",
       "        <span id=\"abd5101f-f093-4ae1-8741-13f58e96ba8c\">Loading BokehJS ...</span>\n",
       "    </div>"
      ]
     },
     "metadata": {},
     "output_type": "display_data"
    },
    {
     "data": {
      "application/javascript": [
       "\n",
       "(function(root) {\n",
       "  function now() {\n",
       "    return new Date();\n",
       "  }\n",
       "\n",
       "  var force = true;\n",
       "\n",
       "  if (typeof (root._bokeh_onload_callbacks) === \"undefined\" || force === true) {\n",
       "    root._bokeh_onload_callbacks = [];\n",
       "    root._bokeh_is_loading = undefined;\n",
       "  }\n",
       "\n",
       "  var JS_MIME_TYPE = 'application/javascript';\n",
       "  var HTML_MIME_TYPE = 'text/html';\n",
       "  var EXEC_MIME_TYPE = 'application/vnd.bokehjs_exec.v0+json';\n",
       "  var CLASS_NAME = 'output_bokeh rendered_html';\n",
       "\n",
       "  /**\n",
       "   * Render data to the DOM node\n",
       "   */\n",
       "  function render(props, node) {\n",
       "    var script = document.createElement(\"script\");\n",
       "    node.appendChild(script);\n",
       "  }\n",
       "\n",
       "  /**\n",
       "   * Handle when an output is cleared or removed\n",
       "   */\n",
       "  function handleClearOutput(event, handle) {\n",
       "    var cell = handle.cell;\n",
       "\n",
       "    var id = cell.output_area._bokeh_element_id;\n",
       "    var server_id = cell.output_area._bokeh_server_id;\n",
       "    // Clean up Bokeh references\n",
       "    if (id !== undefined) {\n",
       "      Bokeh.index[id].model.document.clear();\n",
       "      delete Bokeh.index[id];\n",
       "    }\n",
       "\n",
       "    if (server_id !== undefined) {\n",
       "      // Clean up Bokeh references\n",
       "      var cmd = \"from bokeh.io.state import curstate; print(curstate().uuid_to_server['\" + server_id + \"'].get_sessions()[0].document.roots[0]._id)\";\n",
       "      cell.notebook.kernel.execute(cmd, {\n",
       "        iopub: {\n",
       "          output: function(msg) {\n",
       "            var element_id = msg.content.text.trim();\n",
       "            Bokeh.index[element_id].model.document.clear();\n",
       "            delete Bokeh.index[element_id];\n",
       "          }\n",
       "        }\n",
       "      });\n",
       "      // Destroy server and session\n",
       "      var cmd = \"import bokeh.io.notebook as ion; ion.destroy_server('\" + server_id + \"')\";\n",
       "      cell.notebook.kernel.execute(cmd);\n",
       "    }\n",
       "  }\n",
       "\n",
       "  /**\n",
       "   * Handle when a new output is added\n",
       "   */\n",
       "  function handleAddOutput(event, handle) {\n",
       "    var output_area = handle.output_area;\n",
       "    var output = handle.output;\n",
       "\n",
       "    // limit handleAddOutput to display_data with EXEC_MIME_TYPE content only\n",
       "    if ((output.output_type != \"display_data\") || (!output.data.hasOwnProperty(EXEC_MIME_TYPE))) {\n",
       "      return\n",
       "    }\n",
       "\n",
       "    var toinsert = output_area.element.find(\".\" + CLASS_NAME.split(' ')[0]);\n",
       "\n",
       "    if (output.metadata[EXEC_MIME_TYPE][\"id\"] !== undefined) {\n",
       "      toinsert[toinsert.length - 1].firstChild.textContent = output.data[JS_MIME_TYPE];\n",
       "      // store reference to embed id on output_area\n",
       "      output_area._bokeh_element_id = output.metadata[EXEC_MIME_TYPE][\"id\"];\n",
       "    }\n",
       "    if (output.metadata[EXEC_MIME_TYPE][\"server_id\"] !== undefined) {\n",
       "      var bk_div = document.createElement(\"div\");\n",
       "      bk_div.innerHTML = output.data[HTML_MIME_TYPE];\n",
       "      var script_attrs = bk_div.children[0].attributes;\n",
       "      for (var i = 0; i < script_attrs.length; i++) {\n",
       "        toinsert[toinsert.length - 1].firstChild.setAttribute(script_attrs[i].name, script_attrs[i].value);\n",
       "      }\n",
       "      // store reference to server id on output_area\n",
       "      output_area._bokeh_server_id = output.metadata[EXEC_MIME_TYPE][\"server_id\"];\n",
       "    }\n",
       "  }\n",
       "\n",
       "  function register_renderer(events, OutputArea) {\n",
       "\n",
       "    function append_mime(data, metadata, element) {\n",
       "      // create a DOM node to render to\n",
       "      var toinsert = this.create_output_subarea(\n",
       "        metadata,\n",
       "        CLASS_NAME,\n",
       "        EXEC_MIME_TYPE\n",
       "      );\n",
       "      this.keyboard_manager.register_events(toinsert);\n",
       "      // Render to node\n",
       "      var props = {data: data, metadata: metadata[EXEC_MIME_TYPE]};\n",
       "      render(props, toinsert[toinsert.length - 1]);\n",
       "      element.append(toinsert);\n",
       "      return toinsert\n",
       "    }\n",
       "\n",
       "    /* Handle when an output is cleared or removed */\n",
       "    events.on('clear_output.CodeCell', handleClearOutput);\n",
       "    events.on('delete.Cell', handleClearOutput);\n",
       "\n",
       "    /* Handle when a new output is added */\n",
       "    events.on('output_added.OutputArea', handleAddOutput);\n",
       "\n",
       "    /**\n",
       "     * Register the mime type and append_mime function with output_area\n",
       "     */\n",
       "    OutputArea.prototype.register_mime_type(EXEC_MIME_TYPE, append_mime, {\n",
       "      /* Is output safe? */\n",
       "      safe: true,\n",
       "      /* Index of renderer in `output_area.display_order` */\n",
       "      index: 0\n",
       "    });\n",
       "  }\n",
       "\n",
       "  // register the mime type if in Jupyter Notebook environment and previously unregistered\n",
       "  if (root.Jupyter !== undefined) {\n",
       "    var events = require('base/js/events');\n",
       "    var OutputArea = require('notebook/js/outputarea').OutputArea;\n",
       "\n",
       "    if (OutputArea.prototype.mime_types().indexOf(EXEC_MIME_TYPE) == -1) {\n",
       "      register_renderer(events, OutputArea);\n",
       "    }\n",
       "  }\n",
       "\n",
       "  \n",
       "  if (typeof (root._bokeh_timeout) === \"undefined\" || force === true) {\n",
       "    root._bokeh_timeout = Date.now() + 5000;\n",
       "    root._bokeh_failed_load = false;\n",
       "  }\n",
       "\n",
       "  var NB_LOAD_WARNING = {'data': {'text/html':\n",
       "     \"<div style='background-color: #fdd'>\\n\"+\n",
       "     \"<p>\\n\"+\n",
       "     \"BokehJS does not appear to have successfully loaded. If loading BokehJS from CDN, this \\n\"+\n",
       "     \"may be due to a slow or bad network connection. Possible fixes:\\n\"+\n",
       "     \"</p>\\n\"+\n",
       "     \"<ul>\\n\"+\n",
       "     \"<li>re-rerun `output_notebook()` to attempt to load from CDN again, or</li>\\n\"+\n",
       "     \"<li>use INLINE resources instead, as so:</li>\\n\"+\n",
       "     \"</ul>\\n\"+\n",
       "     \"<code>\\n\"+\n",
       "     \"from bokeh.resources import INLINE\\n\"+\n",
       "     \"output_notebook(resources=INLINE)\\n\"+\n",
       "     \"</code>\\n\"+\n",
       "     \"</div>\"}};\n",
       "\n",
       "  function display_loaded() {\n",
       "    var el = document.getElementById(\"abd5101f-f093-4ae1-8741-13f58e96ba8c\");\n",
       "    if (el != null) {\n",
       "      el.textContent = \"BokehJS is loading...\";\n",
       "    }\n",
       "    if (root.Bokeh !== undefined) {\n",
       "      if (el != null) {\n",
       "        el.textContent = \"BokehJS \" + root.Bokeh.version + \" successfully loaded.\";\n",
       "      }\n",
       "    } else if (Date.now() < root._bokeh_timeout) {\n",
       "      setTimeout(display_loaded, 100)\n",
       "    }\n",
       "  }\n",
       "\n",
       "\n",
       "  function run_callbacks() {\n",
       "    try {\n",
       "      root._bokeh_onload_callbacks.forEach(function(callback) { callback() });\n",
       "    }\n",
       "    finally {\n",
       "      delete root._bokeh_onload_callbacks\n",
       "    }\n",
       "    console.info(\"Bokeh: all callbacks have finished\");\n",
       "  }\n",
       "\n",
       "  function load_libs(js_urls, callback) {\n",
       "    root._bokeh_onload_callbacks.push(callback);\n",
       "    if (root._bokeh_is_loading > 0) {\n",
       "      console.log(\"Bokeh: BokehJS is being loaded, scheduling callback at\", now());\n",
       "      return null;\n",
       "    }\n",
       "    if (js_urls == null || js_urls.length === 0) {\n",
       "      run_callbacks();\n",
       "      return null;\n",
       "    }\n",
       "    console.log(\"Bokeh: BokehJS not loaded, scheduling load and callback at\", now());\n",
       "    root._bokeh_is_loading = js_urls.length;\n",
       "    for (var i = 0; i < js_urls.length; i++) {\n",
       "      var url = js_urls[i];\n",
       "      var s = document.createElement('script');\n",
       "      s.src = url;\n",
       "      s.async = false;\n",
       "      s.onreadystatechange = s.onload = function() {\n",
       "        root._bokeh_is_loading--;\n",
       "        if (root._bokeh_is_loading === 0) {\n",
       "          console.log(\"Bokeh: all BokehJS libraries loaded\");\n",
       "          run_callbacks()\n",
       "        }\n",
       "      };\n",
       "      s.onerror = function() {\n",
       "        console.warn(\"failed to load library \" + url);\n",
       "      };\n",
       "      console.log(\"Bokeh: injecting script tag for BokehJS library: \", url);\n",
       "      document.getElementsByTagName(\"head\")[0].appendChild(s);\n",
       "    }\n",
       "  };var element = document.getElementById(\"abd5101f-f093-4ae1-8741-13f58e96ba8c\");\n",
       "  if (element == null) {\n",
       "    console.log(\"Bokeh: ERROR: autoload.js configured with elementid 'abd5101f-f093-4ae1-8741-13f58e96ba8c' but no matching script tag was found. \")\n",
       "    return false;\n",
       "  }\n",
       "\n",
       "  var js_urls = [\"https://cdn.pydata.org/bokeh/release/bokeh-0.12.16.min.js\", \"https://cdn.pydata.org/bokeh/release/bokeh-widgets-0.12.16.min.js\", \"https://cdn.pydata.org/bokeh/release/bokeh-tables-0.12.16.min.js\", \"https://cdn.pydata.org/bokeh/release/bokeh-gl-0.12.16.min.js\"];\n",
       "\n",
       "  var inline_js = [\n",
       "    function(Bokeh) {\n",
       "      Bokeh.set_log_level(\"info\");\n",
       "    },\n",
       "    \n",
       "    function(Bokeh) {\n",
       "      \n",
       "    },\n",
       "    function(Bokeh) {\n",
       "      console.log(\"Bokeh: injecting CSS: https://cdn.pydata.org/bokeh/release/bokeh-0.12.16.min.css\");\n",
       "      Bokeh.embed.inject_css(\"https://cdn.pydata.org/bokeh/release/bokeh-0.12.16.min.css\");\n",
       "      console.log(\"Bokeh: injecting CSS: https://cdn.pydata.org/bokeh/release/bokeh-widgets-0.12.16.min.css\");\n",
       "      Bokeh.embed.inject_css(\"https://cdn.pydata.org/bokeh/release/bokeh-widgets-0.12.16.min.css\");\n",
       "      console.log(\"Bokeh: injecting CSS: https://cdn.pydata.org/bokeh/release/bokeh-tables-0.12.16.min.css\");\n",
       "      Bokeh.embed.inject_css(\"https://cdn.pydata.org/bokeh/release/bokeh-tables-0.12.16.min.css\");\n",
       "    }\n",
       "  ];\n",
       "\n",
       "  function run_inline_js() {\n",
       "    \n",
       "    if ((root.Bokeh !== undefined) || (force === true)) {\n",
       "      for (var i = 0; i < inline_js.length; i++) {\n",
       "        inline_js[i].call(root, root.Bokeh);\n",
       "      }if (force === true) {\n",
       "        display_loaded();\n",
       "      }} else if (Date.now() < root._bokeh_timeout) {\n",
       "      setTimeout(run_inline_js, 100);\n",
       "    } else if (!root._bokeh_failed_load) {\n",
       "      console.log(\"Bokeh: BokehJS failed to load within specified timeout.\");\n",
       "      root._bokeh_failed_load = true;\n",
       "    } else if (force !== true) {\n",
       "      var cell = $(document.getElementById(\"abd5101f-f093-4ae1-8741-13f58e96ba8c\")).parents('.cell').data().cell;\n",
       "      cell.output_area.append_execute_result(NB_LOAD_WARNING)\n",
       "    }\n",
       "\n",
       "  }\n",
       "\n",
       "  if (root._bokeh_is_loading === 0) {\n",
       "    console.log(\"Bokeh: BokehJS loaded, going straight to plotting\");\n",
       "    run_inline_js();\n",
       "  } else {\n",
       "    load_libs(js_urls, function() {\n",
       "      console.log(\"Bokeh: BokehJS plotting callback run at\", now());\n",
       "      run_inline_js();\n",
       "    });\n",
       "  }\n",
       "}(window));"
      ],
      "application/vnd.bokehjs_load.v0+json": "\n(function(root) {\n  function now() {\n    return new Date();\n  }\n\n  var force = true;\n\n  if (typeof (root._bokeh_onload_callbacks) === \"undefined\" || force === true) {\n    root._bokeh_onload_callbacks = [];\n    root._bokeh_is_loading = undefined;\n  }\n\n  \n\n  \n  if (typeof (root._bokeh_timeout) === \"undefined\" || force === true) {\n    root._bokeh_timeout = Date.now() + 5000;\n    root._bokeh_failed_load = false;\n  }\n\n  var NB_LOAD_WARNING = {'data': {'text/html':\n     \"<div style='background-color: #fdd'>\\n\"+\n     \"<p>\\n\"+\n     \"BokehJS does not appear to have successfully loaded. If loading BokehJS from CDN, this \\n\"+\n     \"may be due to a slow or bad network connection. Possible fixes:\\n\"+\n     \"</p>\\n\"+\n     \"<ul>\\n\"+\n     \"<li>re-rerun `output_notebook()` to attempt to load from CDN again, or</li>\\n\"+\n     \"<li>use INLINE resources instead, as so:</li>\\n\"+\n     \"</ul>\\n\"+\n     \"<code>\\n\"+\n     \"from bokeh.resources import INLINE\\n\"+\n     \"output_notebook(resources=INLINE)\\n\"+\n     \"</code>\\n\"+\n     \"</div>\"}};\n\n  function display_loaded() {\n    var el = document.getElementById(\"abd5101f-f093-4ae1-8741-13f58e96ba8c\");\n    if (el != null) {\n      el.textContent = \"BokehJS is loading...\";\n    }\n    if (root.Bokeh !== undefined) {\n      if (el != null) {\n        el.textContent = \"BokehJS \" + root.Bokeh.version + \" successfully loaded.\";\n      }\n    } else if (Date.now() < root._bokeh_timeout) {\n      setTimeout(display_loaded, 100)\n    }\n  }\n\n\n  function run_callbacks() {\n    try {\n      root._bokeh_onload_callbacks.forEach(function(callback) { callback() });\n    }\n    finally {\n      delete root._bokeh_onload_callbacks\n    }\n    console.info(\"Bokeh: all callbacks have finished\");\n  }\n\n  function load_libs(js_urls, callback) {\n    root._bokeh_onload_callbacks.push(callback);\n    if (root._bokeh_is_loading > 0) {\n      console.log(\"Bokeh: BokehJS is being loaded, scheduling callback at\", now());\n      return null;\n    }\n    if (js_urls == null || js_urls.length === 0) {\n      run_callbacks();\n      return null;\n    }\n    console.log(\"Bokeh: BokehJS not loaded, scheduling load and callback at\", now());\n    root._bokeh_is_loading = js_urls.length;\n    for (var i = 0; i < js_urls.length; i++) {\n      var url = js_urls[i];\n      var s = document.createElement('script');\n      s.src = url;\n      s.async = false;\n      s.onreadystatechange = s.onload = function() {\n        root._bokeh_is_loading--;\n        if (root._bokeh_is_loading === 0) {\n          console.log(\"Bokeh: all BokehJS libraries loaded\");\n          run_callbacks()\n        }\n      };\n      s.onerror = function() {\n        console.warn(\"failed to load library \" + url);\n      };\n      console.log(\"Bokeh: injecting script tag for BokehJS library: \", url);\n      document.getElementsByTagName(\"head\")[0].appendChild(s);\n    }\n  };var element = document.getElementById(\"abd5101f-f093-4ae1-8741-13f58e96ba8c\");\n  if (element == null) {\n    console.log(\"Bokeh: ERROR: autoload.js configured with elementid 'abd5101f-f093-4ae1-8741-13f58e96ba8c' but no matching script tag was found. \")\n    return false;\n  }\n\n  var js_urls = [\"https://cdn.pydata.org/bokeh/release/bokeh-0.12.16.min.js\", \"https://cdn.pydata.org/bokeh/release/bokeh-widgets-0.12.16.min.js\", \"https://cdn.pydata.org/bokeh/release/bokeh-tables-0.12.16.min.js\", \"https://cdn.pydata.org/bokeh/release/bokeh-gl-0.12.16.min.js\"];\n\n  var inline_js = [\n    function(Bokeh) {\n      Bokeh.set_log_level(\"info\");\n    },\n    \n    function(Bokeh) {\n      \n    },\n    function(Bokeh) {\n      console.log(\"Bokeh: injecting CSS: https://cdn.pydata.org/bokeh/release/bokeh-0.12.16.min.css\");\n      Bokeh.embed.inject_css(\"https://cdn.pydata.org/bokeh/release/bokeh-0.12.16.min.css\");\n      console.log(\"Bokeh: injecting CSS: https://cdn.pydata.org/bokeh/release/bokeh-widgets-0.12.16.min.css\");\n      Bokeh.embed.inject_css(\"https://cdn.pydata.org/bokeh/release/bokeh-widgets-0.12.16.min.css\");\n      console.log(\"Bokeh: injecting CSS: https://cdn.pydata.org/bokeh/release/bokeh-tables-0.12.16.min.css\");\n      Bokeh.embed.inject_css(\"https://cdn.pydata.org/bokeh/release/bokeh-tables-0.12.16.min.css\");\n    }\n  ];\n\n  function run_inline_js() {\n    \n    if ((root.Bokeh !== undefined) || (force === true)) {\n      for (var i = 0; i < inline_js.length; i++) {\n        inline_js[i].call(root, root.Bokeh);\n      }if (force === true) {\n        display_loaded();\n      }} else if (Date.now() < root._bokeh_timeout) {\n      setTimeout(run_inline_js, 100);\n    } else if (!root._bokeh_failed_load) {\n      console.log(\"Bokeh: BokehJS failed to load within specified timeout.\");\n      root._bokeh_failed_load = true;\n    } else if (force !== true) {\n      var cell = $(document.getElementById(\"abd5101f-f093-4ae1-8741-13f58e96ba8c\")).parents('.cell').data().cell;\n      cell.output_area.append_execute_result(NB_LOAD_WARNING)\n    }\n\n  }\n\n  if (root._bokeh_is_loading === 0) {\n    console.log(\"Bokeh: BokehJS loaded, going straight to plotting\");\n    run_inline_js();\n  } else {\n    load_libs(js_urls, function() {\n      console.log(\"Bokeh: BokehJS plotting callback run at\", now());\n      run_inline_js();\n    });\n  }\n}(window));"
     },
     "metadata": {},
     "output_type": "display_data"
    }
   ],
   "source": [
    "from bokeh.io import show, output_notebook\n",
    "\n",
    "from bokeh.models import Plot\n",
    "from bokeh.models import ColumnDataSource\n",
    "from bokeh.models import Range, Range1d, DataRange1d, FactorRange\n",
    "from bokeh.models import LinearAxis, CategoricalAxis\n",
    "from bokeh.models import LabelSet\n",
    "\n",
    "from bokeh.models.scales import CategoricalScale\n",
    "from bokeh.models.markers import Circle\n",
    "from bokeh.models.glyphs import HBar, Segment\n",
    "\n",
    "from bokeh.palettes import OrRd, Blues\n",
    "from bokeh.layouts import row\n",
    "\n",
    "output_notebook()"
   ]
  },
  {
   "cell_type": "markdown",
   "metadata": {},
   "source": [
    "Sample data to feed our chart. The dataset contains metrics, metric values, and specifications."
   ]
  },
  {
   "cell_type": "code",
   "execution_count": 2,
   "metadata": {},
   "outputs": [],
   "source": [
    "source = ColumnDataSource({'metrics': ['AM1', 'AM2', 'AM3'],\n",
    "                           'values': [8, 11.2, 22.14],\n",
    "                           'stretch': [5, 5, 10],\n",
    "                           'design': [10, 10, 15],\n",
    "                           'minimum': [20, 20, 30]})"
   ]
  },
  {
   "cell_type": "markdown",
   "metadata": {},
   "source": [
    "Here we follow the *additive development* approach as suggested in the post. The idea is to explicitly add each Bokeh model as opposed to using the Bokeh plotting API and modifying the plot defaults.\n",
    "\n"
   ]
  },
  {
   "cell_type": "markdown",
   "metadata": {},
   "source": [
    "Let's start by creating an empty plot. The minimum requirement for doing so is to specify the `x_range` and `y_range` ranges.\n"
   ]
  },
  {
   "cell_type": "code",
   "execution_count": 3,
   "metadata": {},
   "outputs": [
    {
     "name": "stderr",
     "output_type": "stream",
     "text": [
      "WARNING:bokeh.core.validation.check:W-1000 (MISSING_RENDERERS): Plot has no renderers: Plot(id='ed1c8790-07e1-4eeb-a111-e0e928a78648', ...)\n"
     ]
    },
    {
     "data": {
      "text/html": [
       "\n",
       "<div class=\"bk-root\">\n",
       "    <div class=\"bk-plotdiv\" id=\"c4cd305c-57bc-407e-9a8c-259ad8d64142\"></div>\n",
       "</div>"
      ]
     },
     "metadata": {},
     "output_type": "display_data"
    },
    {
     "data": {
      "application/javascript": [
       "(function(root) {\n",
       "  function embed_document(root) {\n",
       "    \n",
       "  var docs_json = {\"1e439ca9-6fc3-4d71-a5f7-6430aa5a2710\":{\"roots\":{\"references\":[{\"attributes\":{\"callback\":null},\"id\":\"7ee00600-b1d2-4137-b061-100b36852839\",\"type\":\"Range\"},{\"attributes\":{\"plot\":null,\"text\":\"\"},\"id\":\"df4d32d1-efea-441e-8299-f9d3ffc9cb79\",\"type\":\"Title\"},{\"attributes\":{\"callback\":null},\"id\":\"cd1e860e-def5-4217-ad97-706729068c51\",\"type\":\"Range\"},{\"attributes\":{},\"id\":\"66e96c7d-54dd-44ab-bce0-1a06380f3f95\",\"type\":\"LinearScale\"},{\"attributes\":{\"plot_height\":400,\"plot_width\":400,\"title\":{\"id\":\"df4d32d1-efea-441e-8299-f9d3ffc9cb79\",\"type\":\"Title\"},\"toolbar\":{\"id\":\"46e9e3ba-d372-457c-8efe-2af597db8cb0\",\"type\":\"Toolbar\"},\"x_range\":{\"id\":\"7ee00600-b1d2-4137-b061-100b36852839\",\"type\":\"Range\"},\"x_scale\":{\"id\":\"66e96c7d-54dd-44ab-bce0-1a06380f3f95\",\"type\":\"LinearScale\"},\"y_range\":{\"id\":\"cd1e860e-def5-4217-ad97-706729068c51\",\"type\":\"Range\"},\"y_scale\":{\"id\":\"b140273d-b284-4ac6-9126-52ad01fb96ed\",\"type\":\"LinearScale\"}},\"id\":\"ed1c8790-07e1-4eeb-a111-e0e928a78648\",\"type\":\"Plot\"},{\"attributes\":{\"active_drag\":\"auto\",\"active_inspect\":\"auto\",\"active_scroll\":\"auto\",\"active_tap\":\"auto\"},\"id\":\"46e9e3ba-d372-457c-8efe-2af597db8cb0\",\"type\":\"Toolbar\"},{\"attributes\":{},\"id\":\"b140273d-b284-4ac6-9126-52ad01fb96ed\",\"type\":\"LinearScale\"}],\"root_ids\":[\"ed1c8790-07e1-4eeb-a111-e0e928a78648\"]},\"title\":\"Bokeh Application\",\"version\":\"0.12.16\"}};\n",
       "  var render_items = [{\"docid\":\"1e439ca9-6fc3-4d71-a5f7-6430aa5a2710\",\"elementid\":\"c4cd305c-57bc-407e-9a8c-259ad8d64142\",\"modelid\":\"ed1c8790-07e1-4eeb-a111-e0e928a78648\"}];\n",
       "  root.Bokeh.embed.embed_items_notebook(docs_json, render_items);\n",
       "\n",
       "  }\n",
       "  if (root.Bokeh !== undefined) {\n",
       "    embed_document(root);\n",
       "  } else {\n",
       "    var attempts = 0;\n",
       "    var timer = setInterval(function(root) {\n",
       "      if (root.Bokeh !== undefined) {\n",
       "        embed_document(root);\n",
       "        clearInterval(timer);\n",
       "      }\n",
       "      attempts++;\n",
       "      if (attempts > 100) {\n",
       "        console.log(\"Bokeh: ERROR: Unable to run BokehJS code because BokehJS library is missing\")\n",
       "        clearInterval(timer);\n",
       "      }\n",
       "    }, 10, root)\n",
       "  }\n",
       "})(window);"
      ],
      "application/vnd.bokehjs_exec.v0+json": ""
     },
     "metadata": {
      "application/vnd.bokehjs_exec.v0+json": {
       "id": "ed1c8790-07e1-4eeb-a111-e0e928a78648"
      }
     },
     "output_type": "display_data"
    }
   ],
   "source": [
    "p1 = Plot(x_range=Range(), y_range=Range(), plot_height=400, plot_width=400)\n",
    "show(p1)"
   ]
  },
  {
   "cell_type": "markdown",
   "metadata": {},
   "source": [
    "The warning message above simply means that there's nothing to render yet."
   ]
  },
  {
   "cell_type": "markdown",
   "metadata": {},
   "source": [
    "Our new chart will have two plots, `p1` that will display the metric percentage deviation from the design, and `p2` that will display the actual metric values compared against the specifications.  \n",
    "\n",
    "\n"
   ]
  },
  {
   "cell_type": "markdown",
   "metadata": {},
   "source": [
    "For the percentage deviation plot we want the x-axis range to be fixed."
   ]
  },
  {
   "cell_type": "code",
   "execution_count": 4,
   "metadata": {},
   "outputs": [],
   "source": [
    "p1.x_range = Range1d(-100, 100)"
   ]
  },
  {
   "cell_type": "markdown",
   "metadata": {},
   "source": [
    "In the y-axis we want to display the metric names, a categorial variable, so we use a `FactorRange()` for that, and initialize the factors with the categories present in our dataset. We also need to specify an appropriate scale for this axis."
   ]
  },
  {
   "cell_type": "code",
   "execution_count": 5,
   "metadata": {},
   "outputs": [],
   "source": [
    "p1.y_range = FactorRange(factors=source.data['metrics'])\n",
    "p1.y_scale = CategoricalScale()"
   ]
  },
  {
   "cell_type": "markdown",
   "metadata": {},
   "source": [
    "Let's compute the percentage deviation and add the `HBar()` glyph to display hat. We'll annotate the values by adding a `Labelset()` close to the bars instead of adding the x-axis to the plot."
   ]
  },
  {
   "cell_type": "code",
   "execution_count": 6,
   "metadata": {},
   "outputs": [
    {
     "data": {
      "text/html": [
       "\n",
       "<div class=\"bk-root\">\n",
       "    <div class=\"bk-plotdiv\" id=\"e8f1fbf3-99a1-41f4-9c42-53ae07ff77f2\"></div>\n",
       "</div>"
      ]
     },
     "metadata": {},
     "output_type": "display_data"
    },
    {
     "data": {
      "application/javascript": [
       "(function(root) {\n",
       "  function embed_document(root) {\n",
       "    \n",
       "  var docs_json = {\"40d9e656-eb3b-4345-9871-bf4a2d802798\":{\"roots\":{\"references\":[{\"attributes\":{},\"id\":\"2060e053-cce2-4ace-8438-3d68cf117397\",\"type\":\"Selection\"},{\"attributes\":{},\"id\":\"0655239d-d28f-4b12-ae56-814eb2d29721\",\"type\":\"CategoricalTicker\"},{\"attributes\":{},\"id\":\"d9ef8fd6-0f90-4017-b4a5-cb5311beeeee\",\"type\":\"CategoricalTickFormatter\"},{\"attributes\":{\"callback\":null,\"end\":100,\"start\":-100},\"id\":\"9a76b5e3-7718-4961-ab56-3b397884b443\",\"type\":\"Range1d\"},{\"attributes\":{\"callback\":null,\"factors\":[\"AM1\",\"AM2\",\"AM3\"]},\"id\":\"5a477291-e790-44fe-8b3c-342cdbeddb85\",\"type\":\"FactorRange\"},{\"attributes\":{},\"id\":\"f1f5815f-c48f-4fa0-8a25-9b9a67ab2d2c\",\"type\":\"CategoricalScale\"},{\"attributes\":{\"level\":\"glyph\",\"plot\":{\"id\":\"ed1c8790-07e1-4eeb-a111-e0e928a78648\",\"type\":\"Plot\"},\"source\":{\"id\":\"ca3ffe05-bcee-419b-ad83-68b41245fd56\",\"type\":\"ColumnDataSource\"},\"text\":{\"field\":\"percentage\"},\"text_font_size\":{\"value\":\"10pt\"},\"x\":{\"field\":\"deviation\"},\"x_offset\":{\"field\":\"x_offset\"},\"y\":{\"field\":\"metrics\"}},\"id\":\"f770d139-d322-41f6-8734-6abfb97daf49\",\"type\":\"LabelSet\"},{\"attributes\":{\"align\":\"center\",\"plot\":null,\"text\":\"% deviation from design\",\"text_font_size\":{\"value\":\"14pt\"}},\"id\":\"df4d32d1-efea-441e-8299-f9d3ffc9cb79\",\"type\":\"Title\"},{\"attributes\":{\"callback\":null,\"data\":{\"color\":[\"#9ecae1\",\"#fdbb84\",\"#fdbb84\"],\"design\":[10,10,15],\"deviation\":[-20.0,11.999999999999993,47.6],\"metrics\":[\"AM1\",\"AM2\",\"AM3\"],\"minimum\":[20,20,30],\"percentage\":[\"-20%\",\"11%\",\"47%\"],\"stretch\":[5,5,10],\"values\":[8,11.2,22.14],\"x_offset\":[-35,10,10]},\"selected\":{\"id\":\"2060e053-cce2-4ace-8438-3d68cf117397\",\"type\":\"Selection\"},\"selection_policy\":{\"id\":\"80d7d515-a648-4dc4-af75-278063fc5595\",\"type\":\"UnionRenderers\"}},\"id\":\"ca3ffe05-bcee-419b-ad83-68b41245fd56\",\"type\":\"ColumnDataSource\"},{\"attributes\":{\"active_drag\":\"auto\",\"active_inspect\":\"auto\",\"active_scroll\":\"auto\",\"active_tap\":\"auto\"},\"id\":\"46e9e3ba-d372-457c-8efe-2af597db8cb0\",\"type\":\"Toolbar\"},{\"attributes\":{\"data_source\":{\"id\":\"ca3ffe05-bcee-419b-ad83-68b41245fd56\",\"type\":\"ColumnDataSource\"},\"glyph\":{\"id\":\"2e62eb5c-a2ec-47d4-b029-603ca32601fc\",\"type\":\"HBar\"},\"hover_glyph\":null,\"muted_glyph\":null,\"view\":{\"id\":\"0e4a177b-0c95-4004-a650-3edcab534199\",\"type\":\"CDSView\"}},\"id\":\"8eb9c5ba-7eaf-4eea-8d7e-b4eb05f8fbd9\",\"type\":\"GlyphRenderer\"},{\"attributes\":{\"fixed_location\":0,\"formatter\":{\"id\":\"d9ef8fd6-0f90-4017-b4a5-cb5311beeeee\",\"type\":\"CategoricalTickFormatter\"},\"major_label_standoff\":100,\"major_label_text_font_size\":{\"value\":\"14pt\"},\"plot\":{\"id\":\"ed1c8790-07e1-4eeb-a111-e0e928a78648\",\"type\":\"Plot\"},\"ticker\":{\"id\":\"0655239d-d28f-4b12-ae56-814eb2d29721\",\"type\":\"CategoricalTicker\"}},\"id\":\"e9d48c92-08c7-4aeb-a586-7b8a19f2fe1f\",\"type\":\"CategoricalAxis\"},{\"attributes\":{},\"id\":\"66e96c7d-54dd-44ab-bce0-1a06380f3f95\",\"type\":\"LinearScale\"},{\"attributes\":{\"left\":[{\"id\":\"e9d48c92-08c7-4aeb-a586-7b8a19f2fe1f\",\"type\":\"CategoricalAxis\"}],\"outline_line_color\":{\"value\":\"white\"},\"plot_height\":400,\"plot_width\":400,\"renderers\":[{\"id\":\"8eb9c5ba-7eaf-4eea-8d7e-b4eb05f8fbd9\",\"type\":\"GlyphRenderer\"},{\"id\":\"e9d48c92-08c7-4aeb-a586-7b8a19f2fe1f\",\"type\":\"CategoricalAxis\"},{\"id\":\"f770d139-d322-41f6-8734-6abfb97daf49\",\"type\":\"LabelSet\"}],\"title\":{\"id\":\"df4d32d1-efea-441e-8299-f9d3ffc9cb79\",\"type\":\"Title\"},\"toolbar\":{\"id\":\"46e9e3ba-d372-457c-8efe-2af597db8cb0\",\"type\":\"Toolbar\"},\"x_range\":{\"id\":\"9a76b5e3-7718-4961-ab56-3b397884b443\",\"type\":\"Range1d\"},\"x_scale\":{\"id\":\"66e96c7d-54dd-44ab-bce0-1a06380f3f95\",\"type\":\"LinearScale\"},\"y_range\":{\"id\":\"5a477291-e790-44fe-8b3c-342cdbeddb85\",\"type\":\"FactorRange\"},\"y_scale\":{\"id\":\"f1f5815f-c48f-4fa0-8a25-9b9a67ab2d2c\",\"type\":\"CategoricalScale\"}},\"id\":\"ed1c8790-07e1-4eeb-a111-e0e928a78648\",\"type\":\"Plot\"},{\"attributes\":{},\"id\":\"80d7d515-a648-4dc4-af75-278063fc5595\",\"type\":\"UnionRenderers\"},{\"attributes\":{\"source\":{\"id\":\"ca3ffe05-bcee-419b-ad83-68b41245fd56\",\"type\":\"ColumnDataSource\"}},\"id\":\"0e4a177b-0c95-4004-a650-3edcab534199\",\"type\":\"CDSView\"},{\"attributes\":{\"fill_color\":{\"field\":\"color\"},\"height\":{\"value\":0.5},\"line_color\":{\"field\":\"color\"},\"right\":{\"field\":\"deviation\"},\"y\":{\"field\":\"metrics\"}},\"id\":\"2e62eb5c-a2ec-47d4-b029-603ca32601fc\",\"type\":\"HBar\"}],\"root_ids\":[\"ed1c8790-07e1-4eeb-a111-e0e928a78648\"]},\"title\":\"Bokeh Application\",\"version\":\"0.12.16\"}};\n",
       "  var render_items = [{\"docid\":\"40d9e656-eb3b-4345-9871-bf4a2d802798\",\"elementid\":\"e8f1fbf3-99a1-41f4-9c42-53ae07ff77f2\",\"modelid\":\"ed1c8790-07e1-4eeb-a111-e0e928a78648\"}];\n",
       "  root.Bokeh.embed.embed_items_notebook(docs_json, render_items);\n",
       "\n",
       "  }\n",
       "  if (root.Bokeh !== undefined) {\n",
       "    embed_document(root);\n",
       "  } else {\n",
       "    var attempts = 0;\n",
       "    var timer = setInterval(function(root) {\n",
       "      if (root.Bokeh !== undefined) {\n",
       "        embed_document(root);\n",
       "        clearInterval(timer);\n",
       "      }\n",
       "      attempts++;\n",
       "      if (attempts > 100) {\n",
       "        console.log(\"Bokeh: ERROR: Unable to run BokehJS code because BokehJS library is missing\")\n",
       "        clearInterval(timer);\n",
       "      }\n",
       "    }, 10, root)\n",
       "  }\n",
       "})(window);"
      ],
      "application/vnd.bokehjs_exec.v0+json": ""
     },
     "metadata": {
      "application/vnd.bokehjs_exec.v0+json": {
       "id": "ed1c8790-07e1-4eeb-a111-e0e928a78648"
      }
     },
     "output_type": "display_data"
    }
   ],
   "source": [
    "p1.outline_line_color = 'white'\n",
    "p1.title.text = '% deviation from design'\n",
    "p1.title.align = 'center'\n",
    "p1.title.text_font_size = '14pt'\n",
    "\n",
    "source.data['deviation'] = [(value-design)/design*100 for value, design in\n",
    "                            zip(source.data['values'], source.data['design'])]\n",
    "\n",
    "source.data['color'] = [OrRd[3][1] if x > 0 else Blues[3][1] for x in\n",
    "                        source.data['deviation']]\n",
    "\n",
    "\n",
    "height = 0.5\n",
    "hbar = HBar(y='metrics', left=0, right='deviation', line_color='color',\n",
    "            fill_color='color', height=height)\n",
    "\n",
    "p1.add_glyph(source, hbar)\n",
    "\n",
    "yaxis = CategoricalAxis()\n",
    "yaxis.fixed_location = 0\n",
    "yaxis.major_label_standoff = 100\n",
    "yaxis.major_label_text_font_size = '14pt'\n",
    "\n",
    "p1.add_layout(yaxis, 'left')\n",
    "\n",
    "source.data['x_offset'] = [10 if x > 0 else -35 for x in\n",
    "                           source.data['deviation']]\n",
    "\n",
    "source.data['percentage'] = [\"{}%\".format(int(x)) for x in\n",
    "                             source.data['deviation']]\n",
    "\n",
    "percentage = LabelSet(x='deviation', y='metrics', text='percentage',\n",
    "                      x_offset='x_offset', text_font_size=\"10pt\",\n",
    "                      level='glyph', source=source)\n",
    "\n",
    "p1.add_layout(percentage)\n",
    "\n",
    "show(p1)"
   ]
  },
  {
   "cell_type": "markdown",
   "metadata": {},
   "source": [
    "The colors indicate if the actual metric value satisfies the design specification (blue) or not (orange)."
   ]
  },
  {
   "cell_type": "markdown",
   "metadata": {},
   "source": [
    "For displaying the actual metric values, we want the x-axis range to adjust automatically based on the data, so lets use `DataRange1d()` for that."
   ]
  },
  {
   "cell_type": "code",
   "execution_count": 7,
   "metadata": {},
   "outputs": [],
   "source": [
    "p2 = Plot(x_range=DataRange1d(),\n",
    "          y_range=FactorRange(factors=source.data['metrics']),\n",
    "          plot_height=400, plot_width=400)\n",
    "p2.y_scale = CategoricalScale()"
   ]
  },
  {
   "cell_type": "markdown",
   "metadata": {},
   "source": [
    "Now lets add the `HBar()` glyph to display the minimum and strech thresholds for each metric, and a `Segment()` glyph to indicate the design goal."
   ]
  },
  {
   "cell_type": "code",
   "execution_count": 8,
   "metadata": {
    "scrolled": true
   },
   "outputs": [
    {
     "data": {
      "text/html": [
       "\n",
       "<div class=\"bk-root\">\n",
       "    <div class=\"bk-plotdiv\" id=\"c48870d8-a295-42a9-a9db-cb1c77d5630e\"></div>\n",
       "</div>"
      ]
     },
     "metadata": {},
     "output_type": "display_data"
    },
    {
     "data": {
      "application/javascript": [
       "(function(root) {\n",
       "  function embed_document(root) {\n",
       "    \n",
       "  var docs_json = {\"ea3acd9b-eda8-4443-b9b7-3d2f187748d4\":{\"roots\":{\"references\":[{\"attributes\":{},\"id\":\"2060e053-cce2-4ace-8438-3d68cf117397\",\"type\":\"Selection\"},{\"attributes\":{\"callback\":null,\"factors\":[\"AM1\",\"AM2\",\"AM3\"]},\"id\":\"eb2e99c0-1c0a-4ab3-b1ca-ecb9c6c85c41\",\"type\":\"FactorRange\"},{\"attributes\":{\"plot\":null,\"text\":\"\"},\"id\":\"ef6781ed-c8cd-4ee3-b408-76f56566a654\",\"type\":\"Title\"},{\"attributes\":{\"fill_color\":{\"value\":\"lightgray\"},\"height\":{\"value\":0.5},\"left\":{\"field\":\"stretch\"},\"line_color\":{\"value\":\"lightgray\"},\"right\":{\"field\":\"minimum\"},\"y\":{\"field\":\"metrics\"}},\"id\":\"2608949e-d248-4f90-9e4c-7fadd47b136f\",\"type\":\"HBar\"},{\"attributes\":{},\"id\":\"d1f2664b-9c95-4a80-a369-661a40df9d04\",\"type\":\"CategoricalScale\"},{\"attributes\":{},\"id\":\"f9800984-7a57-4b93-949d-e5ba7a246da1\",\"type\":\"BasicTicker\"},{\"attributes\":{},\"id\":\"e2a34adf-e140-4da3-8b0b-7a07a6036a8c\",\"type\":\"LinearScale\"},{\"attributes\":{},\"id\":\"517da522-3d85-4bb5-a6b0-c19845f63a64\",\"type\":\"BasicTickFormatter\"},{\"attributes\":{\"active_drag\":\"auto\",\"active_inspect\":\"auto\",\"active_scroll\":\"auto\",\"active_tap\":\"auto\"},\"id\":\"a2887d91-efa2-4230-a5f3-3652278a597c\",\"type\":\"Toolbar\"},{\"attributes\":{\"below\":[{\"id\":\"35212bf5-344d-42a2-ae33-822111f3acd9\",\"type\":\"LinearAxis\"}],\"outline_line_color\":{\"value\":\"white\"},\"plot_height\":400,\"plot_width\":400,\"renderers\":[{\"id\":\"74f3bfd6-6f18-42d4-b214-49dac5b710fc\",\"type\":\"GlyphRenderer\"},{\"id\":\"2ae3bd28-acae-4f1e-a5eb-e841a19b49a9\",\"type\":\"GlyphRenderer\"},{\"id\":\"35212bf5-344d-42a2-ae33-822111f3acd9\",\"type\":\"LinearAxis\"}],\"title\":{\"id\":\"ef6781ed-c8cd-4ee3-b408-76f56566a654\",\"type\":\"Title\"},\"toolbar\":{\"id\":\"a2887d91-efa2-4230-a5f3-3652278a597c\",\"type\":\"Toolbar\"},\"x_range\":{\"id\":\"dc70a8a8-afea-4cf4-a196-d54c3f082ca7\",\"type\":\"DataRange1d\"},\"x_scale\":{\"id\":\"e2a34adf-e140-4da3-8b0b-7a07a6036a8c\",\"type\":\"LinearScale\"},\"y_range\":{\"id\":\"eb2e99c0-1c0a-4ab3-b1ca-ecb9c6c85c41\",\"type\":\"FactorRange\"},\"y_scale\":{\"id\":\"d1f2664b-9c95-4a80-a369-661a40df9d04\",\"type\":\"CategoricalScale\"}},\"id\":\"e9968160-7149-4c0f-84a2-ed74fb253421\",\"type\":\"Plot\"},{\"attributes\":{\"data_source\":{\"id\":\"ca3ffe05-bcee-419b-ad83-68b41245fd56\",\"type\":\"ColumnDataSource\"},\"glyph\":{\"id\":\"2608949e-d248-4f90-9e4c-7fadd47b136f\",\"type\":\"HBar\"},\"hover_glyph\":null,\"muted_glyph\":null,\"view\":{\"id\":\"64ce6795-76bb-48cd-8150-31c2631ae129\",\"type\":\"CDSView\"}},\"id\":\"74f3bfd6-6f18-42d4-b214-49dac5b710fc\",\"type\":\"GlyphRenderer\"},{\"attributes\":{\"callback\":null,\"data\":{\"color\":[\"#9ecae1\",\"#fdbb84\",\"#fdbb84\"],\"design\":[10,10,15],\"deviation\":[-20.0,11.999999999999993,47.6],\"metrics\":[\"AM1\",\"AM2\",\"AM3\"],\"minimum\":[20,20,30],\"percentage\":[\"-20%\",\"11%\",\"47%\"],\"stretch\":[5,5,10],\"values\":[8,11.2,22.14],\"x_offset\":[-35,10,10],\"y0\":[[\"AM1\",-0.25],[\"AM2\",-0.25],[\"AM3\",-0.25]],\"y1\":[[\"AM1\",0.25],[\"AM2\",0.25],[\"AM3\",0.25]]},\"selected\":{\"id\":\"2060e053-cce2-4ace-8438-3d68cf117397\",\"type\":\"Selection\"},\"selection_policy\":{\"id\":\"80d7d515-a648-4dc4-af75-278063fc5595\",\"type\":\"UnionRenderers\"}},\"id\":\"ca3ffe05-bcee-419b-ad83-68b41245fd56\",\"type\":\"ColumnDataSource\"},{\"attributes\":{\"callback\":null},\"id\":\"dc70a8a8-afea-4cf4-a196-d54c3f082ca7\",\"type\":\"DataRange1d\"},{\"attributes\":{\"source\":{\"id\":\"ca3ffe05-bcee-419b-ad83-68b41245fd56\",\"type\":\"ColumnDataSource\"}},\"id\":\"64ce6795-76bb-48cd-8150-31c2631ae129\",\"type\":\"CDSView\"},{\"attributes\":{\"line_width\":{\"value\":4},\"x0\":{\"field\":\"design\"},\"x1\":{\"field\":\"design\"},\"y0\":{\"field\":\"y0\"},\"y1\":{\"field\":\"y1\"}},\"id\":\"58e0d41d-a9dc-4861-a459-f97e2a69fea8\",\"type\":\"Segment\"},{\"attributes\":{\"source\":{\"id\":\"ca3ffe05-bcee-419b-ad83-68b41245fd56\",\"type\":\"ColumnDataSource\"}},\"id\":\"4fd36e0a-b0a0-4b6e-a675-ffde2caf6fb9\",\"type\":\"CDSView\"},{\"attributes\":{\"data_source\":{\"id\":\"ca3ffe05-bcee-419b-ad83-68b41245fd56\",\"type\":\"ColumnDataSource\"},\"glyph\":{\"id\":\"58e0d41d-a9dc-4861-a459-f97e2a69fea8\",\"type\":\"Segment\"},\"hover_glyph\":null,\"muted_glyph\":null,\"view\":{\"id\":\"4fd36e0a-b0a0-4b6e-a675-ffde2caf6fb9\",\"type\":\"CDSView\"}},\"id\":\"2ae3bd28-acae-4f1e-a5eb-e841a19b49a9\",\"type\":\"GlyphRenderer\"},{\"attributes\":{\"axis_label\":\"AMx (marcsec)\",\"formatter\":{\"id\":\"517da522-3d85-4bb5-a6b0-c19845f63a64\",\"type\":\"BasicTickFormatter\"},\"plot\":{\"id\":\"e9968160-7149-4c0f-84a2-ed74fb253421\",\"type\":\"Plot\"},\"ticker\":{\"id\":\"f9800984-7a57-4b93-949d-e5ba7a246da1\",\"type\":\"BasicTicker\"}},\"id\":\"35212bf5-344d-42a2-ae33-822111f3acd9\",\"type\":\"LinearAxis\"},{\"attributes\":{},\"id\":\"80d7d515-a648-4dc4-af75-278063fc5595\",\"type\":\"UnionRenderers\"}],\"root_ids\":[\"e9968160-7149-4c0f-84a2-ed74fb253421\"]},\"title\":\"Bokeh Application\",\"version\":\"0.12.16\"}};\n",
       "  var render_items = [{\"docid\":\"ea3acd9b-eda8-4443-b9b7-3d2f187748d4\",\"elementid\":\"c48870d8-a295-42a9-a9db-cb1c77d5630e\",\"modelid\":\"e9968160-7149-4c0f-84a2-ed74fb253421\"}];\n",
       "  root.Bokeh.embed.embed_items_notebook(docs_json, render_items);\n",
       "\n",
       "  }\n",
       "  if (root.Bokeh !== undefined) {\n",
       "    embed_document(root);\n",
       "  } else {\n",
       "    var attempts = 0;\n",
       "    var timer = setInterval(function(root) {\n",
       "      if (root.Bokeh !== undefined) {\n",
       "        embed_document(root);\n",
       "        clearInterval(timer);\n",
       "      }\n",
       "      attempts++;\n",
       "      if (attempts > 100) {\n",
       "        console.log(\"Bokeh: ERROR: Unable to run BokehJS code because BokehJS library is missing\")\n",
       "        clearInterval(timer);\n",
       "      }\n",
       "    }, 10, root)\n",
       "  }\n",
       "})(window);"
      ],
      "application/vnd.bokehjs_exec.v0+json": ""
     },
     "metadata": {
      "application/vnd.bokehjs_exec.v0+json": {
       "id": "e9968160-7149-4c0f-84a2-ed74fb253421"
      }
     },
     "output_type": "display_data"
    }
   ],
   "source": [
    "p2.outline_line_color = 'white'\n",
    "\n",
    "height = 0.5\n",
    "hbar = HBar(y='metrics', left='stretch', right='minimum', line_color='lightgray', \n",
    "            fill_color='lightgray', height=height)\n",
    "\n",
    "p2.add_glyph(source, hbar)\n",
    "\n",
    "source.data['y0'] = [(x, -height/2) for x in source.data['metrics']]\n",
    "source.data['y1'] = [(x, height/2) for x in source.data['metrics']]\n",
    "\n",
    "segment = Segment(x0='design', y0=\"y0\", x1='design', y1='y1', \n",
    "                  line_color='black', line_width=4)\n",
    "\n",
    "p2.add_glyph(source, segment)\n",
    "\n",
    "xaxis = LinearAxis()\n",
    "xaxis.axis_label = 'AMx (marcsec)'\n",
    "\n",
    "p2.add_layout(xaxis, 'below')\n",
    "\n",
    "show(p2)\n"
   ]
  },
  {
   "cell_type": "markdown",
   "metadata": {},
   "source": [
    "Lets add a `Circle()` marker to display the metric values and a `LabelSet()` for quoting the actual values. "
   ]
  },
  {
   "cell_type": "code",
   "execution_count": 9,
   "metadata": {},
   "outputs": [
    {
     "data": {
      "text/html": [
       "\n",
       "<div class=\"bk-root\">\n",
       "    <div class=\"bk-plotdiv\" id=\"3eff11c4-fd35-49d6-8776-46852093dc71\"></div>\n",
       "</div>"
      ]
     },
     "metadata": {},
     "output_type": "display_data"
    },
    {
     "data": {
      "application/javascript": [
       "(function(root) {\n",
       "  function embed_document(root) {\n",
       "    \n",
       "  var docs_json = {\"fda63e88-4d95-4dc2-b03d-8537a6ffadba\":{\"roots\":{\"references\":[{\"attributes\":{},\"id\":\"2060e053-cce2-4ace-8438-3d68cf117397\",\"type\":\"Selection\"},{\"attributes\":{\"callback\":null,\"factors\":[\"AM1\",\"AM2\",\"AM3\"]},\"id\":\"eb2e99c0-1c0a-4ab3-b1ca-ecb9c6c85c41\",\"type\":\"FactorRange\"},{\"attributes\":{\"plot\":null,\"text\":\"\"},\"id\":\"ef6781ed-c8cd-4ee3-b408-76f56566a654\",\"type\":\"Title\"},{\"attributes\":{\"fill_color\":{\"value\":\"lightgray\"},\"height\":{\"value\":0.5},\"left\":{\"field\":\"stretch\"},\"line_color\":{\"value\":\"lightgray\"},\"right\":{\"field\":\"minimum\"},\"y\":{\"field\":\"metrics\"}},\"id\":\"2608949e-d248-4f90-9e4c-7fadd47b136f\",\"type\":\"HBar\"},{\"attributes\":{},\"id\":\"d1f2664b-9c95-4a80-a369-661a40df9d04\",\"type\":\"CategoricalScale\"},{\"attributes\":{},\"id\":\"f9800984-7a57-4b93-949d-e5ba7a246da1\",\"type\":\"BasicTicker\"},{\"attributes\":{\"source\":{\"id\":\"ca3ffe05-bcee-419b-ad83-68b41245fd56\",\"type\":\"ColumnDataSource\"}},\"id\":\"8a8fdc54-b1ce-4e02-8ff8-a2809d28bae1\",\"type\":\"CDSView\"},{\"attributes\":{},\"id\":\"e2a34adf-e140-4da3-8b0b-7a07a6036a8c\",\"type\":\"LinearScale\"},{\"attributes\":{},\"id\":\"517da522-3d85-4bb5-a6b0-c19845f63a64\",\"type\":\"BasicTickFormatter\"},{\"attributes\":{\"level\":\"glyph\",\"plot\":{\"id\":\"e9968160-7149-4c0f-84a2-ed74fb253421\",\"type\":\"Plot\"},\"source\":{\"id\":\"ca3ffe05-bcee-419b-ad83-68b41245fd56\",\"type\":\"ColumnDataSource\"},\"text\":{\"field\":\"formated_values\"},\"text_font_size\":{\"value\":\"10pt\"},\"x\":{\"field\":\"values\"},\"x_offset\":{\"field\":\"x_offset\"},\"y\":{\"field\":\"metrics\"},\"y_offset\":{\"value\":-7.5}},\"id\":\"74a64ef7-9c7b-4ce8-8274-1689cc794955\",\"type\":\"LabelSet\"},{\"attributes\":{\"active_drag\":\"auto\",\"active_inspect\":\"auto\",\"active_scroll\":\"auto\",\"active_tap\":\"auto\"},\"id\":\"a2887d91-efa2-4230-a5f3-3652278a597c\",\"type\":\"Toolbar\"},{\"attributes\":{\"fill_color\":{\"field\":\"color\"},\"line_color\":{\"field\":\"color\"},\"size\":{\"units\":\"screen\",\"value\":16},\"x\":{\"field\":\"values\"},\"y\":{\"field\":\"metrics\"}},\"id\":\"8e92f1e2-a8f6-42a5-ab4e-23b2ecb08196\",\"type\":\"Circle\"},{\"attributes\":{\"below\":[{\"id\":\"35212bf5-344d-42a2-ae33-822111f3acd9\",\"type\":\"LinearAxis\"}],\"outline_line_color\":{\"value\":\"white\"},\"plot_height\":400,\"plot_width\":400,\"renderers\":[{\"id\":\"74f3bfd6-6f18-42d4-b214-49dac5b710fc\",\"type\":\"GlyphRenderer\"},{\"id\":\"2ae3bd28-acae-4f1e-a5eb-e841a19b49a9\",\"type\":\"GlyphRenderer\"},{\"id\":\"35212bf5-344d-42a2-ae33-822111f3acd9\",\"type\":\"LinearAxis\"},{\"id\":\"fea9f85d-cc83-4c3c-aba5-480ef547e8dd\",\"type\":\"GlyphRenderer\"},{\"id\":\"74a64ef7-9c7b-4ce8-8274-1689cc794955\",\"type\":\"LabelSet\"}],\"title\":{\"id\":\"ef6781ed-c8cd-4ee3-b408-76f56566a654\",\"type\":\"Title\"},\"toolbar\":{\"id\":\"a2887d91-efa2-4230-a5f3-3652278a597c\",\"type\":\"Toolbar\"},\"x_range\":{\"id\":\"dc70a8a8-afea-4cf4-a196-d54c3f082ca7\",\"type\":\"DataRange1d\"},\"x_scale\":{\"id\":\"e2a34adf-e140-4da3-8b0b-7a07a6036a8c\",\"type\":\"LinearScale\"},\"y_range\":{\"id\":\"eb2e99c0-1c0a-4ab3-b1ca-ecb9c6c85c41\",\"type\":\"FactorRange\"},\"y_scale\":{\"id\":\"d1f2664b-9c95-4a80-a369-661a40df9d04\",\"type\":\"CategoricalScale\"}},\"id\":\"e9968160-7149-4c0f-84a2-ed74fb253421\",\"type\":\"Plot\"},{\"attributes\":{\"data_source\":{\"id\":\"ca3ffe05-bcee-419b-ad83-68b41245fd56\",\"type\":\"ColumnDataSource\"},\"glyph\":{\"id\":\"2608949e-d248-4f90-9e4c-7fadd47b136f\",\"type\":\"HBar\"},\"hover_glyph\":null,\"muted_glyph\":null,\"view\":{\"id\":\"64ce6795-76bb-48cd-8150-31c2631ae129\",\"type\":\"CDSView\"}},\"id\":\"74f3bfd6-6f18-42d4-b214-49dac5b710fc\",\"type\":\"GlyphRenderer\"},{\"attributes\":{\"callback\":null,\"data\":{\"color\":[\"#9ecae1\",\"#fdbb84\",\"#fdbb84\"],\"design\":[10,10,15],\"deviation\":[-20.0,11.999999999999993,47.6],\"formated_values\":[\"8.0\",\"11.2\",\"22.1\"],\"metrics\":[\"AM1\",\"AM2\",\"AM3\"],\"minimum\":[20,20,30],\"percentage\":[\"-20%\",\"11%\",\"47%\"],\"stretch\":[5,5,10],\"values\":[8,11.2,22.14],\"x_offset\":[-35,10,10],\"y0\":[[\"AM1\",-0.25],[\"AM2\",-0.25],[\"AM3\",-0.25]],\"y1\":[[\"AM1\",0.25],[\"AM2\",0.25],[\"AM3\",0.25]]},\"selected\":{\"id\":\"2060e053-cce2-4ace-8438-3d68cf117397\",\"type\":\"Selection\"},\"selection_policy\":{\"id\":\"80d7d515-a648-4dc4-af75-278063fc5595\",\"type\":\"UnionRenderers\"}},\"id\":\"ca3ffe05-bcee-419b-ad83-68b41245fd56\",\"type\":\"ColumnDataSource\"},{\"attributes\":{\"callback\":null},\"id\":\"dc70a8a8-afea-4cf4-a196-d54c3f082ca7\",\"type\":\"DataRange1d\"},{\"attributes\":{\"data_source\":{\"id\":\"ca3ffe05-bcee-419b-ad83-68b41245fd56\",\"type\":\"ColumnDataSource\"},\"glyph\":{\"id\":\"8e92f1e2-a8f6-42a5-ab4e-23b2ecb08196\",\"type\":\"Circle\"},\"hover_glyph\":null,\"muted_glyph\":null,\"view\":{\"id\":\"8a8fdc54-b1ce-4e02-8ff8-a2809d28bae1\",\"type\":\"CDSView\"}},\"id\":\"fea9f85d-cc83-4c3c-aba5-480ef547e8dd\",\"type\":\"GlyphRenderer\"},{\"attributes\":{\"source\":{\"id\":\"ca3ffe05-bcee-419b-ad83-68b41245fd56\",\"type\":\"ColumnDataSource\"}},\"id\":\"64ce6795-76bb-48cd-8150-31c2631ae129\",\"type\":\"CDSView\"},{\"attributes\":{\"line_width\":{\"value\":4},\"x0\":{\"field\":\"design\"},\"x1\":{\"field\":\"design\"},\"y0\":{\"field\":\"y0\"},\"y1\":{\"field\":\"y1\"}},\"id\":\"58e0d41d-a9dc-4861-a459-f97e2a69fea8\",\"type\":\"Segment\"},{\"attributes\":{\"source\":{\"id\":\"ca3ffe05-bcee-419b-ad83-68b41245fd56\",\"type\":\"ColumnDataSource\"}},\"id\":\"4fd36e0a-b0a0-4b6e-a675-ffde2caf6fb9\",\"type\":\"CDSView\"},{\"attributes\":{\"data_source\":{\"id\":\"ca3ffe05-bcee-419b-ad83-68b41245fd56\",\"type\":\"ColumnDataSource\"},\"glyph\":{\"id\":\"58e0d41d-a9dc-4861-a459-f97e2a69fea8\",\"type\":\"Segment\"},\"hover_glyph\":null,\"muted_glyph\":null,\"view\":{\"id\":\"4fd36e0a-b0a0-4b6e-a675-ffde2caf6fb9\",\"type\":\"CDSView\"}},\"id\":\"2ae3bd28-acae-4f1e-a5eb-e841a19b49a9\",\"type\":\"GlyphRenderer\"},{\"attributes\":{\"axis_label\":\"AMx (marcsec)\",\"formatter\":{\"id\":\"517da522-3d85-4bb5-a6b0-c19845f63a64\",\"type\":\"BasicTickFormatter\"},\"plot\":{\"id\":\"e9968160-7149-4c0f-84a2-ed74fb253421\",\"type\":\"Plot\"},\"ticker\":{\"id\":\"f9800984-7a57-4b93-949d-e5ba7a246da1\",\"type\":\"BasicTicker\"}},\"id\":\"35212bf5-344d-42a2-ae33-822111f3acd9\",\"type\":\"LinearAxis\"},{\"attributes\":{},\"id\":\"80d7d515-a648-4dc4-af75-278063fc5595\",\"type\":\"UnionRenderers\"}],\"root_ids\":[\"e9968160-7149-4c0f-84a2-ed74fb253421\"]},\"title\":\"Bokeh Application\",\"version\":\"0.12.16\"}};\n",
       "  var render_items = [{\"docid\":\"fda63e88-4d95-4dc2-b03d-8537a6ffadba\",\"elementid\":\"3eff11c4-fd35-49d6-8776-46852093dc71\",\"modelid\":\"e9968160-7149-4c0f-84a2-ed74fb253421\"}];\n",
       "  root.Bokeh.embed.embed_items_notebook(docs_json, render_items);\n",
       "\n",
       "  }\n",
       "  if (root.Bokeh !== undefined) {\n",
       "    embed_document(root);\n",
       "  } else {\n",
       "    var attempts = 0;\n",
       "    var timer = setInterval(function(root) {\n",
       "      if (root.Bokeh !== undefined) {\n",
       "        embed_document(root);\n",
       "        clearInterval(timer);\n",
       "      }\n",
       "      attempts++;\n",
       "      if (attempts > 100) {\n",
       "        console.log(\"Bokeh: ERROR: Unable to run BokehJS code because BokehJS library is missing\")\n",
       "        clearInterval(timer);\n",
       "      }\n",
       "    }, 10, root)\n",
       "  }\n",
       "})(window);"
      ],
      "application/vnd.bokehjs_exec.v0+json": ""
     },
     "metadata": {
      "application/vnd.bokehjs_exec.v0+json": {
       "id": "e9968160-7149-4c0f-84a2-ed74fb253421"
      }
     },
     "output_type": "display_data"
    }
   ],
   "source": [
    "circle = Circle(x='values', y='metrics', size=16,\n",
    "                line_color='color', fill_color='color')\n",
    "\n",
    "p2.add_glyph(source, circle)\n",
    "\n",
    "source.data['formated_values'] = [\"{:.1f}\".format(x) for x in source.data['values']]\n",
    "\n",
    "labels = LabelSet(x='values', y='metrics', text=\"formated_values\", text_font_size=\"10pt\",\n",
    "                  x_offset='x_offset', y_offset=-7.5, level='glyph', source=source)\n",
    "\n",
    "p2.add_layout(labels)\n",
    "\n",
    "show(p2)"
   ]
  },
  {
   "cell_type": "markdown",
   "metadata": {},
   "source": [
    "Here's the final layout for the plots."
   ]
  },
  {
   "cell_type": "code",
   "execution_count": 10,
   "metadata": {},
   "outputs": [
    {
     "data": {
      "text/html": [
       "\n",
       "<div class=\"bk-root\">\n",
       "    <div class=\"bk-plotdiv\" id=\"121c6bb2-2e85-47ba-91bc-c0c6662bb845\"></div>\n",
       "</div>"
      ]
     },
     "metadata": {},
     "output_type": "display_data"
    },
    {
     "data": {
      "application/javascript": [
       "(function(root) {\n",
       "  function embed_document(root) {\n",
       "    \n",
       "  var docs_json = {\"af83ba4b-bb49-4c5b-b84b-efe8b9950ebd\":{\"roots\":{\"references\":[{\"attributes\":{\"plot\":null,\"text\":\"\"},\"id\":\"ef6781ed-c8cd-4ee3-b408-76f56566a654\",\"type\":\"Title\"},{\"attributes\":{},\"id\":\"f9800984-7a57-4b93-949d-e5ba7a246da1\",\"type\":\"BasicTicker\"},{\"attributes\":{},\"id\":\"e2a34adf-e140-4da3-8b0b-7a07a6036a8c\",\"type\":\"LinearScale\"},{\"attributes\":{},\"id\":\"517da522-3d85-4bb5-a6b0-c19845f63a64\",\"type\":\"BasicTickFormatter\"},{\"attributes\":{\"callback\":null,\"end\":100,\"start\":-100},\"id\":\"9a76b5e3-7718-4961-ab56-3b397884b443\",\"type\":\"Range1d\"},{\"attributes\":{\"active_drag\":\"auto\",\"active_inspect\":\"auto\",\"active_scroll\":\"auto\",\"active_tap\":\"auto\",\"logo\":null},\"id\":\"a2887d91-efa2-4230-a5f3-3652278a597c\",\"type\":\"Toolbar\"},{\"attributes\":{\"below\":[{\"id\":\"35212bf5-344d-42a2-ae33-822111f3acd9\",\"type\":\"LinearAxis\"}],\"outline_line_color\":{\"value\":\"white\"},\"plot_height\":400,\"plot_width\":400,\"renderers\":[{\"id\":\"74f3bfd6-6f18-42d4-b214-49dac5b710fc\",\"type\":\"GlyphRenderer\"},{\"id\":\"2ae3bd28-acae-4f1e-a5eb-e841a19b49a9\",\"type\":\"GlyphRenderer\"},{\"id\":\"35212bf5-344d-42a2-ae33-822111f3acd9\",\"type\":\"LinearAxis\"},{\"id\":\"fea9f85d-cc83-4c3c-aba5-480ef547e8dd\",\"type\":\"GlyphRenderer\"},{\"id\":\"74a64ef7-9c7b-4ce8-8274-1689cc794955\",\"type\":\"LabelSet\"}],\"title\":{\"id\":\"ef6781ed-c8cd-4ee3-b408-76f56566a654\",\"type\":\"Title\"},\"toolbar\":{\"id\":\"a2887d91-efa2-4230-a5f3-3652278a597c\",\"type\":\"Toolbar\"},\"x_range\":{\"id\":\"dc70a8a8-afea-4cf4-a196-d54c3f082ca7\",\"type\":\"DataRange1d\"},\"x_scale\":{\"id\":\"e2a34adf-e140-4da3-8b0b-7a07a6036a8c\",\"type\":\"LinearScale\"},\"y_range\":{\"id\":\"eb2e99c0-1c0a-4ab3-b1ca-ecb9c6c85c41\",\"type\":\"FactorRange\"},\"y_scale\":{\"id\":\"d1f2664b-9c95-4a80-a369-661a40df9d04\",\"type\":\"CategoricalScale\"}},\"id\":\"e9968160-7149-4c0f-84a2-ed74fb253421\",\"type\":\"Plot\"},{\"attributes\":{\"level\":\"glyph\",\"plot\":{\"id\":\"ed1c8790-07e1-4eeb-a111-e0e928a78648\",\"type\":\"Plot\"},\"source\":{\"id\":\"ca3ffe05-bcee-419b-ad83-68b41245fd56\",\"type\":\"ColumnDataSource\"},\"text\":{\"field\":\"percentage\"},\"text_font_size\":{\"value\":\"10pt\"},\"x\":{\"field\":\"deviation\"},\"x_offset\":{\"field\":\"x_offset\"},\"y\":{\"field\":\"metrics\"}},\"id\":\"f770d139-d322-41f6-8734-6abfb97daf49\",\"type\":\"LabelSet\"},{\"attributes\":{\"align\":\"center\",\"plot\":null,\"text\":\"% deviation from design\",\"text_font_size\":{\"value\":\"14pt\"}},\"id\":\"df4d32d1-efea-441e-8299-f9d3ffc9cb79\",\"type\":\"Title\"},{\"attributes\":{\"data_source\":{\"id\":\"ca3ffe05-bcee-419b-ad83-68b41245fd56\",\"type\":\"ColumnDataSource\"},\"glyph\":{\"id\":\"2608949e-d248-4f90-9e4c-7fadd47b136f\",\"type\":\"HBar\"},\"hover_glyph\":null,\"muted_glyph\":null,\"view\":{\"id\":\"64ce6795-76bb-48cd-8150-31c2631ae129\",\"type\":\"CDSView\"}},\"id\":\"74f3bfd6-6f18-42d4-b214-49dac5b710fc\",\"type\":\"GlyphRenderer\"},{\"attributes\":{\"callback\":null,\"data\":{\"color\":[\"#9ecae1\",\"#fdbb84\",\"#fdbb84\"],\"design\":[10,10,15],\"deviation\":[-20.0,11.999999999999993,47.6],\"formated_values\":[\"8.0\",\"11.2\",\"22.1\"],\"metrics\":[\"AM1\",\"AM2\",\"AM3\"],\"minimum\":[20,20,30],\"percentage\":[\"-20%\",\"11%\",\"47%\"],\"stretch\":[5,5,10],\"values\":[8,11.2,22.14],\"x_offset\":[-35,10,10],\"y0\":[[\"AM1\",-0.25],[\"AM2\",-0.25],[\"AM3\",-0.25]],\"y1\":[[\"AM1\",0.25],[\"AM2\",0.25],[\"AM3\",0.25]]},\"selected\":{\"id\":\"2060e053-cce2-4ace-8438-3d68cf117397\",\"type\":\"Selection\"},\"selection_policy\":{\"id\":\"80d7d515-a648-4dc4-af75-278063fc5595\",\"type\":\"UnionRenderers\"}},\"id\":\"ca3ffe05-bcee-419b-ad83-68b41245fd56\",\"type\":\"ColumnDataSource\"},{\"attributes\":{\"callback\":null},\"id\":\"dc70a8a8-afea-4cf4-a196-d54c3f082ca7\",\"type\":\"DataRange1d\"},{\"attributes\":{\"active_drag\":\"auto\",\"active_inspect\":\"auto\",\"active_scroll\":\"auto\",\"active_tap\":\"auto\",\"logo\":null},\"id\":\"46e9e3ba-d372-457c-8efe-2af597db8cb0\",\"type\":\"Toolbar\"},{\"attributes\":{\"line_width\":{\"value\":4},\"x0\":{\"field\":\"design\"},\"x1\":{\"field\":\"design\"},\"y0\":{\"field\":\"y0\"},\"y1\":{\"field\":\"y1\"}},\"id\":\"58e0d41d-a9dc-4861-a459-f97e2a69fea8\",\"type\":\"Segment\"},{\"attributes\":{\"fixed_location\":0,\"formatter\":{\"id\":\"d9ef8fd6-0f90-4017-b4a5-cb5311beeeee\",\"type\":\"CategoricalTickFormatter\"},\"major_label_standoff\":100,\"major_label_text_font_size\":{\"value\":\"14pt\"},\"plot\":{\"id\":\"ed1c8790-07e1-4eeb-a111-e0e928a78648\",\"type\":\"Plot\"},\"ticker\":{\"id\":\"0655239d-d28f-4b12-ae56-814eb2d29721\",\"type\":\"CategoricalTicker\"}},\"id\":\"e9d48c92-08c7-4aeb-a586-7b8a19f2fe1f\",\"type\":\"CategoricalAxis\"},{\"attributes\":{\"left\":[{\"id\":\"e9d48c92-08c7-4aeb-a586-7b8a19f2fe1f\",\"type\":\"CategoricalAxis\"}],\"outline_line_color\":{\"value\":\"white\"},\"plot_height\":400,\"plot_width\":400,\"renderers\":[{\"id\":\"8eb9c5ba-7eaf-4eea-8d7e-b4eb05f8fbd9\",\"type\":\"GlyphRenderer\"},{\"id\":\"e9d48c92-08c7-4aeb-a586-7b8a19f2fe1f\",\"type\":\"CategoricalAxis\"},{\"id\":\"f770d139-d322-41f6-8734-6abfb97daf49\",\"type\":\"LabelSet\"}],\"title\":{\"id\":\"df4d32d1-efea-441e-8299-f9d3ffc9cb79\",\"type\":\"Title\"},\"toolbar\":{\"id\":\"46e9e3ba-d372-457c-8efe-2af597db8cb0\",\"type\":\"Toolbar\"},\"x_range\":{\"id\":\"9a76b5e3-7718-4961-ab56-3b397884b443\",\"type\":\"Range1d\"},\"x_scale\":{\"id\":\"66e96c7d-54dd-44ab-bce0-1a06380f3f95\",\"type\":\"LinearScale\"},\"y_range\":{\"id\":\"5a477291-e790-44fe-8b3c-342cdbeddb85\",\"type\":\"FactorRange\"},\"y_scale\":{\"id\":\"f1f5815f-c48f-4fa0-8a25-9b9a67ab2d2c\",\"type\":\"CategoricalScale\"}},\"id\":\"ed1c8790-07e1-4eeb-a111-e0e928a78648\",\"type\":\"Plot\"},{\"attributes\":{},\"id\":\"80d7d515-a648-4dc4-af75-278063fc5595\",\"type\":\"UnionRenderers\"},{\"attributes\":{\"source\":{\"id\":\"ca3ffe05-bcee-419b-ad83-68b41245fd56\",\"type\":\"ColumnDataSource\"}},\"id\":\"0e4a177b-0c95-4004-a650-3edcab534199\",\"type\":\"CDSView\"},{\"attributes\":{\"fill_color\":{\"field\":\"color\"},\"height\":{\"value\":0.5},\"line_color\":{\"field\":\"color\"},\"right\":{\"field\":\"deviation\"},\"y\":{\"field\":\"metrics\"}},\"id\":\"2e62eb5c-a2ec-47d4-b029-603ca32601fc\",\"type\":\"HBar\"},{\"attributes\":{},\"id\":\"2060e053-cce2-4ace-8438-3d68cf117397\",\"type\":\"Selection\"},{\"attributes\":{\"callback\":null,\"factors\":[\"AM1\",\"AM2\",\"AM3\"]},\"id\":\"eb2e99c0-1c0a-4ab3-b1ca-ecb9c6c85c41\",\"type\":\"FactorRange\"},{\"attributes\":{\"fill_color\":{\"value\":\"lightgray\"},\"height\":{\"value\":0.5},\"left\":{\"field\":\"stretch\"},\"line_color\":{\"value\":\"lightgray\"},\"right\":{\"field\":\"minimum\"},\"y\":{\"field\":\"metrics\"}},\"id\":\"2608949e-d248-4f90-9e4c-7fadd47b136f\",\"type\":\"HBar\"},{\"attributes\":{},\"id\":\"d1f2664b-9c95-4a80-a369-661a40df9d04\",\"type\":\"CategoricalScale\"},{\"attributes\":{\"source\":{\"id\":\"ca3ffe05-bcee-419b-ad83-68b41245fd56\",\"type\":\"ColumnDataSource\"}},\"id\":\"8a8fdc54-b1ce-4e02-8ff8-a2809d28bae1\",\"type\":\"CDSView\"},{\"attributes\":{},\"id\":\"0655239d-d28f-4b12-ae56-814eb2d29721\",\"type\":\"CategoricalTicker\"},{\"attributes\":{},\"id\":\"d9ef8fd6-0f90-4017-b4a5-cb5311beeeee\",\"type\":\"CategoricalTickFormatter\"},{\"attributes\":{\"level\":\"glyph\",\"plot\":{\"id\":\"e9968160-7149-4c0f-84a2-ed74fb253421\",\"type\":\"Plot\"},\"source\":{\"id\":\"ca3ffe05-bcee-419b-ad83-68b41245fd56\",\"type\":\"ColumnDataSource\"},\"text\":{\"field\":\"formated_values\"},\"text_font_size\":{\"value\":\"10pt\"},\"x\":{\"field\":\"values\"},\"x_offset\":{\"field\":\"x_offset\"},\"y\":{\"field\":\"metrics\"},\"y_offset\":{\"value\":-7.5}},\"id\":\"74a64ef7-9c7b-4ce8-8274-1689cc794955\",\"type\":\"LabelSet\"},{\"attributes\":{\"callback\":null,\"factors\":[\"AM1\",\"AM2\",\"AM3\"]},\"id\":\"5a477291-e790-44fe-8b3c-342cdbeddb85\",\"type\":\"FactorRange\"},{\"attributes\":{},\"id\":\"f1f5815f-c48f-4fa0-8a25-9b9a67ab2d2c\",\"type\":\"CategoricalScale\"},{\"attributes\":{\"fill_color\":{\"field\":\"color\"},\"line_color\":{\"field\":\"color\"},\"size\":{\"units\":\"screen\",\"value\":16},\"x\":{\"field\":\"values\"},\"y\":{\"field\":\"metrics\"}},\"id\":\"8e92f1e2-a8f6-42a5-ab4e-23b2ecb08196\",\"type\":\"Circle\"},{\"attributes\":{\"data_source\":{\"id\":\"ca3ffe05-bcee-419b-ad83-68b41245fd56\",\"type\":\"ColumnDataSource\"},\"glyph\":{\"id\":\"8e92f1e2-a8f6-42a5-ab4e-23b2ecb08196\",\"type\":\"Circle\"},\"hover_glyph\":null,\"muted_glyph\":null,\"view\":{\"id\":\"8a8fdc54-b1ce-4e02-8ff8-a2809d28bae1\",\"type\":\"CDSView\"}},\"id\":\"fea9f85d-cc83-4c3c-aba5-480ef547e8dd\",\"type\":\"GlyphRenderer\"},{\"attributes\":{\"source\":{\"id\":\"ca3ffe05-bcee-419b-ad83-68b41245fd56\",\"type\":\"ColumnDataSource\"}},\"id\":\"64ce6795-76bb-48cd-8150-31c2631ae129\",\"type\":\"CDSView\"},{\"attributes\":{\"source\":{\"id\":\"ca3ffe05-bcee-419b-ad83-68b41245fd56\",\"type\":\"ColumnDataSource\"}},\"id\":\"4fd36e0a-b0a0-4b6e-a675-ffde2caf6fb9\",\"type\":\"CDSView\"},{\"attributes\":{\"data_source\":{\"id\":\"ca3ffe05-bcee-419b-ad83-68b41245fd56\",\"type\":\"ColumnDataSource\"},\"glyph\":{\"id\":\"2e62eb5c-a2ec-47d4-b029-603ca32601fc\",\"type\":\"HBar\"},\"hover_glyph\":null,\"muted_glyph\":null,\"view\":{\"id\":\"0e4a177b-0c95-4004-a650-3edcab534199\",\"type\":\"CDSView\"}},\"id\":\"8eb9c5ba-7eaf-4eea-8d7e-b4eb05f8fbd9\",\"type\":\"GlyphRenderer\"},{\"attributes\":{\"data_source\":{\"id\":\"ca3ffe05-bcee-419b-ad83-68b41245fd56\",\"type\":\"ColumnDataSource\"},\"glyph\":{\"id\":\"58e0d41d-a9dc-4861-a459-f97e2a69fea8\",\"type\":\"Segment\"},\"hover_glyph\":null,\"muted_glyph\":null,\"view\":{\"id\":\"4fd36e0a-b0a0-4b6e-a675-ffde2caf6fb9\",\"type\":\"CDSView\"}},\"id\":\"2ae3bd28-acae-4f1e-a5eb-e841a19b49a9\",\"type\":\"GlyphRenderer\"},{\"attributes\":{},\"id\":\"66e96c7d-54dd-44ab-bce0-1a06380f3f95\",\"type\":\"LinearScale\"},{\"attributes\":{\"axis_label\":\"AMx (marcsec)\",\"formatter\":{\"id\":\"517da522-3d85-4bb5-a6b0-c19845f63a64\",\"type\":\"BasicTickFormatter\"},\"plot\":{\"id\":\"e9968160-7149-4c0f-84a2-ed74fb253421\",\"type\":\"Plot\"},\"ticker\":{\"id\":\"f9800984-7a57-4b93-949d-e5ba7a246da1\",\"type\":\"BasicTicker\"}},\"id\":\"35212bf5-344d-42a2-ae33-822111f3acd9\",\"type\":\"LinearAxis\"},{\"attributes\":{\"children\":[{\"id\":\"ed1c8790-07e1-4eeb-a111-e0e928a78648\",\"type\":\"Plot\"},{\"id\":\"e9968160-7149-4c0f-84a2-ed74fb253421\",\"type\":\"Plot\"}]},\"id\":\"1d943c09-02b7-4ea2-af27-d46d6a083e35\",\"type\":\"Row\"}],\"root_ids\":[\"1d943c09-02b7-4ea2-af27-d46d6a083e35\"]},\"title\":\"Bokeh Application\",\"version\":\"0.12.16\"}};\n",
       "  var render_items = [{\"docid\":\"af83ba4b-bb49-4c5b-b84b-efe8b9950ebd\",\"elementid\":\"121c6bb2-2e85-47ba-91bc-c0c6662bb845\",\"modelid\":\"1d943c09-02b7-4ea2-af27-d46d6a083e35\"}];\n",
       "  root.Bokeh.embed.embed_items_notebook(docs_json, render_items);\n",
       "\n",
       "  }\n",
       "  if (root.Bokeh !== undefined) {\n",
       "    embed_document(root);\n",
       "  } else {\n",
       "    var attempts = 0;\n",
       "    var timer = setInterval(function(root) {\n",
       "      if (root.Bokeh !== undefined) {\n",
       "        embed_document(root);\n",
       "        clearInterval(timer);\n",
       "      }\n",
       "      attempts++;\n",
       "      if (attempts > 100) {\n",
       "        console.log(\"Bokeh: ERROR: Unable to run BokehJS code because BokehJS library is missing\")\n",
       "        clearInterval(timer);\n",
       "      }\n",
       "    }, 10, root)\n",
       "  }\n",
       "})(window);"
      ],
      "application/vnd.bokehjs_exec.v0+json": ""
     },
     "metadata": {
      "application/vnd.bokehjs_exec.v0+json": {
       "id": "1d943c09-02b7-4ea2-af27-d46d6a083e35"
      }
     },
     "output_type": "display_data"
    }
   ],
   "source": [
    "p1.toolbar.logo = None\n",
    "p2.toolbar.logo = None\n",
    "show(row(p1, p2))"
   ]
  }
 ],
 "metadata": {
  "kernelspec": {
   "display_name": "Python 3",
   "language": "python",
   "name": "python3"
  },
  "language_info": {
   "codemirror_mode": {
    "name": "ipython",
    "version": 3
   },
   "file_extension": ".py",
   "mimetype": "text/x-python",
   "name": "python",
   "nbconvert_exporter": "python",
   "pygments_lexer": "ipython3",
   "version": "3.6.3"
  },
  "toc": {
   "base_numbering": 1,
   "nav_menu": {},
   "number_sections": true,
   "sideBar": true,
   "skip_h1_title": false,
   "title_cell": "Table of Contents",
   "title_sidebar": "Contents",
   "toc_cell": false,
   "toc_position": {},
   "toc_section_display": true,
   "toc_window_display": false
  }
 },
 "nbformat": 4,
 "nbformat_minor": 2
}
